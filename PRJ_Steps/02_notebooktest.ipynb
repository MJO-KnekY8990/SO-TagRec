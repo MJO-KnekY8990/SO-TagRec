{
 "cells": [
  {
   "cell_type": "code",
   "execution_count": 1,
   "metadata": {},
   "outputs": [
    {
     "name": "stderr",
     "output_type": "stream",
     "text": [
      "G:\\Logiciels\\Anaconda\\lib\\site-packages\\sklearn\\externals\\joblib\\__init__.py:15: FutureWarning: sklearn.externals.joblib is deprecated in 0.21 and will be removed in 0.23. Please import this functionality directly from joblib, which can be installed with: pip install joblib. If this warning is raised when loading pickled models, you may need to re-serialize those models with scikit-learn 0.21+.\n",
      "  warnings.warn(msg, category=FutureWarning)\n"
     ]
    }
   ],
   "source": [
    "#%%flake8  # checking PEP8 compliance\n",
    "# Importation des diverses libraires\n",
    "import re\n",
    "import statsmodels.api as sm\n",
    "import statsmodels.formula.api as smf\n",
    "from scipy import stats\n",
    "import warnings\n",
    "import pandas as pd\n",
    "import numpy as np\n",
    "import matplotlib.pyplot as plt\n",
    "import researchpy as rp\n",
    "from datetime import datetime, timedelta\n",
    "\n",
    "from bs4 import BeautifulSoup\n",
    "from sklearn.feature_extraction.text import CountVectorizer, TfidfVectorizer\n",
    "import word2vec as w2v\n",
    "import nltk\n",
    "from nltk.corpus import stopwords\n",
    "import string\n",
    "from nltk.stem import WordNetLemmatizer, PorterStemmer, LancasterStemmer\n",
    "\n",
    "import seaborn as sns\n",
    "sns.set(style='white', context='notebook', palette='deep')\n",
    "\n",
    "\n",
    "warnings.filterwarnings(\"ignore\", category=DeprecationWarning)\n",
    "warnings.simplefilter(\"ignore\")\n",
    "\n",
    "pd.set_option('display.max_columns', 100)\n",
    "\n",
    "\n",
    "%config InlineBackend.figure_format = 'png'\n",
    "%matplotlib inline"
   ]
  },
  {
   "cell_type": "code",
   "execution_count": 2,
   "metadata": {},
   "outputs": [],
   "source": [
    "from sklearn.decomposition import LatentDirichletAllocation, NMF\n",
    "\n",
    "from sklearn.model_selection import GridSearchCV, train_test_split, KFold\n",
    "\n",
    "from sklearn.multiclass import OneVsRestClassifier\n",
    "from sklearn.multioutput import MultiOutputClassifier, ClassifierChain\n",
    "from sklearn.preprocessing import MultiLabelBinarizer\n",
    "\n",
    "from sklearn.linear_model import LogisticRegression\n",
    "from sklearn.svm import LinearSVC\n",
    "from sklearn.naive_bayes import MultinomialNB\n",
    "from sklearn.neural_network import MLPClassifier\n",
    "from sklearn.ensemble import RandomForestClassifier"
   ]
  },
  {
   "cell_type": "code",
   "execution_count": 3,
   "metadata": {},
   "outputs": [],
   "source": [
    "df = pd.read_hdf('dataframe_clean.h5')\n",
    "it_tags_dict = pd.read_hdf('it_dict_syno.h5').values"
   ]
  },
  {
   "cell_type": "code",
   "execution_count": 4,
   "metadata": {},
   "outputs": [],
   "source": [
    "# Number of words of the TF-IDF projection, we saw that 99% of the processed posts contain 546 words or less\n",
    "tfidf_max_feat = 546"
   ]
  },
  {
   "cell_type": "code",
   "execution_count": 5,
   "metadata": {},
   "outputs": [
    {
     "data": {
      "text/html": [
       "<div>\n",
       "<style scoped>\n",
       "    .dataframe tbody tr th:only-of-type {\n",
       "        vertical-align: middle;\n",
       "    }\n",
       "\n",
       "    .dataframe tbody tr th {\n",
       "        vertical-align: top;\n",
       "    }\n",
       "\n",
       "    .dataframe thead th {\n",
       "        text-align: right;\n",
       "    }\n",
       "</style>\n",
       "<table border=\"1\" class=\"dataframe\">\n",
       "  <thead>\n",
       "    <tr style=\"text-align: right;\">\n",
       "      <th></th>\n",
       "      <th>Tags_stripped</th>\n",
       "      <th>Text</th>\n",
       "      <th>Tags_in_IT_dict</th>\n",
       "      <th>Text_lemmatized</th>\n",
       "      <th>Text_stem_porter</th>\n",
       "      <th>Text_stem_lanca</th>\n",
       "    </tr>\n",
       "  </thead>\n",
       "  <tbody>\n",
       "    <tr>\n",
       "      <th>0</th>\n",
       "      <td>[visual studio, roslyn, debugging, c#]</td>\n",
       "      <td>debugging dll roslyn compilation roslyn csharp...</td>\n",
       "      <td>[visual studio, debugging, c#]</td>\n",
       "      <td>debugging dll roslyn compilation roslyn csharp...</td>\n",
       "      <td>debugging dll roslyn compilation roslyn csharp...</td>\n",
       "      <td>debugging dll roslyn compilation roslyn csharp...</td>\n",
       "    </tr>\n",
       "    <tr>\n",
       "      <th>1</th>\n",
       "      <td>[python, keras]</td>\n",
       "      <td>regularization keras regularization keras roug...</td>\n",
       "      <td>[python, keras]</td>\n",
       "      <td>regularization keras regularization keras roug...</td>\n",
       "      <td>regularization keras regularization keras roug...</td>\n",
       "      <td>regularization keras regularization keras roug...</td>\n",
       "    </tr>\n",
       "  </tbody>\n",
       "</table>\n",
       "</div>"
      ],
      "text/plain": [
       "                            Tags_stripped  \\\n",
       "0  [visual studio, roslyn, debugging, c#]   \n",
       "1                         [python, keras]   \n",
       "\n",
       "                                                Text  \\\n",
       "0  debugging dll roslyn compilation roslyn csharp...   \n",
       "1  regularization keras regularization keras roug...   \n",
       "\n",
       "                  Tags_in_IT_dict  \\\n",
       "0  [visual studio, debugging, c#]   \n",
       "1                 [python, keras]   \n",
       "\n",
       "                                     Text_lemmatized  \\\n",
       "0  debugging dll roslyn compilation roslyn csharp...   \n",
       "1  regularization keras regularization keras roug...   \n",
       "\n",
       "                                    Text_stem_porter  \\\n",
       "0  debugging dll roslyn compilation roslyn csharp...   \n",
       "1  regularization keras regularization keras roug...   \n",
       "\n",
       "                                     Text_stem_lanca  \n",
       "0  debugging dll roslyn compilation roslyn csharp...  \n",
       "1  regularization keras regularization keras roug...  "
      ]
     },
     "execution_count": 5,
     "metadata": {},
     "output_type": "execute_result"
    }
   ],
   "source": [
    "df.head(2)"
   ]
  },
  {
   "cell_type": "code",
   "execution_count": 6,
   "metadata": {},
   "outputs": [
    {
     "data": {
      "text/plain": [
       "MultiLabelBinarizer(classes=None, sparse_output=True)"
      ]
     },
     "execution_count": 6,
     "metadata": {},
     "output_type": "execute_result"
    }
   ],
   "source": [
    "mlb = MultiLabelBinarizer(sparse_output=True)\n",
    "mlb.fit(df[\"Tags_in_IT_dict\"])"
   ]
  },
  {
   "cell_type": "code",
   "execution_count": 7,
   "metadata": {},
   "outputs": [],
   "source": [
    "ytags = mlb.transform(df[\"Tags_in_IT_dict\"])"
   ]
  },
  {
   "cell_type": "code",
   "execution_count": 8,
   "metadata": {},
   "outputs": [],
   "source": [
    "y_t = pd.DataFrame(ytags.todense())"
   ]
  },
  {
   "cell_type": "code",
   "execution_count": 9,
   "metadata": {},
   "outputs": [],
   "source": [
    "y_t[\"Sum\"] = [x.sum() for _, x in y_t.iterrows()]"
   ]
  },
  {
   "cell_type": "code",
   "execution_count": 10,
   "metadata": {},
   "outputs": [
    {
     "data": {
      "text/plain": [
       "<matplotlib.axes._subplots.AxesSubplot at 0x1d579b2dcc8>"
      ]
     },
     "execution_count": 10,
     "metadata": {},
     "output_type": "execute_result"
    },
    {
     "data": {
      "image/png": "[encoded data removed]",
      "text/plain": [
       "<Figure size 432x288 with 1 Axes>"
      ]
     },
     "metadata": {
      "needs_background": "light"
     },
     "output_type": "display_data"
    }
   ],
   "source": [
    "sns.distplot(y_t[\"Sum\"])"
   ]
  },
  {
   "cell_type": "code",
   "execution_count": 11,
   "metadata": {},
   "outputs": [],
   "source": [
    "# Removing posts without tags\n",
    "df.drop(index=y_t[y_t[\"Sum\"] == 0].index,\n",
    "        inplace=True)"
   ]
  },
  {
   "cell_type": "code",
   "execution_count": 12,
   "metadata": {},
   "outputs": [
    {
     "data": {
      "text/plain": [
       "MultiLabelBinarizer(classes=None, sparse_output=True)"
      ]
     },
     "execution_count": 12,
     "metadata": {},
     "output_type": "execute_result"
    }
   ],
   "source": [
    "mlb = MultiLabelBinarizer(sparse_output=True)\n",
    "mlb.fit(df[\"Tags_in_IT_dict\"])"
   ]
  },
  {
   "cell_type": "code",
   "execution_count": 13,
   "metadata": {},
   "outputs": [],
   "source": [
    "ytags = mlb.transform(df[\"Tags_in_IT_dict\"])"
   ]
  },
  {
   "cell_type": "code",
   "execution_count": 14,
   "metadata": {},
   "outputs": [],
   "source": [
    "y_t = pd.DataFrame(ytags.todense())"
   ]
  },
  {
   "cell_type": "code",
   "execution_count": 15,
   "metadata": {},
   "outputs": [],
   "source": [
    "y_t[\"Sum\"] = [x.sum() for _, x in y_t.iterrows()]"
   ]
  },
  {
   "cell_type": "code",
   "execution_count": 16,
   "metadata": {},
   "outputs": [
    {
     "data": {
      "text/plain": [
       "<matplotlib.axes._subplots.AxesSubplot at 0x1d5044a86c8>"
      ]
     },
     "execution_count": 16,
     "metadata": {},
     "output_type": "execute_result"
    },
    {
     "data": {
      "image/png": "[encoded data removed]",
      "text/plain": [
       "<Figure size 432x288 with 1 Axes>"
      ]
     },
     "metadata": {
      "needs_background": "light"
     },
     "output_type": "display_data"
    }
   ],
   "source": [
    "sns.distplot(y_t[\"Sum\"])"
   ]
  },
  {
   "cell_type": "code",
   "execution_count": 17,
   "metadata": {},
   "outputs": [
    {
     "data": {
      "text/plain": [
       "count    52639.000000\n",
       "mean         2.221908\n",
       "std          1.091478\n",
       "min          1.000000\n",
       "25%          1.000000\n",
       "50%          2.000000\n",
       "75%          3.000000\n",
       "max          8.000000\n",
       "Name: Sum, dtype: float64"
      ]
     },
     "execution_count": 17,
     "metadata": {},
     "output_type": "execute_result"
    }
   ],
   "source": [
    "y_t[\"Sum\"].describe()"
   ]
  },
  {
   "cell_type": "code",
   "execution_count": 18,
   "metadata": {},
   "outputs": [],
   "source": [
    "from sklearn.metrics import jaccard_score"
   ]
  },
  {
   "cell_type": "code",
   "execution_count": 19,
   "metadata": {},
   "outputs": [],
   "source": [
    "def wstokenize(text):\n",
    "    return nltk.WhitespaceTokenizer().tokenize(text)"
   ]
  },
  {
   "cell_type": "code",
   "execution_count": 20,
   "metadata": {},
   "outputs": [],
   "source": [
    "def tagz_from_it(text, num_tag):\n",
    "    # whitespace token\n",
    "    wtext = wstokenize(text)\n",
    "    temp = []\n",
    "    for w in wtext:\n",
    "        if w in it_tags_dict:\n",
    "            temp.append(w)\n",
    "    return list(pd.Series(temp).value_counts().index)[:num_tag]"
   ]
  },
  {
   "cell_type": "code",
   "execution_count": 177,
   "metadata": {},
   "outputs": [],
   "source": [
    "xtext = df[\"Text\"]\n",
    "X_train, X_test, y_train, y_test = train_test_split(xtext,\n",
    "                                                    ytags,\n",
    "                                                    test_size=0.2,\n",
    "                                                    random_state=42)"
   ]
  },
  {
   "cell_type": "code",
   "execution_count": 180,
   "metadata": {},
   "outputs": [
    {
     "data": {
      "text/plain": [
       "0.22731263543301203"
      ]
     },
     "execution_count": 180,
     "metadata": {},
     "output_type": "execute_result"
    }
   ],
   "source": [
    "tag_it_1 = [tagz_from_it(text, 1) for text in X_train]\n",
    "jaccard_score(mlb.transform(tag_it_1), y_train, average='micro')"
   ]
  },
  {
   "cell_type": "code",
   "execution_count": 181,
   "metadata": {},
   "outputs": [
    {
     "data": {
      "text/plain": [
       "0.30117524114422206"
      ]
     },
     "execution_count": 181,
     "metadata": {},
     "output_type": "execute_result"
    }
   ],
   "source": [
    "tag_it_2 = [tagz_from_it(text, 2) for text in X_train]\n",
    "jaccard_score(mlb.transform(tag_it_2), y_train, average='micro')"
   ]
  },
  {
   "cell_type": "code",
   "execution_count": 182,
   "metadata": {},
   "outputs": [
    {
     "data": {
      "text/plain": [
       "0.3179238254698505"
      ]
     },
     "execution_count": 182,
     "metadata": {},
     "output_type": "execute_result"
    }
   ],
   "source": [
    "tag_it_3 = [tagz_from_it(text, 3) for text in X_train]\n",
    "jaccard_score(mlb.transform(tag_it_3), y_train, average='micro')"
   ]
  },
  {
   "cell_type": "code",
   "execution_count": 183,
   "metadata": {},
   "outputs": [
    {
     "data": {
      "text/plain": [
       "0.3194385242889689"
      ]
     },
     "execution_count": 183,
     "metadata": {},
     "output_type": "execute_result"
    }
   ],
   "source": [
    "tag_it_4 = [tagz_from_it(text, 4) for text in X_train]\n",
    "jaccard_score(mlb.transform(tag_it_4), y_train, average='micro')"
   ]
  },
  {
   "cell_type": "code",
   "execution_count": 184,
   "metadata": {},
   "outputs": [
    {
     "data": {
      "text/plain": [
       "0.3175519216569048"
      ]
     },
     "execution_count": 184,
     "metadata": {},
     "output_type": "execute_result"
    }
   ],
   "source": [
    "tag_it_5 = [tagz_from_it(text ,5) for text in X_train]\n",
    "jaccard_score(mlb.transform(tag_it_5), y_train, average='micro')"
   ]
  },
  {
   "cell_type": "code",
   "execution_count": 186,
   "metadata": {},
   "outputs": [
    {
     "data": {
      "text/plain": [
       "0.22674571310645003"
      ]
     },
     "execution_count": 186,
     "metadata": {},
     "output_type": "execute_result"
    }
   ],
   "source": [
    "tag_it_1_t = [tagz_from_it(text, 1) for text in X_test]\n",
    "jaccard_score(mlb.transform(tag_it_1_t), y_test, average='micro')"
   ]
  },
  {
   "cell_type": "code",
   "execution_count": 187,
   "metadata": {},
   "outputs": [
    {
     "data": {
      "text/plain": [
       "0.2989649549039838"
      ]
     },
     "execution_count": 187,
     "metadata": {},
     "output_type": "execute_result"
    }
   ],
   "source": [
    "tag_it_2_t = [tagz_from_it(text, 2) for text in X_test]\n",
    "jaccard_score(mlb.transform(tag_it_2_t), y_test, average='micro')"
   ]
  },
  {
   "cell_type": "code",
   "execution_count": 188,
   "metadata": {},
   "outputs": [
    {
     "data": {
      "text/plain": [
       "0.31560119653375274"
      ]
     },
     "execution_count": 188,
     "metadata": {},
     "output_type": "execute_result"
    }
   ],
   "source": [
    "tag_it_3_t = [tagz_from_it(text, 3) for text in X_test]\n",
    "jaccard_score(mlb.transform(tag_it_3_t), y_test, average='micro')"
   ]
  },
  {
   "cell_type": "code",
   "execution_count": 189,
   "metadata": {},
   "outputs": [
    {
     "data": {
      "text/plain": [
       "0.31787825059101654"
      ]
     },
     "execution_count": 189,
     "metadata": {},
     "output_type": "execute_result"
    }
   ],
   "source": [
    "tag_it_4_t = [tagz_from_it(text, 4) for text in X_test]\n",
    "jaccard_score(mlb.transform(tag_it_4_t), y_test, average='micro')"
   ]
  },
  {
   "cell_type": "code",
   "execution_count": 190,
   "metadata": {},
   "outputs": [
    {
     "data": {
      "text/plain": [
       "0.31622650213354864"
      ]
     },
     "execution_count": 190,
     "metadata": {},
     "output_type": "execute_result"
    }
   ],
   "source": [
    "tag_it_5_t = [tagz_from_it(text, 5) for text in X_test]\n",
    "jaccard_score(mlb.transform(tag_it_5_t), y_test, average='micro')"
   ]
  },
  {
   "cell_type": "code",
   "execution_count": 21,
   "metadata": {},
   "outputs": [],
   "source": [
    "tags_it_train_1 = 0.22731263543301203\n",
    "tags_it_train_2 = 0.30117524114422206\n",
    "tags_it_train_3 = 0.3179238254698505\n",
    "tags_it_train_4 = 0.3194385242889689\n",
    "tags_it_train_5 = 0.3175519216569048\n",
    "tags_it_test_1 = 0.22674571310645003\n",
    "tags_it_test_2 = 0.2989649549039838\n",
    "tags_it_test_3 = 0.31560119653375274\n",
    "tags_it_test_4 = 0.31787825059101654\n",
    "tags_it_test_5 = 0.31622650213354864"
   ]
  },
  {
   "cell_type": "code",
   "execution_count": 29,
   "metadata": {},
   "outputs": [],
   "source": [
    "tags_it_train = [tags_it_train_1*100,\n",
    "                 tags_it_train_2*100,\n",
    "                 tags_it_train_3*100,\n",
    "                 tags_it_train_4*100,\n",
    "                 tags_it_train_5*100]\n",
    "tags_it_test = [tags_it_test_1*100,\n",
    "                tags_it_test_2*100,\n",
    "                tags_it_test_3*100,\n",
    "                tags_it_test_4*100,\n",
    "                tags_it_test_5*100]"
   ]
  },
  {
   "cell_type": "code",
   "execution_count": 39,
   "metadata": {},
   "outputs": [
    {
     "data": {
      "image/png": "[encoded data removed]",
      "text/plain": [
       "<Figure size 864x432 with 1 Axes>"
      ]
     },
     "metadata": {
      "needs_background": "light"
     },
     "output_type": "display_data"
    }
   ],
   "source": [
    "fig, ax = plt.subplots(figsize=(12, 6))\n",
    "leg = [\"Tag_IT_Train\", \"Tag_IT_Test\"]\n",
    "plt.plot(np.arange(5)+1, tags_it_train)\n",
    "plt.plot(np.arange(5)+1, tags_it_test)\n",
    "plt.ylabel(\"Jaccard Score (%)\", fontsize=18)\n",
    "plt.xlabel(\"Number of tags at output\", fontsize=18)\n",
    "plt.title(\"IT Tags - Jaccard Score evolution \\\n",
    "          \\naccording to number of recommended tags\",\n",
    "          fontsize=20)\n",
    "ax.tick_params(labelsize=16)\n",
    "plt.xticks(np.arange(5)+1)\n",
    "fig.patch.set_alpha(0)\n",
    "ax.spines['top'].set_visible(False)\n",
    "ax.spines['right'].set_visible(False)\n",
    "plt.legend(leg, fontsize=16)\n",
    "plt.show()"
   ]
  },
  {
   "cell_type": "code",
   "execution_count": 19,
   "metadata": {},
   "outputs": [],
   "source": [
    "xtext = df[\"Text_lemmatized\"]"
   ]
  },
  {
   "cell_type": "code",
   "execution_count": 20,
   "metadata": {},
   "outputs": [],
   "source": [
    "X_train, X_test, y_train, y_test = train_test_split(xtext,\n",
    "                                                    ytags,\n",
    "                                                    test_size=0.2,\n",
    "                                                    random_state=42)"
   ]
  },
  {
   "cell_type": "code",
   "execution_count": 21,
   "metadata": {},
   "outputs": [],
   "source": [
    "tfv = TfidfVectorizer(min_df=1,\n",
    "                      max_features=tfidf_max_feat,\n",
    "                      ngram_range=(1, 1))"
   ]
  },
  {
   "cell_type": "code",
   "execution_count": 22,
   "metadata": {},
   "outputs": [
    {
     "data": {
      "text/plain": [
       "TfidfVectorizer(analyzer='word', binary=False, decode_error='strict',\n",
       "                dtype=<class 'numpy.float64'>, encoding='utf-8',\n",
       "                input='content', lowercase=True, max_df=1.0, max_features=546,\n",
       "                min_df=1, ngram_range=(1, 1), norm='l2', preprocessor=None,\n",
       "                smooth_idf=True, stop_words=None, strip_accents=None,\n",
       "                sublinear_tf=False, token_pattern='(?u)\\\\b\\\\w\\\\w+\\\\b',\n",
       "                tokenizer=None, use_idf=True, vocabulary=None)"
      ]
     },
     "execution_count": 22,
     "metadata": {},
     "output_type": "execute_result"
    }
   ],
   "source": [
    "tfv.fit(X_train)"
   ]
  },
  {
   "cell_type": "code",
   "execution_count": 23,
   "metadata": {},
   "outputs": [],
   "source": [
    "X_train_tfv = tfv.transform(X_train)\n",
    "X_test_tfv = tfv.transform(X_test)"
   ]
  },
  {
   "cell_type": "code",
   "execution_count": 24,
   "metadata": {},
   "outputs": [
    {
     "data": {
      "text/plain": [
       "<42111x546 sparse matrix of type '<class 'numpy.float64'>'\n",
       "\twith 611793 stored elements in Compressed Sparse Row format>"
      ]
     },
     "execution_count": 24,
     "metadata": {},
     "output_type": "execute_result"
    }
   ],
   "source": [
    "X_train_tfv"
   ]
  },
  {
   "cell_type": "code",
   "execution_count": 25,
   "metadata": {},
   "outputs": [
    {
     "data": {
      "text/plain": [
       "<42111x275 sparse matrix of type '<class 'numpy.int32'>'\n",
       "\twith 93730 stored elements in Compressed Sparse Row format>"
      ]
     },
     "execution_count": 25,
     "metadata": {},
     "output_type": "execute_result"
    }
   ],
   "source": [
    "y_train"
   ]
  },
  {
   "cell_type": "code",
   "execution_count": 26,
   "metadata": {},
   "outputs": [],
   "source": [
    "def GS_bestparam(model, search_grid, X_tr, X_te, y_tr, y_te):\n",
    "    cross_validation = KFold(n_splits=5,\n",
    "                             shuffle=True,\n",
    "                             random_state=1)\n",
    "    gridsearch = GridSearchCV(estimator=model,\n",
    "                              param_grid=search_grid,\n",
    "                              scoring=\"jaccard_micro\",\n",
    "                              refit=True,\n",
    "                              cv=cross_validation,\n",
    "                              n_jobs=6)\n",
    "    print(\"{}\".format(model))\n",
    "    gridsearch.fit(X_tr, y_tr)\n",
    "    print(\"Best params : {}\".format(gridsearch.best_params_))\n",
    "    print(\"Jaccard score - Training : {}\".format(\n",
    "        jaccard_score(gridsearch.predict(X_tr), y_tr, average=\"micro\")))\n",
    "    print(\"Jaccard score - Testing : {}\".format(\n",
    "        jaccard_score(gridsearch.predict(X_te), y_te, average=\"micro\")))\n",
    "    return gridsearch"
   ]
  },
  {
   "cell_type": "code",
   "execution_count": 27,
   "metadata": {},
   "outputs": [],
   "source": [
    "lr_sg = [{'estimator__penalty': ['elasticnet'],\n",
    "          'estimator__C': [1, 10],\n",
    "          'estimator__solver': ['saga'],\n",
    "          'estimator__l1_ratio': [0, 0.5, 1]}]\n",
    "\n",
    "svm_sg = [{'estimator__penalty': ['l1', 'l2'],\n",
    "           'estimator__C': [1, 10]}]\n",
    "\n",
    "nbayes_sg = {'estimator__alpha': [0, 0.5, 1]}"
   ]
  },
  {
   "cell_type": "code",
   "execution_count": 28,
   "metadata": {},
   "outputs": [],
   "source": [
    "def train_classifier(Xtr, Xte, ytr, yte, model, gridsearch):\n",
    "\n",
    "    if model == 'lr':\n",
    "        model = OneVsRestClassifier(LogisticRegression(),\n",
    "                                    n_jobs=6)\n",
    "\n",
    "    elif model == 'svm':\n",
    "        model = OneVsRestClassifier(LinearSVC(),\n",
    "                                    n_jobs=6)\n",
    "\n",
    "    elif model == 'nbayes':\n",
    "        model = OneVsRestClassifier(MultinomialNB(),\n",
    "                                    n_jobs=6)\n",
    "\n",
    "    elif model == 'mlp':\n",
    "        model = OneVsRestClassifier(MLPClassifier(random_state=42,\n",
    "                                                  hidden_layer_sizes=(10,)),\n",
    "                                    n_jobs=6)\n",
    "        model = model.fit(Xtr, ytr)\n",
    "        print(\"Jaccard score - Training : {}\".format(\n",
    "            jaccard_score(model.predict(Xtr),\n",
    "                          ytr,\n",
    "                          average=\"micro\")))\n",
    "        print(\"Jaccard score - Testing : {}\".format(\n",
    "            jaccard_score(model.predict(Xte),\n",
    "                          yte,\n",
    "                          average=\"micro\")))\n",
    "\n",
    "    model = GS_bestparam(model,\n",
    "                         gridsearch,\n",
    "                         Xtr,\n",
    "                         Xte,\n",
    "                         ytr,\n",
    "                         yte)\n",
    "\n",
    "    return model"
   ]
  },
  {
   "cell_type": "code",
   "execution_count": null,
   "metadata": {},
   "outputs": [],
   "source": [
    "clf_lr = train_classifier(X_train_tfv,\n",
    "                          X_test_tfv,\n",
    "                          y_train,\n",
    "                          y_test,\n",
    "                          'lr',\n",
    "                          lr_sg)"
   ]
  },
  {
   "cell_type": "code",
   "execution_count": null,
   "metadata": {},
   "outputs": [],
   "source": [
    "clf_svm = train_classifier(X_train_tfv,\n",
    "                           X_test_tfv,\n",
    "                           y_train,\n",
    "                           y_test,\n",
    "                           'svm',\n",
    "                           svm_sg)"
   ]
  },
  {
   "cell_type": "code",
   "execution_count": null,
   "metadata": {},
   "outputs": [],
   "source": [
    "clf_nb = train_classifier(X_train_tfv,\n",
    "                          X_test_tfv,\n",
    "                          y_train,\n",
    "                          y_test,\n",
    "                          'nbayes',\n",
    "                          nbayes_sg)"
   ]
  },
  {
   "cell_type": "code",
   "execution_count": null,
   "metadata": {},
   "outputs": [],
   "source": [
    "clf_mlp = train_classifier(X_train_tfv,\n",
    "                           X_test_tfv,\n",
    "                           y_train,\n",
    "                           y_test,\n",
    "                           'mlp',\n",
    "                           None)"
   ]
  },
  {
   "cell_type": "code",
   "execution_count": 46,
   "metadata": {},
   "outputs": [],
   "source": [
    "clf_lr = OneVsRestClassifier(LogisticRegression(C=10,\n",
    "                                                l1_ratio=1,\n",
    "                                                penalty='elasticnet',\n",
    "                                                solver='saga',\n",
    "                                                random_state=42),\n",
    "                             n_jobs=6)\n",
    "clf_svm = OneVsRestClassifier(LinearSVC(C=10,\n",
    "                                        penalty='l2',\n",
    "                                        random_state=42),\n",
    "                             n_jobs=6)\n",
    "\n",
    "clf_nb = OneVsRestClassifier(MultinomialNB(alpha=0),\n",
    "                             n_jobs=6)\n",
    "\n",
    "clf_mlp = OneVsRestClassifier(MLPClassifier(random_state=42,\n",
    "                                            hidden_layer_sizes=(10,)),\n",
    "                             n_jobs=6)"
   ]
  },
  {
   "cell_type": "code",
   "execution_count": 30,
   "metadata": {},
   "outputs": [
    {
     "name": "stdout",
     "output_type": "stream",
     "text": [
      "Wall time: 20min 17s\n"
     ]
    },
    {
     "data": {
      "text/plain": [
       "OneVsRestClassifier(estimator=MLPClassifier(activation='relu', alpha=0.0001,\n",
       "                                            batch_size='auto', beta_1=0.9,\n",
       "                                            beta_2=0.999, early_stopping=False,\n",
       "                                            epsilon=1e-08,\n",
       "                                            hidden_layer_sizes=(10,),\n",
       "                                            learning_rate='constant',\n",
       "                                            learning_rate_init=0.001,\n",
       "                                            max_fun=15000, max_iter=200,\n",
       "                                            momentum=0.9, n_iter_no_change=10,\n",
       "                                            nesterovs_momentum=True,\n",
       "                                            power_t=0.5, random_state=42,\n",
       "                                            shuffle=True, solver='adam',\n",
       "                                            tol=0.0001, validation_fraction=0.1,\n",
       "                                            verbose=False, warm_start=False),\n",
       "                    n_jobs=6)"
      ]
     },
     "execution_count": 30,
     "metadata": {},
     "output_type": "execute_result"
    }
   ],
   "source": [
    "%time clf_mlp.fit(X_train_tfv, y_train) # >1H for 100 neurons"
   ]
  },
  {
   "cell_type": "code",
   "execution_count": 1,
   "metadata": {},
   "outputs": [
    {
     "name": "stderr",
     "output_type": "stream",
     "text": [
      "UsageError: Cell magic `%%flake8` not found.\n"
     ]
    }
   ],
   "source": [
    "print('MLP : {}'.format(jaccard_score(clf_mlp.predict(X_test_tfv),\n",
    "                                      y_test,\n",
    "                                      average='micro')))"
   ]
  },
  {
   "cell_type": "code",
   "execution_count": 49,
   "metadata": {},
   "outputs": [
    {
     "name": "stdout",
     "output_type": "stream",
     "text": [
      "Text_lemmatized\n",
      "N_Gram : (1, 1)\n",
      "Wall time: 6min 16s\n",
      "Test : Logistic Regression : 0.38989846003971673\n",
      "Wall time: 24.3 s\n",
      "Test : SVM Classifier : 0.37676957831325303\n",
      "Wall time: 1.16 s\n",
      "Test : NB Multinominal : 0.24600778581075713\n",
      "N_Gram : (1, 2)\n",
      "Wall time: 6min 6s\n",
      "Test : Logistic Regression : 0.3866596599226756\n",
      "Wall time: 28.3 s\n",
      "Test : SVM Classifier : 0.37528881481762055\n",
      "Wall time: 952 ms\n",
      "Test : NB Multinominal : 0.25172158891958135\n",
      "N_Gram : (1, 3)\n",
      "Wall time: 6min 3s\n",
      "Test : Logistic Regression : 0.38659154929577466\n",
      "Wall time: 25.4 s\n",
      "Test : SVM Classifier : 0.37559237214239677\n",
      "Wall time: 981 ms\n",
      "Test : NB Multinominal : 0.2504849848684721\n",
      "-------------\n",
      "Text_stem_porter\n",
      "N_Gram : (1, 1)\n",
      "Wall time: 6min 24s\n",
      "Test : Logistic Regression : 0.3893573168446693\n",
      "Wall time: 23.9 s\n",
      "Test : SVM Classifier : 0.3760725575794069\n",
      "Wall time: 935 ms\n",
      "Test : NB Multinominal : 0.24534075104311545\n",
      "N_Gram : (1, 2)\n",
      "Wall time: 6min 26s\n",
      "Test : Logistic Regression : 0.38545850380991703\n",
      "Wall time: 25.2 s\n",
      "Test : SVM Classifier : 0.3744887138312377\n",
      "Wall time: 909 ms\n",
      "Test : NB Multinominal : 0.2517901618929016\n",
      "N_Gram : (1, 3)\n",
      "Wall time: 6min 3s\n",
      "Test : Logistic Regression : 0.385190753617741\n",
      "Wall time: 25.2 s\n",
      "Test : SVM Classifier : 0.37422336717684496\n",
      "Wall time: 904 ms\n",
      "Test : NB Multinominal : 0.2501067339413934\n",
      "-------------\n",
      "Text_stem_lanca\n",
      "N_Gram : (1, 1)\n",
      "Wall time: 6min 9s\n",
      "Test : Logistic Regression : 0.3897587653581061\n",
      "Wall time: 24.5 s\n",
      "Test : SVM Classifier : 0.37720156555772993\n",
      "Wall time: 1.11 s\n",
      "Test : NB Multinominal : 0.24585931604241967\n",
      "N_Gram : (1, 2)\n",
      "Wall time: 6min 2s\n",
      "Test : Logistic Regression : 0.38716947115384615\n",
      "Wall time: 25.5 s\n",
      "Test : SVM Classifier : 0.37510892214434555\n",
      "Wall time: 1 s\n",
      "Test : NB Multinominal : 0.2518091977278033\n",
      "N_Gram : (1, 3)\n",
      "Wall time: 6min 8s\n",
      "Test : Logistic Regression : 0.38665664348806617\n",
      "Wall time: 25.3 s\n",
      "Test : SVM Classifier : 0.37420871081460144\n",
      "Wall time: 915 ms\n",
      "Test : NB Multinominal : 0.25025215299868103\n",
      "-------------\n"
     ]
    }
   ],
   "source": [
    "cols = [\"Text_lemmatized\",\n",
    "        \"Text_stem_porter\",\n",
    "        \"Text_stem_lanca\"]\n",
    "df_res = pd.DataFrame(columns=cols)\n",
    "df_res_train = pd.DataFrame(columns=cols)\n",
    "for col in cols:\n",
    "    print(col)\n",
    "    xtext = df[col]\n",
    "    X_train, X_test, y_train, y_test = train_test_split(xtext,\n",
    "                                                        ytags,\n",
    "                                                        test_size=0.2,\n",
    "                                                        random_state=42)\n",
    "    for i in range(3):\n",
    "        print(\"N_Gram : (1, {})\".format(i+1))\n",
    "        tfv = TfidfVectorizer(min_df=1,\n",
    "                              max_features=tfidf_max_feat,\n",
    "                              ngram_range=(1, i+1))\n",
    "        tfv.fit(X_train)\n",
    "        X_train_tfv = tfv.transform(X_train)\n",
    "        X_test_tfv = tfv.transform(X_test)\n",
    "        # %time clf_mlp.fit(X_train_tfv,y_train)\n",
    "        # print('MLP : {}'.format(jaccard_score(clf_mlp.predict(X_test_tfv), y_test, average='micro')))\n",
    "        %time clf_lr.fit(X_train_tfv, y_train)\n",
    "        print('Test : Logistic Regression : {}'.format(\n",
    "            jaccard_score(clf_lr.predict(X_test_tfv),\n",
    "                          y_test,\n",
    "                          average='micro')))\n",
    "        %time clf_svm.fit(X_train_tfv, y_train)\n",
    "        print('Test : SVM Classifier : {}'.format(\n",
    "            jaccard_score(clf_svm.predict(X_test_tfv),\n",
    "                          y_test,\n",
    "                          average='micro')))\n",
    "        %time clf_nb.fit(X_train_tfv, y_train)\n",
    "        print('Test : NB Multinominal : {}'.format(\n",
    "            jaccard_score(clf_nb.predict(X_test_tfv),\n",
    "                          y_test,\n",
    "                          average='micro')))\n",
    "        # col_mlp = str(i+1) + \" MLP\"\n",
    "        col_lr = str(i+1) + \" Logistic Regression\"\n",
    "        col_svm = str(i+1) + \" SVM Classifier\"\n",
    "        col_nb = str(i+1) + \" NB Multinominal\"\n",
    "        # df_res.at[col_mlp,col] = jaccard_score(clf_mlp.predict(X_test_tfv), y_test, average='micro')\n",
    "        df_res.at[col_lr, col] = jaccard_score(\n",
    "            clf_lr.predict(X_test_tfv),\n",
    "            y_test,\n",
    "            average='micro')\n",
    "        df_res.at[col_svm, col] = jaccard_score(\n",
    "            clf_svm.predict(X_test_tfv),\n",
    "            y_test,\n",
    "            average='micro')\n",
    "        df_res.at[col_nb, col] = jaccard_score(\n",
    "            clf_nb.predict(X_test_tfv),\n",
    "            y_test,\n",
    "            average='micro')\n",
    "\n",
    "        df_res_train.at[col_lr, col] = jaccard_score(\n",
    "            clf_lr.predict(X_train_tfv),\n",
    "            y_train,\n",
    "            average='micro')\n",
    "        df_res_train.at[col_svm, col] = jaccard_score(\n",
    "            clf_svm.predict(X_train_tfv),\n",
    "            y_train,\n",
    "            average='micro')\n",
    "        df_res_train.at[col_nb, col] = jaccard_score(\n",
    "            clf_nb.predict(X_train_tfv),\n",
    "            y_train,\n",
    "            average='micro')\n",
    "    print(\"-------------\")"
   ]
  },
  {
   "cell_type": "code",
   "execution_count": 51,
   "metadata": {},
   "outputs": [
    {
     "data": {
      "text/html": [
       "<div>\n",
       "<style scoped>\n",
       "    .dataframe tbody tr th:only-of-type {\n",
       "        vertical-align: middle;\n",
       "    }\n",
       "\n",
       "    .dataframe tbody tr th {\n",
       "        vertical-align: top;\n",
       "    }\n",
       "\n",
       "    .dataframe thead th {\n",
       "        text-align: right;\n",
       "    }\n",
       "</style>\n",
       "<table border=\"1\" class=\"dataframe\">\n",
       "  <thead>\n",
       "    <tr style=\"text-align: right;\">\n",
       "      <th></th>\n",
       "      <th>Text_lemmatized</th>\n",
       "      <th>Text_stem_porter</th>\n",
       "      <th>Text_stem_lanca</th>\n",
       "    </tr>\n",
       "  </thead>\n",
       "  <tbody>\n",
       "    <tr>\n",
       "      <th>1 Logistic Regression</th>\n",
       "      <td>0.471466</td>\n",
       "      <td>0.471684</td>\n",
       "      <td>0.471255</td>\n",
       "    </tr>\n",
       "    <tr>\n",
       "      <th>1 SVM Classifier</th>\n",
       "      <td>0.487214</td>\n",
       "      <td>0.486296</td>\n",
       "      <td>0.486946</td>\n",
       "    </tr>\n",
       "    <tr>\n",
       "      <th>1 NB Multinominal</th>\n",
       "      <td>0.266104</td>\n",
       "      <td>0.265802</td>\n",
       "      <td>0.26592</td>\n",
       "    </tr>\n",
       "    <tr>\n",
       "      <th>2 Logistic Regression</th>\n",
       "      <td>0.464023</td>\n",
       "      <td>0.463307</td>\n",
       "      <td>0.463782</td>\n",
       "    </tr>\n",
       "    <tr>\n",
       "      <th>2 SVM Classifier</th>\n",
       "      <td>0.4758</td>\n",
       "      <td>0.47519</td>\n",
       "      <td>0.475423</td>\n",
       "    </tr>\n",
       "    <tr>\n",
       "      <th>2 NB Multinominal</th>\n",
       "      <td>0.270746</td>\n",
       "      <td>0.270562</td>\n",
       "      <td>0.270519</td>\n",
       "    </tr>\n",
       "    <tr>\n",
       "      <th>3 Logistic Regression</th>\n",
       "      <td>0.462503</td>\n",
       "      <td>0.46134</td>\n",
       "      <td>0.461806</td>\n",
       "    </tr>\n",
       "    <tr>\n",
       "      <th>3 SVM Classifier</th>\n",
       "      <td>0.47313</td>\n",
       "      <td>0.471359</td>\n",
       "      <td>0.472335</td>\n",
       "    </tr>\n",
       "    <tr>\n",
       "      <th>3 NB Multinominal</th>\n",
       "      <td>0.269474</td>\n",
       "      <td>0.268877</td>\n",
       "      <td>0.268963</td>\n",
       "    </tr>\n",
       "  </tbody>\n",
       "</table>\n",
       "</div>"
      ],
      "text/plain": [
       "                      Text_lemmatized Text_stem_porter Text_stem_lanca\n",
       "1 Logistic Regression        0.471466         0.471684        0.471255\n",
       "1 SVM Classifier             0.487214         0.486296        0.486946\n",
       "1 NB Multinominal            0.266104         0.265802         0.26592\n",
       "2 Logistic Regression        0.464023         0.463307        0.463782\n",
       "2 SVM Classifier               0.4758          0.47519        0.475423\n",
       "2 NB Multinominal            0.270746         0.270562        0.270519\n",
       "3 Logistic Regression        0.462503          0.46134        0.461806\n",
       "3 SVM Classifier              0.47313         0.471359        0.472335\n",
       "3 NB Multinominal            0.269474         0.268877        0.268963"
      ]
     },
     "execution_count": 51,
     "metadata": {},
     "output_type": "execute_result"
    }
   ],
   "source": [
    "df_res_train"
   ]
  },
  {
   "cell_type": "code",
   "execution_count": 52,
   "metadata": {},
   "outputs": [
    {
     "data": {
      "text/html": [
       "<div>\n",
       "<style scoped>\n",
       "    .dataframe tbody tr th:only-of-type {\n",
       "        vertical-align: middle;\n",
       "    }\n",
       "\n",
       "    .dataframe tbody tr th {\n",
       "        vertical-align: top;\n",
       "    }\n",
       "\n",
       "    .dataframe thead th {\n",
       "        text-align: right;\n",
       "    }\n",
       "</style>\n",
       "<table border=\"1\" class=\"dataframe\">\n",
       "  <thead>\n",
       "    <tr style=\"text-align: right;\">\n",
       "      <th></th>\n",
       "      <th>Text_lemmatized</th>\n",
       "      <th>Text_stem_porter</th>\n",
       "      <th>Text_stem_lanca</th>\n",
       "    </tr>\n",
       "  </thead>\n",
       "  <tbody>\n",
       "    <tr>\n",
       "      <th>1 Logistic Regression</th>\n",
       "      <td>0.389898</td>\n",
       "      <td>0.389357</td>\n",
       "      <td>0.389759</td>\n",
       "    </tr>\n",
       "    <tr>\n",
       "      <th>1 SVM Classifier</th>\n",
       "      <td>0.37677</td>\n",
       "      <td>0.376073</td>\n",
       "      <td>0.377202</td>\n",
       "    </tr>\n",
       "    <tr>\n",
       "      <th>1 NB Multinominal</th>\n",
       "      <td>0.246008</td>\n",
       "      <td>0.245341</td>\n",
       "      <td>0.245859</td>\n",
       "    </tr>\n",
       "    <tr>\n",
       "      <th>2 Logistic Regression</th>\n",
       "      <td>0.38666</td>\n",
       "      <td>0.385459</td>\n",
       "      <td>0.387169</td>\n",
       "    </tr>\n",
       "    <tr>\n",
       "      <th>2 SVM Classifier</th>\n",
       "      <td>0.375289</td>\n",
       "      <td>0.374489</td>\n",
       "      <td>0.375109</td>\n",
       "    </tr>\n",
       "    <tr>\n",
       "      <th>2 NB Multinominal</th>\n",
       "      <td>0.251722</td>\n",
       "      <td>0.25179</td>\n",
       "      <td>0.251809</td>\n",
       "    </tr>\n",
       "    <tr>\n",
       "      <th>3 Logistic Regression</th>\n",
       "      <td>0.386592</td>\n",
       "      <td>0.385191</td>\n",
       "      <td>0.386657</td>\n",
       "    </tr>\n",
       "    <tr>\n",
       "      <th>3 SVM Classifier</th>\n",
       "      <td>0.375592</td>\n",
       "      <td>0.374223</td>\n",
       "      <td>0.374209</td>\n",
       "    </tr>\n",
       "    <tr>\n",
       "      <th>3 NB Multinominal</th>\n",
       "      <td>0.250485</td>\n",
       "      <td>0.250107</td>\n",
       "      <td>0.250252</td>\n",
       "    </tr>\n",
       "  </tbody>\n",
       "</table>\n",
       "</div>"
      ],
      "text/plain": [
       "                      Text_lemmatized Text_stem_porter Text_stem_lanca\n",
       "1 Logistic Regression        0.389898         0.389357        0.389759\n",
       "1 SVM Classifier              0.37677         0.376073        0.377202\n",
       "1 NB Multinominal            0.246008         0.245341        0.245859\n",
       "2 Logistic Regression         0.38666         0.385459        0.387169\n",
       "2 SVM Classifier             0.375289         0.374489        0.375109\n",
       "2 NB Multinominal            0.251722          0.25179        0.251809\n",
       "3 Logistic Regression        0.386592         0.385191        0.386657\n",
       "3 SVM Classifier             0.375592         0.374223        0.374209\n",
       "3 NB Multinominal            0.250485         0.250107        0.250252"
      ]
     },
     "execution_count": 52,
     "metadata": {},
     "output_type": "execute_result"
    }
   ],
   "source": [
    "df_res"
   ]
  },
  {
   "cell_type": "code",
   "execution_count": 50,
   "metadata": {},
   "outputs": [
    {
     "data": {
      "text/html": [
       "<div>\n",
       "<style scoped>\n",
       "    .dataframe tbody tr th:only-of-type {\n",
       "        vertical-align: middle;\n",
       "    }\n",
       "\n",
       "    .dataframe tbody tr th {\n",
       "        vertical-align: top;\n",
       "    }\n",
       "\n",
       "    .dataframe thead th {\n",
       "        text-align: right;\n",
       "    }\n",
       "</style>\n",
       "<table border=\"1\" class=\"dataframe\">\n",
       "  <thead>\n",
       "    <tr style=\"text-align: right;\">\n",
       "      <th></th>\n",
       "      <th>Text_lemmatized</th>\n",
       "      <th>Text_stem_porter</th>\n",
       "      <th>Text_stem_lanca</th>\n",
       "    </tr>\n",
       "  </thead>\n",
       "  <tbody>\n",
       "    <tr>\n",
       "      <th>1 SVM Classifier</th>\n",
       "      <td>0.487214</td>\n",
       "      <td>0.486296</td>\n",
       "      <td>0.486946</td>\n",
       "    </tr>\n",
       "    <tr>\n",
       "      <th>2 SVM Classifier</th>\n",
       "      <td>0.4758</td>\n",
       "      <td>0.47519</td>\n",
       "      <td>0.475423</td>\n",
       "    </tr>\n",
       "    <tr>\n",
       "      <th>3 SVM Classifier</th>\n",
       "      <td>0.47313</td>\n",
       "      <td>0.471359</td>\n",
       "      <td>0.472335</td>\n",
       "    </tr>\n",
       "    <tr>\n",
       "      <th>1 Logistic Regression</th>\n",
       "      <td>0.471466</td>\n",
       "      <td>0.471684</td>\n",
       "      <td>0.471255</td>\n",
       "    </tr>\n",
       "    <tr>\n",
       "      <th>2 Logistic Regression</th>\n",
       "      <td>0.464023</td>\n",
       "      <td>0.463307</td>\n",
       "      <td>0.463782</td>\n",
       "    </tr>\n",
       "    <tr>\n",
       "      <th>3 Logistic Regression</th>\n",
       "      <td>0.462503</td>\n",
       "      <td>0.46134</td>\n",
       "      <td>0.461806</td>\n",
       "    </tr>\n",
       "    <tr>\n",
       "      <th>2 NB Multinominal</th>\n",
       "      <td>0.270746</td>\n",
       "      <td>0.270562</td>\n",
       "      <td>0.270519</td>\n",
       "    </tr>\n",
       "    <tr>\n",
       "      <th>3 NB Multinominal</th>\n",
       "      <td>0.269474</td>\n",
       "      <td>0.268877</td>\n",
       "      <td>0.268963</td>\n",
       "    </tr>\n",
       "    <tr>\n",
       "      <th>1 NB Multinominal</th>\n",
       "      <td>0.266104</td>\n",
       "      <td>0.265802</td>\n",
       "      <td>0.26592</td>\n",
       "    </tr>\n",
       "  </tbody>\n",
       "</table>\n",
       "</div>"
      ],
      "text/plain": [
       "                      Text_lemmatized Text_stem_porter Text_stem_lanca\n",
       "1 SVM Classifier             0.487214         0.486296        0.486946\n",
       "2 SVM Classifier               0.4758          0.47519        0.475423\n",
       "3 SVM Classifier              0.47313         0.471359        0.472335\n",
       "1 Logistic Regression        0.471466         0.471684        0.471255\n",
       "2 Logistic Regression        0.464023         0.463307        0.463782\n",
       "3 Logistic Regression        0.462503          0.46134        0.461806\n",
       "2 NB Multinominal            0.270746         0.270562        0.270519\n",
       "3 NB Multinominal            0.269474         0.268877        0.268963\n",
       "1 NB Multinominal            0.266104         0.265802         0.26592"
      ]
     },
     "execution_count": 50,
     "metadata": {},
     "output_type": "execute_result"
    }
   ],
   "source": [
    "df_res_train.sort_values(by=\"Text_lemmatized\",\n",
    "                         ascending=False)"
   ]
  },
  {
   "cell_type": "code",
   "execution_count": 31,
   "metadata": {},
   "outputs": [
    {
     "data": {
      "text/html": [
       "<div>\n",
       "<style scoped>\n",
       "    .dataframe tbody tr th:only-of-type {\n",
       "        vertical-align: middle;\n",
       "    }\n",
       "\n",
       "    .dataframe tbody tr th {\n",
       "        vertical-align: top;\n",
       "    }\n",
       "\n",
       "    .dataframe thead th {\n",
       "        text-align: right;\n",
       "    }\n",
       "</style>\n",
       "<table border=\"1\" class=\"dataframe\">\n",
       "  <thead>\n",
       "    <tr style=\"text-align: right;\">\n",
       "      <th></th>\n",
       "      <th>Text_lemmatized</th>\n",
       "      <th>Text_stem_porter</th>\n",
       "      <th>Text_stem_lanca</th>\n",
       "    </tr>\n",
       "  </thead>\n",
       "  <tbody>\n",
       "    <tr>\n",
       "      <th>1 Logistic Regression</th>\n",
       "      <td>0.389898</td>\n",
       "      <td>0.389357</td>\n",
       "      <td>0.389759</td>\n",
       "    </tr>\n",
       "    <tr>\n",
       "      <th>2 Logistic Regression</th>\n",
       "      <td>0.38666</td>\n",
       "      <td>0.385459</td>\n",
       "      <td>0.387169</td>\n",
       "    </tr>\n",
       "    <tr>\n",
       "      <th>3 Logistic Regression</th>\n",
       "      <td>0.386592</td>\n",
       "      <td>0.385191</td>\n",
       "      <td>0.386657</td>\n",
       "    </tr>\n",
       "    <tr>\n",
       "      <th>1 SVM Classifier</th>\n",
       "      <td>0.37677</td>\n",
       "      <td>0.376073</td>\n",
       "      <td>0.377202</td>\n",
       "    </tr>\n",
       "    <tr>\n",
       "      <th>3 SVM Classifier</th>\n",
       "      <td>0.375592</td>\n",
       "      <td>0.374223</td>\n",
       "      <td>0.374209</td>\n",
       "    </tr>\n",
       "    <tr>\n",
       "      <th>2 SVM Classifier</th>\n",
       "      <td>0.375289</td>\n",
       "      <td>0.374489</td>\n",
       "      <td>0.375109</td>\n",
       "    </tr>\n",
       "    <tr>\n",
       "      <th>2 NB Multinominal</th>\n",
       "      <td>0.251722</td>\n",
       "      <td>0.25179</td>\n",
       "      <td>0.251809</td>\n",
       "    </tr>\n",
       "    <tr>\n",
       "      <th>3 NB Multinominal</th>\n",
       "      <td>0.250485</td>\n",
       "      <td>0.250107</td>\n",
       "      <td>0.250252</td>\n",
       "    </tr>\n",
       "    <tr>\n",
       "      <th>1 NB Multinominal</th>\n",
       "      <td>0.246008</td>\n",
       "      <td>0.245341</td>\n",
       "      <td>0.245859</td>\n",
       "    </tr>\n",
       "  </tbody>\n",
       "</table>\n",
       "</div>"
      ],
      "text/plain": [
       "                      Text_lemmatized Text_stem_porter Text_stem_lanca\n",
       "1 Logistic Regression        0.389898         0.389357        0.389759\n",
       "2 Logistic Regression         0.38666         0.385459        0.387169\n",
       "3 Logistic Regression        0.386592         0.385191        0.386657\n",
       "1 SVM Classifier              0.37677         0.376073        0.377202\n",
       "3 SVM Classifier             0.375592         0.374223        0.374209\n",
       "2 SVM Classifier             0.375289         0.374489        0.375109\n",
       "2 NB Multinominal            0.251722          0.25179        0.251809\n",
       "3 NB Multinominal            0.250485         0.250107        0.250252\n",
       "1 NB Multinominal            0.246008         0.245341        0.245859"
      ]
     },
     "execution_count": 31,
     "metadata": {},
     "output_type": "execute_result"
    }
   ],
   "source": [
    "df_res.sort_values(by=\"Text_lemmatized\",\n",
    "                   ascending=False)"
   ]
  },
  {
   "cell_type": "code",
   "execution_count": 32,
   "metadata": {},
   "outputs": [
    {
     "name": "stdout",
     "output_type": "stream",
     "text": [
      "Text_lemmatized\n",
      "1 Logistic Regression : 0.38989846003971673\n",
      "Text_stem_porter\n",
      "1 Logistic Regression : 0.3893573168446693\n",
      "Text_stem_lanca\n",
      "1 Logistic Regression : 0.3897587653581061\n"
     ]
    }
   ],
   "source": [
    "for col in df_res.columns:\n",
    "    print(col)\n",
    "    print(df_res[col].astype('float64').idxmax()+\" : \"+str(df_res[col].max()))"
   ]
  },
  {
   "cell_type": "code",
   "execution_count": 33,
   "metadata": {},
   "outputs": [],
   "source": [
    "xtext = df[\"Text_lemmatized\"]\n",
    "X_train, X_test, y_train, y_test = train_test_split(xtext,\n",
    "                                                    ytags,\n",
    "                                                    test_size=0.2,\n",
    "                                                    random_state=42)\n",
    "tfv = TfidfVectorizer(min_df=1,\n",
    "                      max_features=tfidf_max_feat,\n",
    "                      ngram_range=(1, 1))\n",
    "tfv.fit(X_train)\n",
    "X_train_tfv = tfv.transform(X_train)\n",
    "X_test_tfv = tfv.transform(X_test)"
   ]
  },
  {
   "cell_type": "code",
   "execution_count": 34,
   "metadata": {},
   "outputs": [
    {
     "data": {
      "text/plain": [
       "OneVsRestClassifier(estimator=LogisticRegression(C=10, class_weight=None,\n",
       "                                                 dual=False, fit_intercept=True,\n",
       "                                                 intercept_scaling=1,\n",
       "                                                 l1_ratio=1, max_iter=100,\n",
       "                                                 multi_class='auto',\n",
       "                                                 n_jobs=None,\n",
       "                                                 penalty='elasticnet',\n",
       "                                                 random_state=42, solver='saga',\n",
       "                                                 tol=0.0001, verbose=0,\n",
       "                                                 warm_start=False),\n",
       "                    n_jobs=6)"
      ]
     },
     "execution_count": 34,
     "metadata": {},
     "output_type": "execute_result"
    }
   ],
   "source": [
    "supervised = clf_lr\n",
    "supervised.fit(X_train_tfv, y_train)"
   ]
  },
  {
   "cell_type": "markdown",
   "metadata": {},
   "source": [
    "### LDA GridSearch"
   ]
  },
  {
   "cell_type": "code",
   "execution_count": 37,
   "metadata": {},
   "outputs": [],
   "source": [
    "search_params = {'n_components': [6],\n",
    "                 'learning_decay': [.5, .6, .7],\n",
    "                 'learning_offset': [900, 1000, 1100],\n",
    "                 'n_jobs': [1],\n",
    "                 'evaluate_every': [-1],\n",
    "                 'learning_method': ['online'],\n",
    "                 'random_state': [42]\n",
    "                 }\n",
    "\n",
    "lda_sk = LatentDirichletAllocation()\n",
    "\n",
    "model = GridSearchCV(cv=None,\n",
    "                     error_score='raise',\n",
    "                     estimator=lda_sk,\n",
    "                     param_grid=search_params,\n",
    "                     n_jobs=6,\n",
    "                     scoring=None,\n",
    "                     return_train_score=True,\n",
    "                     verbose=1)"
   ]
  },
  {
   "cell_type": "code",
   "execution_count": 67,
   "metadata": {},
   "outputs": [],
   "source": [
    "xtext = df[\"Text\"]\n",
    "X_train, X_test, y_train, y_test = train_test_split(xtext,\n",
    "                                                    ytags,\n",
    "                                                    test_size=0.2,\n",
    "                                                    random_state=42)"
   ]
  },
  {
   "cell_type": "code",
   "execution_count": 68,
   "metadata": {},
   "outputs": [],
   "source": [
    "from sklearn.feature_extraction.text import CountVectorizer\n",
    "tf_vectorizer = CountVectorizer(max_df=0.95, min_df=2)\n",
    "tf_vectorizer.fit(X_train)\n",
    "X_train_tf = tf_vectorizer.transform(X_train)\n",
    "X_test_tf = tf_vectorizer.transform(X_test)"
   ]
  },
  {
   "cell_type": "code",
   "execution_count": 40,
   "metadata": {},
   "outputs": [
    {
     "name": "stdout",
     "output_type": "stream",
     "text": [
      "Fitting 5 folds for each of 9 candidates, totalling 45 fits\n"
     ]
    },
    {
     "name": "stderr",
     "output_type": "stream",
     "text": [
      "[Parallel(n_jobs=6)]: Using backend LokyBackend with 6 concurrent workers.\n",
      "[Parallel(n_jobs=6)]: Done  45 out of  45 | elapsed: 13.3min finished\n"
     ]
    },
    {
     "data": {
      "text/plain": [
       "GridSearchCV(cv=None, error_score='raise',\n",
       "             estimator=LatentDirichletAllocation(batch_size=128,\n",
       "                                                 doc_topic_prior=None,\n",
       "                                                 evaluate_every=-1,\n",
       "                                                 learning_decay=0.7,\n",
       "                                                 learning_method='batch',\n",
       "                                                 learning_offset=10.0,\n",
       "                                                 max_doc_update_iter=100,\n",
       "                                                 max_iter=10,\n",
       "                                                 mean_change_tol=0.001,\n",
       "                                                 n_components=10, n_jobs=None,\n",
       "                                                 perp_tol=0.1,\n",
       "                                                 random_state=None,\n",
       "                                                 topic_word_prior=None,\n",
       "                                                 total_samples=1000000.0,\n",
       "                                                 verbose=0),\n",
       "             iid='deprecated', n_jobs=6,\n",
       "             param_grid={'evaluate_every': [-1],\n",
       "                         'learning_decay': [0.5, 0.6, 0.7],\n",
       "                         'learning_method': ['online'],\n",
       "                         'learning_offset': [900, 1000, 1100],\n",
       "                         'n_components': [6], 'n_jobs': [1],\n",
       "                         'random_state': [42]},\n",
       "             pre_dispatch='2*n_jobs', refit=True, return_train_score=True,\n",
       "             scoring=None, verbose=1)"
      ]
     },
     "execution_count": 40,
     "metadata": {},
     "output_type": "execute_result"
    }
   ],
   "source": [
    "model.fit(X_train_tf)"
   ]
  },
  {
   "cell_type": "code",
   "execution_count": 41,
   "metadata": {},
   "outputs": [
    {
     "name": "stdout",
     "output_type": "stream",
     "text": [
      "Best params:\n",
      "{'evaluate_every': -1, 'learning_decay': 0.6, 'learning_method': 'online', 'learning_offset': 1000, 'n_components': 6, 'n_jobs': 1, 'random_state': 42}\n",
      "Best Log Likelihood Score: -159009.06996057119\n",
      "Model perplexity: 815.228780665413\n"
     ]
    }
   ],
   "source": [
    "best_lda_model = model.best_estimator_\n",
    "print(\"Best params:\\n{}\".format(model.best_params_))\n",
    "print(\"Best Log Likelihood Score: {}\".format(model.best_score_))\n",
    "print(\"Model perplexity: {}\".format(best_lda_model.perplexity(X_train_tfv)))"
   ]
  },
  {
   "cell_type": "code",
   "execution_count": 42,
   "metadata": {},
   "outputs": [],
   "source": [
    "import pyLDAvis.sklearn"
   ]
  },
  {
   "cell_type": "markdown",
   "metadata": {},
   "source": [
    "lda_display = pyLDAvis.sklearn.prepare(best_lda_model, X_train_tfv, tfv, mds='tsne', sort_topics=False)\n",
    "pyLDAvis.display(lda_display)"
   ]
  },
  {
   "cell_type": "code",
   "execution_count": 69,
   "metadata": {},
   "outputs": [],
   "source": [
    "lda_sk = LatentDirichletAllocation(evaluate_every=-1,\n",
    "                                   learning_decay=.6,\n",
    "                                   learning_method='online',\n",
    "                                   learning_offset=1000,\n",
    "                                   n_components=6,\n",
    "                                   n_jobs=6,\n",
    "                                   random_state=42)"
   ]
  },
  {
   "cell_type": "code",
   "execution_count": 70,
   "metadata": {},
   "outputs": [
    {
     "data": {
      "text/plain": [
       "LatentDirichletAllocation(batch_size=128, doc_topic_prior=None,\n",
       "                          evaluate_every=-1, learning_decay=0.6,\n",
       "                          learning_method='online', learning_offset=1000,\n",
       "                          max_doc_update_iter=100, max_iter=10,\n",
       "                          mean_change_tol=0.001, n_components=6, n_jobs=6,\n",
       "                          perp_tol=0.1, random_state=42, topic_word_prior=None,\n",
       "                          total_samples=1000000.0, verbose=0)"
      ]
     },
     "execution_count": 70,
     "metadata": {},
     "output_type": "execute_result"
    }
   ],
   "source": [
    "lda_sk.fit(X_train_tf)"
   ]
  },
  {
   "cell_type": "code",
   "execution_count": 200,
   "metadata": {},
   "outputs": [
    {
     "data": {
      "text/html": [
       "<style  type=\"text/css\" >\n",
       "    #T_d9d10592_ba02_11ea_a60c_448a5b9c78a6row0_col0 {\n",
       "            color:  green;\n",
       "            font-weight:  700;\n",
       "        }    #T_d9d10592_ba02_11ea_a60c_448a5b9c78a6row0_col1 {\n",
       "            color:  green;\n",
       "            font-weight:  700;\n",
       "        }    #T_d9d10592_ba02_11ea_a60c_448a5b9c78a6row0_col2 {\n",
       "            color:  black;\n",
       "            font-weight:  400;\n",
       "        }    #T_d9d10592_ba02_11ea_a60c_448a5b9c78a6row0_col3 {\n",
       "            color:  black;\n",
       "            font-weight:  400;\n",
       "        }    #T_d9d10592_ba02_11ea_a60c_448a5b9c78a6row0_col4 {\n",
       "            color:  green;\n",
       "            font-weight:  700;\n",
       "        }    #T_d9d10592_ba02_11ea_a60c_448a5b9c78a6row0_col5 {\n",
       "            color:  black;\n",
       "            font-weight:  400;\n",
       "        }    #T_d9d10592_ba02_11ea_a60c_448a5b9c78a6row0_col6 {\n",
       "            color:  green;\n",
       "            font-weight:  700;\n",
       "        }    #T_d9d10592_ba02_11ea_a60c_448a5b9c78a6row1_col0 {\n",
       "            color:  black;\n",
       "            font-weight:  400;\n",
       "        }    #T_d9d10592_ba02_11ea_a60c_448a5b9c78a6row1_col1 {\n",
       "            color:  black;\n",
       "            font-weight:  400;\n",
       "        }    #T_d9d10592_ba02_11ea_a60c_448a5b9c78a6row1_col2 {\n",
       "            color:  green;\n",
       "            font-weight:  700;\n",
       "        }    #T_d9d10592_ba02_11ea_a60c_448a5b9c78a6row1_col3 {\n",
       "            color:  green;\n",
       "            font-weight:  700;\n",
       "        }    #T_d9d10592_ba02_11ea_a60c_448a5b9c78a6row1_col4 {\n",
       "            color:  green;\n",
       "            font-weight:  700;\n",
       "        }    #T_d9d10592_ba02_11ea_a60c_448a5b9c78a6row1_col5 {\n",
       "            color:  black;\n",
       "            font-weight:  400;\n",
       "        }    #T_d9d10592_ba02_11ea_a60c_448a5b9c78a6row1_col6 {\n",
       "            color:  green;\n",
       "            font-weight:  700;\n",
       "        }    #T_d9d10592_ba02_11ea_a60c_448a5b9c78a6row2_col0 {\n",
       "            color:  black;\n",
       "            font-weight:  400;\n",
       "        }    #T_d9d10592_ba02_11ea_a60c_448a5b9c78a6row2_col1 {\n",
       "            color:  green;\n",
       "            font-weight:  700;\n",
       "        }    #T_d9d10592_ba02_11ea_a60c_448a5b9c78a6row2_col2 {\n",
       "            color:  black;\n",
       "            font-weight:  400;\n",
       "        }    #T_d9d10592_ba02_11ea_a60c_448a5b9c78a6row2_col3 {\n",
       "            color:  black;\n",
       "            font-weight:  400;\n",
       "        }    #T_d9d10592_ba02_11ea_a60c_448a5b9c78a6row2_col4 {\n",
       "            color:  green;\n",
       "            font-weight:  700;\n",
       "        }    #T_d9d10592_ba02_11ea_a60c_448a5b9c78a6row2_col5 {\n",
       "            color:  green;\n",
       "            font-weight:  700;\n",
       "        }    #T_d9d10592_ba02_11ea_a60c_448a5b9c78a6row2_col6 {\n",
       "            color:  green;\n",
       "            font-weight:  700;\n",
       "        }    #T_d9d10592_ba02_11ea_a60c_448a5b9c78a6row3_col0 {\n",
       "            color:  black;\n",
       "            font-weight:  400;\n",
       "        }    #T_d9d10592_ba02_11ea_a60c_448a5b9c78a6row3_col1 {\n",
       "            color:  black;\n",
       "            font-weight:  400;\n",
       "        }    #T_d9d10592_ba02_11ea_a60c_448a5b9c78a6row3_col2 {\n",
       "            color:  green;\n",
       "            font-weight:  700;\n",
       "        }    #T_d9d10592_ba02_11ea_a60c_448a5b9c78a6row3_col3 {\n",
       "            color:  green;\n",
       "            font-weight:  700;\n",
       "        }    #T_d9d10592_ba02_11ea_a60c_448a5b9c78a6row3_col4 {\n",
       "            color:  green;\n",
       "            font-weight:  700;\n",
       "        }    #T_d9d10592_ba02_11ea_a60c_448a5b9c78a6row3_col5 {\n",
       "            color:  black;\n",
       "            font-weight:  400;\n",
       "        }    #T_d9d10592_ba02_11ea_a60c_448a5b9c78a6row3_col6 {\n",
       "            color:  green;\n",
       "            font-weight:  700;\n",
       "        }    #T_d9d10592_ba02_11ea_a60c_448a5b9c78a6row4_col0 {\n",
       "            color:  black;\n",
       "            font-weight:  400;\n",
       "        }    #T_d9d10592_ba02_11ea_a60c_448a5b9c78a6row4_col1 {\n",
       "            color:  black;\n",
       "            font-weight:  400;\n",
       "        }    #T_d9d10592_ba02_11ea_a60c_448a5b9c78a6row4_col2 {\n",
       "            color:  green;\n",
       "            font-weight:  700;\n",
       "        }    #T_d9d10592_ba02_11ea_a60c_448a5b9c78a6row4_col3 {\n",
       "            color:  black;\n",
       "            font-weight:  400;\n",
       "        }    #T_d9d10592_ba02_11ea_a60c_448a5b9c78a6row4_col4 {\n",
       "            color:  green;\n",
       "            font-weight:  700;\n",
       "        }    #T_d9d10592_ba02_11ea_a60c_448a5b9c78a6row4_col5 {\n",
       "            color:  black;\n",
       "            font-weight:  400;\n",
       "        }    #T_d9d10592_ba02_11ea_a60c_448a5b9c78a6row4_col6 {\n",
       "            color:  green;\n",
       "            font-weight:  700;\n",
       "        }    #T_d9d10592_ba02_11ea_a60c_448a5b9c78a6row5_col0 {\n",
       "            color:  green;\n",
       "            font-weight:  700;\n",
       "        }    #T_d9d10592_ba02_11ea_a60c_448a5b9c78a6row5_col1 {\n",
       "            color:  black;\n",
       "            font-weight:  400;\n",
       "        }    #T_d9d10592_ba02_11ea_a60c_448a5b9c78a6row5_col2 {\n",
       "            color:  black;\n",
       "            font-weight:  400;\n",
       "        }    #T_d9d10592_ba02_11ea_a60c_448a5b9c78a6row5_col3 {\n",
       "            color:  green;\n",
       "            font-weight:  700;\n",
       "        }    #T_d9d10592_ba02_11ea_a60c_448a5b9c78a6row5_col4 {\n",
       "            color:  black;\n",
       "            font-weight:  400;\n",
       "        }    #T_d9d10592_ba02_11ea_a60c_448a5b9c78a6row5_col5 {\n",
       "            color:  black;\n",
       "            font-weight:  400;\n",
       "        }    #T_d9d10592_ba02_11ea_a60c_448a5b9c78a6row5_col6 {\n",
       "            color:  green;\n",
       "            font-weight:  700;\n",
       "        }    #T_d9d10592_ba02_11ea_a60c_448a5b9c78a6row6_col0 {\n",
       "            color:  black;\n",
       "            font-weight:  400;\n",
       "        }    #T_d9d10592_ba02_11ea_a60c_448a5b9c78a6row6_col1 {\n",
       "            color:  black;\n",
       "            font-weight:  400;\n",
       "        }    #T_d9d10592_ba02_11ea_a60c_448a5b9c78a6row6_col2 {\n",
       "            color:  black;\n",
       "            font-weight:  400;\n",
       "        }    #T_d9d10592_ba02_11ea_a60c_448a5b9c78a6row6_col3 {\n",
       "            color:  black;\n",
       "            font-weight:  400;\n",
       "        }    #T_d9d10592_ba02_11ea_a60c_448a5b9c78a6row6_col4 {\n",
       "            color:  green;\n",
       "            font-weight:  700;\n",
       "        }    #T_d9d10592_ba02_11ea_a60c_448a5b9c78a6row6_col5 {\n",
       "            color:  green;\n",
       "            font-weight:  700;\n",
       "        }    #T_d9d10592_ba02_11ea_a60c_448a5b9c78a6row6_col6 {\n",
       "            color:  green;\n",
       "            font-weight:  700;\n",
       "        }    #T_d9d10592_ba02_11ea_a60c_448a5b9c78a6row7_col0 {\n",
       "            color:  black;\n",
       "            font-weight:  400;\n",
       "        }    #T_d9d10592_ba02_11ea_a60c_448a5b9c78a6row7_col1 {\n",
       "            color:  black;\n",
       "            font-weight:  400;\n",
       "        }    #T_d9d10592_ba02_11ea_a60c_448a5b9c78a6row7_col2 {\n",
       "            color:  black;\n",
       "            font-weight:  400;\n",
       "        }    #T_d9d10592_ba02_11ea_a60c_448a5b9c78a6row7_col3 {\n",
       "            color:  green;\n",
       "            font-weight:  700;\n",
       "        }    #T_d9d10592_ba02_11ea_a60c_448a5b9c78a6row7_col4 {\n",
       "            color:  green;\n",
       "            font-weight:  700;\n",
       "        }    #T_d9d10592_ba02_11ea_a60c_448a5b9c78a6row7_col5 {\n",
       "            color:  green;\n",
       "            font-weight:  700;\n",
       "        }    #T_d9d10592_ba02_11ea_a60c_448a5b9c78a6row7_col6 {\n",
       "            color:  green;\n",
       "            font-weight:  700;\n",
       "        }    #T_d9d10592_ba02_11ea_a60c_448a5b9c78a6row8_col0 {\n",
       "            color:  black;\n",
       "            font-weight:  400;\n",
       "        }    #T_d9d10592_ba02_11ea_a60c_448a5b9c78a6row8_col1 {\n",
       "            color:  green;\n",
       "            font-weight:  700;\n",
       "        }    #T_d9d10592_ba02_11ea_a60c_448a5b9c78a6row8_col2 {\n",
       "            color:  green;\n",
       "            font-weight:  700;\n",
       "        }    #T_d9d10592_ba02_11ea_a60c_448a5b9c78a6row8_col3 {\n",
       "            color:  black;\n",
       "            font-weight:  400;\n",
       "        }    #T_d9d10592_ba02_11ea_a60c_448a5b9c78a6row8_col4 {\n",
       "            color:  green;\n",
       "            font-weight:  700;\n",
       "        }    #T_d9d10592_ba02_11ea_a60c_448a5b9c78a6row8_col5 {\n",
       "            color:  black;\n",
       "            font-weight:  400;\n",
       "        }    #T_d9d10592_ba02_11ea_a60c_448a5b9c78a6row8_col6 {\n",
       "            color:  green;\n",
       "            font-weight:  700;\n",
       "        }    #T_d9d10592_ba02_11ea_a60c_448a5b9c78a6row9_col0 {\n",
       "            color:  black;\n",
       "            font-weight:  400;\n",
       "        }    #T_d9d10592_ba02_11ea_a60c_448a5b9c78a6row9_col1 {\n",
       "            color:  green;\n",
       "            font-weight:  700;\n",
       "        }    #T_d9d10592_ba02_11ea_a60c_448a5b9c78a6row9_col2 {\n",
       "            color:  black;\n",
       "            font-weight:  400;\n",
       "        }    #T_d9d10592_ba02_11ea_a60c_448a5b9c78a6row9_col3 {\n",
       "            color:  black;\n",
       "            font-weight:  400;\n",
       "        }    #T_d9d10592_ba02_11ea_a60c_448a5b9c78a6row9_col4 {\n",
       "            color:  black;\n",
       "            font-weight:  400;\n",
       "        }    #T_d9d10592_ba02_11ea_a60c_448a5b9c78a6row9_col5 {\n",
       "            color:  black;\n",
       "            font-weight:  400;\n",
       "        }    #T_d9d10592_ba02_11ea_a60c_448a5b9c78a6row9_col6 {\n",
       "            color:  green;\n",
       "            font-weight:  700;\n",
       "        }    #T_d9d10592_ba02_11ea_a60c_448a5b9c78a6row10_col0 {\n",
       "            color:  black;\n",
       "            font-weight:  400;\n",
       "        }    #T_d9d10592_ba02_11ea_a60c_448a5b9c78a6row10_col1 {\n",
       "            color:  black;\n",
       "            font-weight:  400;\n",
       "        }    #T_d9d10592_ba02_11ea_a60c_448a5b9c78a6row10_col2 {\n",
       "            color:  black;\n",
       "            font-weight:  400;\n",
       "        }    #T_d9d10592_ba02_11ea_a60c_448a5b9c78a6row10_col3 {\n",
       "            color:  green;\n",
       "            font-weight:  700;\n",
       "        }    #T_d9d10592_ba02_11ea_a60c_448a5b9c78a6row10_col4 {\n",
       "            color:  green;\n",
       "            font-weight:  700;\n",
       "        }    #T_d9d10592_ba02_11ea_a60c_448a5b9c78a6row10_col5 {\n",
       "            color:  green;\n",
       "            font-weight:  700;\n",
       "        }    #T_d9d10592_ba02_11ea_a60c_448a5b9c78a6row10_col6 {\n",
       "            color:  green;\n",
       "            font-weight:  700;\n",
       "        }    #T_d9d10592_ba02_11ea_a60c_448a5b9c78a6row11_col0 {\n",
       "            color:  green;\n",
       "            font-weight:  700;\n",
       "        }    #T_d9d10592_ba02_11ea_a60c_448a5b9c78a6row11_col1 {\n",
       "            color:  black;\n",
       "            font-weight:  400;\n",
       "        }    #T_d9d10592_ba02_11ea_a60c_448a5b9c78a6row11_col2 {\n",
       "            color:  black;\n",
       "            font-weight:  400;\n",
       "        }    #T_d9d10592_ba02_11ea_a60c_448a5b9c78a6row11_col3 {\n",
       "            color:  black;\n",
       "            font-weight:  400;\n",
       "        }    #T_d9d10592_ba02_11ea_a60c_448a5b9c78a6row11_col4 {\n",
       "            color:  green;\n",
       "            font-weight:  700;\n",
       "        }    #T_d9d10592_ba02_11ea_a60c_448a5b9c78a6row11_col5 {\n",
       "            color:  black;\n",
       "            font-weight:  400;\n",
       "        }    #T_d9d10592_ba02_11ea_a60c_448a5b9c78a6row11_col6 {\n",
       "            color:  green;\n",
       "            font-weight:  700;\n",
       "        }    #T_d9d10592_ba02_11ea_a60c_448a5b9c78a6row12_col0 {\n",
       "            color:  green;\n",
       "            font-weight:  700;\n",
       "        }    #T_d9d10592_ba02_11ea_a60c_448a5b9c78a6row12_col1 {\n",
       "            color:  black;\n",
       "            font-weight:  400;\n",
       "        }    #T_d9d10592_ba02_11ea_a60c_448a5b9c78a6row12_col2 {\n",
       "            color:  black;\n",
       "            font-weight:  400;\n",
       "        }    #T_d9d10592_ba02_11ea_a60c_448a5b9c78a6row12_col3 {\n",
       "            color:  black;\n",
       "            font-weight:  400;\n",
       "        }    #T_d9d10592_ba02_11ea_a60c_448a5b9c78a6row12_col4 {\n",
       "            color:  green;\n",
       "            font-weight:  700;\n",
       "        }    #T_d9d10592_ba02_11ea_a60c_448a5b9c78a6row12_col5 {\n",
       "            color:  black;\n",
       "            font-weight:  400;\n",
       "        }    #T_d9d10592_ba02_11ea_a60c_448a5b9c78a6row12_col6 {\n",
       "            color:  green;\n",
       "            font-weight:  700;\n",
       "        }    #T_d9d10592_ba02_11ea_a60c_448a5b9c78a6row13_col0 {\n",
       "            color:  green;\n",
       "            font-weight:  700;\n",
       "        }    #T_d9d10592_ba02_11ea_a60c_448a5b9c78a6row13_col1 {\n",
       "            color:  black;\n",
       "            font-weight:  400;\n",
       "        }    #T_d9d10592_ba02_11ea_a60c_448a5b9c78a6row13_col2 {\n",
       "            color:  black;\n",
       "            font-weight:  400;\n",
       "        }    #T_d9d10592_ba02_11ea_a60c_448a5b9c78a6row13_col3 {\n",
       "            color:  black;\n",
       "            font-weight:  400;\n",
       "        }    #T_d9d10592_ba02_11ea_a60c_448a5b9c78a6row13_col4 {\n",
       "            color:  green;\n",
       "            font-weight:  700;\n",
       "        }    #T_d9d10592_ba02_11ea_a60c_448a5b9c78a6row13_col5 {\n",
       "            color:  black;\n",
       "            font-weight:  400;\n",
       "        }    #T_d9d10592_ba02_11ea_a60c_448a5b9c78a6row13_col6 {\n",
       "            color:  green;\n",
       "            font-weight:  700;\n",
       "        }    #T_d9d10592_ba02_11ea_a60c_448a5b9c78a6row14_col0 {\n",
       "            color:  green;\n",
       "            font-weight:  700;\n",
       "        }    #T_d9d10592_ba02_11ea_a60c_448a5b9c78a6row14_col1 {\n",
       "            color:  black;\n",
       "            font-weight:  400;\n",
       "        }    #T_d9d10592_ba02_11ea_a60c_448a5b9c78a6row14_col2 {\n",
       "            color:  black;\n",
       "            font-weight:  400;\n",
       "        }    #T_d9d10592_ba02_11ea_a60c_448a5b9c78a6row14_col3 {\n",
       "            color:  green;\n",
       "            font-weight:  700;\n",
       "        }    #T_d9d10592_ba02_11ea_a60c_448a5b9c78a6row14_col4 {\n",
       "            color:  green;\n",
       "            font-weight:  700;\n",
       "        }    #T_d9d10592_ba02_11ea_a60c_448a5b9c78a6row14_col5 {\n",
       "            color:  black;\n",
       "            font-weight:  400;\n",
       "        }    #T_d9d10592_ba02_11ea_a60c_448a5b9c78a6row14_col6 {\n",
       "            color:  green;\n",
       "            font-weight:  700;\n",
       "        }</style><table id=\"T_d9d10592_ba02_11ea_a60c_448a5b9c78a6\" ><thead>    <tr>        <th class=\"blank level0\" ></th>        <th class=\"col_heading level0 col0\" >Topic1</th>        <th class=\"col_heading level0 col1\" >Topic2</th>        <th class=\"col_heading level0 col2\" >Topic3</th>        <th class=\"col_heading level0 col3\" >Topic4</th>        <th class=\"col_heading level0 col4\" >Topic5</th>        <th class=\"col_heading level0 col5\" >Topic6</th>        <th class=\"col_heading level0 col6\" >dominant_topic</th>    </tr></thead><tbody>\n",
       "                <tr>\n",
       "                        <th id=\"T_d9d10592_ba02_11ea_a60c_448a5b9c78a6level0_row0\" class=\"row_heading level0 row0\" >Doc1</th>\n",
       "                        <td id=\"T_d9d10592_ba02_11ea_a60c_448a5b9c78a6row0_col0\" class=\"data row0 col0\" >0.200000</td>\n",
       "                        <td id=\"T_d9d10592_ba02_11ea_a60c_448a5b9c78a6row0_col1\" class=\"data row0 col1\" >0.610000</td>\n",
       "                        <td id=\"T_d9d10592_ba02_11ea_a60c_448a5b9c78a6row0_col2\" class=\"data row0 col2\" >0.000000</td>\n",
       "                        <td id=\"T_d9d10592_ba02_11ea_a60c_448a5b9c78a6row0_col3\" class=\"data row0 col3\" >0.040000</td>\n",
       "                        <td id=\"T_d9d10592_ba02_11ea_a60c_448a5b9c78a6row0_col4\" class=\"data row0 col4\" >0.110000</td>\n",
       "                        <td id=\"T_d9d10592_ba02_11ea_a60c_448a5b9c78a6row0_col5\" class=\"data row0 col5\" >0.040000</td>\n",
       "                        <td id=\"T_d9d10592_ba02_11ea_a60c_448a5b9c78a6row0_col6\" class=\"data row0 col6\" >2</td>\n",
       "            </tr>\n",
       "            <tr>\n",
       "                        <th id=\"T_d9d10592_ba02_11ea_a60c_448a5b9c78a6level0_row1\" class=\"row_heading level0 row1\" >Doc2</th>\n",
       "                        <td id=\"T_d9d10592_ba02_11ea_a60c_448a5b9c78a6row1_col0\" class=\"data row1 col0\" >0.010000</td>\n",
       "                        <td id=\"T_d9d10592_ba02_11ea_a60c_448a5b9c78a6row1_col1\" class=\"data row1 col1\" >0.010000</td>\n",
       "                        <td id=\"T_d9d10592_ba02_11ea_a60c_448a5b9c78a6row1_col2\" class=\"data row1 col2\" >0.260000</td>\n",
       "                        <td id=\"T_d9d10592_ba02_11ea_a60c_448a5b9c78a6row1_col3\" class=\"data row1 col3\" >0.180000</td>\n",
       "                        <td id=\"T_d9d10592_ba02_11ea_a60c_448a5b9c78a6row1_col4\" class=\"data row1 col4\" >0.520000</td>\n",
       "                        <td id=\"T_d9d10592_ba02_11ea_a60c_448a5b9c78a6row1_col5\" class=\"data row1 col5\" >0.010000</td>\n",
       "                        <td id=\"T_d9d10592_ba02_11ea_a60c_448a5b9c78a6row1_col6\" class=\"data row1 col6\" >5</td>\n",
       "            </tr>\n",
       "            <tr>\n",
       "                        <th id=\"T_d9d10592_ba02_11ea_a60c_448a5b9c78a6level0_row2\" class=\"row_heading level0 row2\" >Doc3</th>\n",
       "                        <td id=\"T_d9d10592_ba02_11ea_a60c_448a5b9c78a6row2_col0\" class=\"data row2 col0\" >0.000000</td>\n",
       "                        <td id=\"T_d9d10592_ba02_11ea_a60c_448a5b9c78a6row2_col1\" class=\"data row2 col1\" >0.140000</td>\n",
       "                        <td id=\"T_d9d10592_ba02_11ea_a60c_448a5b9c78a6row2_col2\" class=\"data row2 col2\" >0.060000</td>\n",
       "                        <td id=\"T_d9d10592_ba02_11ea_a60c_448a5b9c78a6row2_col3\" class=\"data row2 col3\" >0.000000</td>\n",
       "                        <td id=\"T_d9d10592_ba02_11ea_a60c_448a5b9c78a6row2_col4\" class=\"data row2 col4\" >0.300000</td>\n",
       "                        <td id=\"T_d9d10592_ba02_11ea_a60c_448a5b9c78a6row2_col5\" class=\"data row2 col5\" >0.490000</td>\n",
       "                        <td id=\"T_d9d10592_ba02_11ea_a60c_448a5b9c78a6row2_col6\" class=\"data row2 col6\" >6</td>\n",
       "            </tr>\n",
       "            <tr>\n",
       "                        <th id=\"T_d9d10592_ba02_11ea_a60c_448a5b9c78a6level0_row3\" class=\"row_heading level0 row3\" >Doc4</th>\n",
       "                        <td id=\"T_d9d10592_ba02_11ea_a60c_448a5b9c78a6row3_col0\" class=\"data row3 col0\" >0.030000</td>\n",
       "                        <td id=\"T_d9d10592_ba02_11ea_a60c_448a5b9c78a6row3_col1\" class=\"data row3 col1\" >0.010000</td>\n",
       "                        <td id=\"T_d9d10592_ba02_11ea_a60c_448a5b9c78a6row3_col2\" class=\"data row3 col2\" >0.130000</td>\n",
       "                        <td id=\"T_d9d10592_ba02_11ea_a60c_448a5b9c78a6row3_col3\" class=\"data row3 col3\" >0.360000</td>\n",
       "                        <td id=\"T_d9d10592_ba02_11ea_a60c_448a5b9c78a6row3_col4\" class=\"data row3 col4\" >0.410000</td>\n",
       "                        <td id=\"T_d9d10592_ba02_11ea_a60c_448a5b9c78a6row3_col5\" class=\"data row3 col5\" >0.060000</td>\n",
       "                        <td id=\"T_d9d10592_ba02_11ea_a60c_448a5b9c78a6row3_col6\" class=\"data row3 col6\" >5</td>\n",
       "            </tr>\n",
       "            <tr>\n",
       "                        <th id=\"T_d9d10592_ba02_11ea_a60c_448a5b9c78a6level0_row4\" class=\"row_heading level0 row4\" >Doc5</th>\n",
       "                        <td id=\"T_d9d10592_ba02_11ea_a60c_448a5b9c78a6row4_col0\" class=\"data row4 col0\" >0.000000</td>\n",
       "                        <td id=\"T_d9d10592_ba02_11ea_a60c_448a5b9c78a6row4_col1\" class=\"data row4 col1\" >0.000000</td>\n",
       "                        <td id=\"T_d9d10592_ba02_11ea_a60c_448a5b9c78a6row4_col2\" class=\"data row4 col2\" >0.510000</td>\n",
       "                        <td id=\"T_d9d10592_ba02_11ea_a60c_448a5b9c78a6row4_col3\" class=\"data row4 col3\" >0.050000</td>\n",
       "                        <td id=\"T_d9d10592_ba02_11ea_a60c_448a5b9c78a6row4_col4\" class=\"data row4 col4\" >0.440000</td>\n",
       "                        <td id=\"T_d9d10592_ba02_11ea_a60c_448a5b9c78a6row4_col5\" class=\"data row4 col5\" >0.000000</td>\n",
       "                        <td id=\"T_d9d10592_ba02_11ea_a60c_448a5b9c78a6row4_col6\" class=\"data row4 col6\" >3</td>\n",
       "            </tr>\n",
       "            <tr>\n",
       "                        <th id=\"T_d9d10592_ba02_11ea_a60c_448a5b9c78a6level0_row5\" class=\"row_heading level0 row5\" >Doc6</th>\n",
       "                        <td id=\"T_d9d10592_ba02_11ea_a60c_448a5b9c78a6row5_col0\" class=\"data row5 col0\" >0.610000</td>\n",
       "                        <td id=\"T_d9d10592_ba02_11ea_a60c_448a5b9c78a6row5_col1\" class=\"data row5 col1\" >0.070000</td>\n",
       "                        <td id=\"T_d9d10592_ba02_11ea_a60c_448a5b9c78a6row5_col2\" class=\"data row5 col2\" >0.000000</td>\n",
       "                        <td id=\"T_d9d10592_ba02_11ea_a60c_448a5b9c78a6row5_col3\" class=\"data row5 col3\" >0.310000</td>\n",
       "                        <td id=\"T_d9d10592_ba02_11ea_a60c_448a5b9c78a6row5_col4\" class=\"data row5 col4\" >0.000000</td>\n",
       "                        <td id=\"T_d9d10592_ba02_11ea_a60c_448a5b9c78a6row5_col5\" class=\"data row5 col5\" >0.000000</td>\n",
       "                        <td id=\"T_d9d10592_ba02_11ea_a60c_448a5b9c78a6row5_col6\" class=\"data row5 col6\" >1</td>\n",
       "            </tr>\n",
       "            <tr>\n",
       "                        <th id=\"T_d9d10592_ba02_11ea_a60c_448a5b9c78a6level0_row6\" class=\"row_heading level0 row6\" >Doc7</th>\n",
       "                        <td id=\"T_d9d10592_ba02_11ea_a60c_448a5b9c78a6row6_col0\" class=\"data row6 col0\" >0.000000</td>\n",
       "                        <td id=\"T_d9d10592_ba02_11ea_a60c_448a5b9c78a6row6_col1\" class=\"data row6 col1\" >0.000000</td>\n",
       "                        <td id=\"T_d9d10592_ba02_11ea_a60c_448a5b9c78a6row6_col2\" class=\"data row6 col2\" >0.000000</td>\n",
       "                        <td id=\"T_d9d10592_ba02_11ea_a60c_448a5b9c78a6row6_col3\" class=\"data row6 col3\" >0.000000</td>\n",
       "                        <td id=\"T_d9d10592_ba02_11ea_a60c_448a5b9c78a6row6_col4\" class=\"data row6 col4\" >0.280000</td>\n",
       "                        <td id=\"T_d9d10592_ba02_11ea_a60c_448a5b9c78a6row6_col5\" class=\"data row6 col5\" >0.710000</td>\n",
       "                        <td id=\"T_d9d10592_ba02_11ea_a60c_448a5b9c78a6row6_col6\" class=\"data row6 col6\" >6</td>\n",
       "            </tr>\n",
       "            <tr>\n",
       "                        <th id=\"T_d9d10592_ba02_11ea_a60c_448a5b9c78a6level0_row7\" class=\"row_heading level0 row7\" >Doc8</th>\n",
       "                        <td id=\"T_d9d10592_ba02_11ea_a60c_448a5b9c78a6row7_col0\" class=\"data row7 col0\" >0.060000</td>\n",
       "                        <td id=\"T_d9d10592_ba02_11ea_a60c_448a5b9c78a6row7_col1\" class=\"data row7 col1\" >0.000000</td>\n",
       "                        <td id=\"T_d9d10592_ba02_11ea_a60c_448a5b9c78a6row7_col2\" class=\"data row7 col2\" >0.000000</td>\n",
       "                        <td id=\"T_d9d10592_ba02_11ea_a60c_448a5b9c78a6row7_col3\" class=\"data row7 col3\" >0.190000</td>\n",
       "                        <td id=\"T_d9d10592_ba02_11ea_a60c_448a5b9c78a6row7_col4\" class=\"data row7 col4\" >0.500000</td>\n",
       "                        <td id=\"T_d9d10592_ba02_11ea_a60c_448a5b9c78a6row7_col5\" class=\"data row7 col5\" >0.240000</td>\n",
       "                        <td id=\"T_d9d10592_ba02_11ea_a60c_448a5b9c78a6row7_col6\" class=\"data row7 col6\" >5</td>\n",
       "            </tr>\n",
       "            <tr>\n",
       "                        <th id=\"T_d9d10592_ba02_11ea_a60c_448a5b9c78a6level0_row8\" class=\"row_heading level0 row8\" >Doc9</th>\n",
       "                        <td id=\"T_d9d10592_ba02_11ea_a60c_448a5b9c78a6row8_col0\" class=\"data row8 col0\" >0.000000</td>\n",
       "                        <td id=\"T_d9d10592_ba02_11ea_a60c_448a5b9c78a6row8_col1\" class=\"data row8 col1\" >0.230000</td>\n",
       "                        <td id=\"T_d9d10592_ba02_11ea_a60c_448a5b9c78a6row8_col2\" class=\"data row8 col2\" >0.390000</td>\n",
       "                        <td id=\"T_d9d10592_ba02_11ea_a60c_448a5b9c78a6row8_col3\" class=\"data row8 col3\" >0.000000</td>\n",
       "                        <td id=\"T_d9d10592_ba02_11ea_a60c_448a5b9c78a6row8_col4\" class=\"data row8 col4\" >0.270000</td>\n",
       "                        <td id=\"T_d9d10592_ba02_11ea_a60c_448a5b9c78a6row8_col5\" class=\"data row8 col5\" >0.100000</td>\n",
       "                        <td id=\"T_d9d10592_ba02_11ea_a60c_448a5b9c78a6row8_col6\" class=\"data row8 col6\" >3</td>\n",
       "            </tr>\n",
       "            <tr>\n",
       "                        <th id=\"T_d9d10592_ba02_11ea_a60c_448a5b9c78a6level0_row9\" class=\"row_heading level0 row9\" >Doc10</th>\n",
       "                        <td id=\"T_d9d10592_ba02_11ea_a60c_448a5b9c78a6row9_col0\" class=\"data row9 col0\" >0.000000</td>\n",
       "                        <td id=\"T_d9d10592_ba02_11ea_a60c_448a5b9c78a6row9_col1\" class=\"data row9 col1\" >0.980000</td>\n",
       "                        <td id=\"T_d9d10592_ba02_11ea_a60c_448a5b9c78a6row9_col2\" class=\"data row9 col2\" >0.000000</td>\n",
       "                        <td id=\"T_d9d10592_ba02_11ea_a60c_448a5b9c78a6row9_col3\" class=\"data row9 col3\" >0.000000</td>\n",
       "                        <td id=\"T_d9d10592_ba02_11ea_a60c_448a5b9c78a6row9_col4\" class=\"data row9 col4\" >0.000000</td>\n",
       "                        <td id=\"T_d9d10592_ba02_11ea_a60c_448a5b9c78a6row9_col5\" class=\"data row9 col5\" >0.000000</td>\n",
       "                        <td id=\"T_d9d10592_ba02_11ea_a60c_448a5b9c78a6row9_col6\" class=\"data row9 col6\" >2</td>\n",
       "            </tr>\n",
       "            <tr>\n",
       "                        <th id=\"T_d9d10592_ba02_11ea_a60c_448a5b9c78a6level0_row10\" class=\"row_heading level0 row10\" >Doc11</th>\n",
       "                        <td id=\"T_d9d10592_ba02_11ea_a60c_448a5b9c78a6row10_col0\" class=\"data row10 col0\" >0.000000</td>\n",
       "                        <td id=\"T_d9d10592_ba02_11ea_a60c_448a5b9c78a6row10_col1\" class=\"data row10 col1\" >0.000000</td>\n",
       "                        <td id=\"T_d9d10592_ba02_11ea_a60c_448a5b9c78a6row10_col2\" class=\"data row10 col2\" >0.000000</td>\n",
       "                        <td id=\"T_d9d10592_ba02_11ea_a60c_448a5b9c78a6row10_col3\" class=\"data row10 col3\" >0.140000</td>\n",
       "                        <td id=\"T_d9d10592_ba02_11ea_a60c_448a5b9c78a6row10_col4\" class=\"data row10 col4\" >0.230000</td>\n",
       "                        <td id=\"T_d9d10592_ba02_11ea_a60c_448a5b9c78a6row10_col5\" class=\"data row10 col5\" >0.620000</td>\n",
       "                        <td id=\"T_d9d10592_ba02_11ea_a60c_448a5b9c78a6row10_col6\" class=\"data row10 col6\" >6</td>\n",
       "            </tr>\n",
       "            <tr>\n",
       "                        <th id=\"T_d9d10592_ba02_11ea_a60c_448a5b9c78a6level0_row11\" class=\"row_heading level0 row11\" >Doc12</th>\n",
       "                        <td id=\"T_d9d10592_ba02_11ea_a60c_448a5b9c78a6row11_col0\" class=\"data row11 col0\" >0.650000</td>\n",
       "                        <td id=\"T_d9d10592_ba02_11ea_a60c_448a5b9c78a6row11_col1\" class=\"data row11 col1\" >0.000000</td>\n",
       "                        <td id=\"T_d9d10592_ba02_11ea_a60c_448a5b9c78a6row11_col2\" class=\"data row11 col2\" >0.000000</td>\n",
       "                        <td id=\"T_d9d10592_ba02_11ea_a60c_448a5b9c78a6row11_col3\" class=\"data row11 col3\" >0.000000</td>\n",
       "                        <td id=\"T_d9d10592_ba02_11ea_a60c_448a5b9c78a6row11_col4\" class=\"data row11 col4\" >0.340000</td>\n",
       "                        <td id=\"T_d9d10592_ba02_11ea_a60c_448a5b9c78a6row11_col5\" class=\"data row11 col5\" >0.000000</td>\n",
       "                        <td id=\"T_d9d10592_ba02_11ea_a60c_448a5b9c78a6row11_col6\" class=\"data row11 col6\" >1</td>\n",
       "            </tr>\n",
       "            <tr>\n",
       "                        <th id=\"T_d9d10592_ba02_11ea_a60c_448a5b9c78a6level0_row12\" class=\"row_heading level0 row12\" >Doc13</th>\n",
       "                        <td id=\"T_d9d10592_ba02_11ea_a60c_448a5b9c78a6row12_col0\" class=\"data row12 col0\" >0.580000</td>\n",
       "                        <td id=\"T_d9d10592_ba02_11ea_a60c_448a5b9c78a6row12_col1\" class=\"data row12 col1\" >0.000000</td>\n",
       "                        <td id=\"T_d9d10592_ba02_11ea_a60c_448a5b9c78a6row12_col2\" class=\"data row12 col2\" >0.000000</td>\n",
       "                        <td id=\"T_d9d10592_ba02_11ea_a60c_448a5b9c78a6row12_col3\" class=\"data row12 col3\" >0.100000</td>\n",
       "                        <td id=\"T_d9d10592_ba02_11ea_a60c_448a5b9c78a6row12_col4\" class=\"data row12 col4\" >0.310000</td>\n",
       "                        <td id=\"T_d9d10592_ba02_11ea_a60c_448a5b9c78a6row12_col5\" class=\"data row12 col5\" >0.000000</td>\n",
       "                        <td id=\"T_d9d10592_ba02_11ea_a60c_448a5b9c78a6row12_col6\" class=\"data row12 col6\" >1</td>\n",
       "            </tr>\n",
       "            <tr>\n",
       "                        <th id=\"T_d9d10592_ba02_11ea_a60c_448a5b9c78a6level0_row13\" class=\"row_heading level0 row13\" >Doc14</th>\n",
       "                        <td id=\"T_d9d10592_ba02_11ea_a60c_448a5b9c78a6row13_col0\" class=\"data row13 col0\" >0.440000</td>\n",
       "                        <td id=\"T_d9d10592_ba02_11ea_a60c_448a5b9c78a6row13_col1\" class=\"data row13 col1\" >0.000000</td>\n",
       "                        <td id=\"T_d9d10592_ba02_11ea_a60c_448a5b9c78a6row13_col2\" class=\"data row13 col2\" >0.020000</td>\n",
       "                        <td id=\"T_d9d10592_ba02_11ea_a60c_448a5b9c78a6row13_col3\" class=\"data row13 col3\" >0.020000</td>\n",
       "                        <td id=\"T_d9d10592_ba02_11ea_a60c_448a5b9c78a6row13_col4\" class=\"data row13 col4\" >0.510000</td>\n",
       "                        <td id=\"T_d9d10592_ba02_11ea_a60c_448a5b9c78a6row13_col5\" class=\"data row13 col5\" >0.000000</td>\n",
       "                        <td id=\"T_d9d10592_ba02_11ea_a60c_448a5b9c78a6row13_col6\" class=\"data row13 col6\" >5</td>\n",
       "            </tr>\n",
       "            <tr>\n",
       "                        <th id=\"T_d9d10592_ba02_11ea_a60c_448a5b9c78a6level0_row14\" class=\"row_heading level0 row14\" >Doc15</th>\n",
       "                        <td id=\"T_d9d10592_ba02_11ea_a60c_448a5b9c78a6row14_col0\" class=\"data row14 col0\" >0.480000</td>\n",
       "                        <td id=\"T_d9d10592_ba02_11ea_a60c_448a5b9c78a6row14_col1\" class=\"data row14 col1\" >0.010000</td>\n",
       "                        <td id=\"T_d9d10592_ba02_11ea_a60c_448a5b9c78a6row14_col2\" class=\"data row14 col2\" >0.010000</td>\n",
       "                        <td id=\"T_d9d10592_ba02_11ea_a60c_448a5b9c78a6row14_col3\" class=\"data row14 col3\" >0.280000</td>\n",
       "                        <td id=\"T_d9d10592_ba02_11ea_a60c_448a5b9c78a6row14_col4\" class=\"data row14 col4\" >0.210000</td>\n",
       "                        <td id=\"T_d9d10592_ba02_11ea_a60c_448a5b9c78a6row14_col5\" class=\"data row14 col5\" >0.010000</td>\n",
       "                        <td id=\"T_d9d10592_ba02_11ea_a60c_448a5b9c78a6row14_col6\" class=\"data row14 col6\" >1</td>\n",
       "            </tr>\n",
       "    </tbody></table>"
      ],
      "text/plain": [
       "<pandas.io.formats.style.Styler at 0x1d527236448>"
      ]
     },
     "execution_count": 200,
     "metadata": {},
     "output_type": "execute_result"
    }
   ],
   "source": [
    "lda_output = lda_sk.transform(X_train_tf)\n",
    "\n",
    "# column names\n",
    "topicnames = [\"Topic\" + str(i+1) for i in range(lda_sk.n_components)]\n",
    "\n",
    "# index names\n",
    "docnames = [\"Doc\" + str(i+1) for i in range(X_train_tfv.shape[0])]\n",
    "\n",
    "# Make the pandas dataframe\n",
    "df_document_topic = pd.DataFrame(np.round(lda_output, 2),\n",
    "                                 columns=topicnames,\n",
    "                                 index=docnames)\n",
    "\n",
    "# Get dominant topic for each document\n",
    "dominant_topic = np.argmax(df_document_topic.values, axis=1)+1\n",
    "df_document_topic['dominant_topic'] = dominant_topic\n",
    "\n",
    "\n",
    "# Styling\n",
    "def color_green(val):\n",
    "    color = 'green' if val > .1 else 'black'\n",
    "    return 'color: {col}'.format(col=color)\n",
    "\n",
    "\n",
    "def make_bold(val):\n",
    "    weight = 700 if val > .1 else 400\n",
    "    return 'font-weight: {weight}'.format(weight=weight)\n",
    "\n",
    "\n",
    "# Apply Style\n",
    "df_document_topic.head(15).style.applymap(color_green).applymap(make_bold)"
   ]
  },
  {
   "cell_type": "code",
   "execution_count": 201,
   "metadata": {},
   "outputs": [
    {
     "data": {
      "text/html": [
       "<div>\n",
       "<style scoped>\n",
       "    .dataframe tbody tr th:only-of-type {\n",
       "        vertical-align: middle;\n",
       "    }\n",
       "\n",
       "    .dataframe tbody tr th {\n",
       "        vertical-align: top;\n",
       "    }\n",
       "\n",
       "    .dataframe thead th {\n",
       "        text-align: right;\n",
       "    }\n",
       "</style>\n",
       "<table border=\"1\" class=\"dataframe\">\n",
       "  <thead>\n",
       "    <tr style=\"text-align: right;\">\n",
       "      <th></th>\n",
       "      <th>Topic Num</th>\n",
       "      <th>Num Documents</th>\n",
       "    </tr>\n",
       "  </thead>\n",
       "  <tbody>\n",
       "    <tr>\n",
       "      <th>0</th>\n",
       "      <td>5</td>\n",
       "      <td>14851</td>\n",
       "    </tr>\n",
       "    <tr>\n",
       "      <th>1</th>\n",
       "      <td>2</td>\n",
       "      <td>8391</td>\n",
       "    </tr>\n",
       "    <tr>\n",
       "      <th>2</th>\n",
       "      <td>4</td>\n",
       "      <td>7950</td>\n",
       "    </tr>\n",
       "    <tr>\n",
       "      <th>3</th>\n",
       "      <td>1</td>\n",
       "      <td>5349</td>\n",
       "    </tr>\n",
       "    <tr>\n",
       "      <th>4</th>\n",
       "      <td>6</td>\n",
       "      <td>3051</td>\n",
       "    </tr>\n",
       "    <tr>\n",
       "      <th>5</th>\n",
       "      <td>3</td>\n",
       "      <td>2519</td>\n",
       "    </tr>\n",
       "  </tbody>\n",
       "</table>\n",
       "</div>"
      ],
      "text/plain": [
       "   Topic Num  Num Documents\n",
       "0          5          14851\n",
       "1          2           8391\n",
       "2          4           7950\n",
       "3          1           5349\n",
       "4          6           3051\n",
       "5          3           2519"
      ]
     },
     "execution_count": 201,
     "metadata": {},
     "output_type": "execute_result"
    }
   ],
   "source": [
    "df_topic_distribution = df_document_topic['dominant_topic']\\\n",
    "    .value_counts().reset_index(name=\"Num Documents\")\n",
    "df_topic_distribution.columns = ['Topic Num', 'Num Documents']\n",
    "df_topic_distribution"
   ]
  },
  {
   "cell_type": "code",
   "execution_count": 202,
   "metadata": {},
   "outputs": [
    {
     "data": {
      "text/html": [
       "<div>\n",
       "<style scoped>\n",
       "    .dataframe tbody tr th:only-of-type {\n",
       "        vertical-align: middle;\n",
       "    }\n",
       "\n",
       "    .dataframe tbody tr th {\n",
       "        vertical-align: top;\n",
       "    }\n",
       "\n",
       "    .dataframe thead th {\n",
       "        text-align: right;\n",
       "    }\n",
       "</style>\n",
       "<table border=\"1\" class=\"dataframe\">\n",
       "  <thead>\n",
       "    <tr style=\"text-align: right;\">\n",
       "      <th></th>\n",
       "      <th>aa</th>\n",
       "      <th>aaa</th>\n",
       "      <th>aaaa</th>\n",
       "      <th>aaaaa</th>\n",
       "      <th>aaaaaa</th>\n",
       "      <th>aaaaaaaa</th>\n",
       "      <th>aaaaaaaaaa</th>\n",
       "      <th>aaaab</th>\n",
       "      <th>aab</th>\n",
       "      <th>aaba</th>\n",
       "      <th>aabaa</th>\n",
       "      <th>aac</th>\n",
       "      <th>aad</th>\n",
       "      <th>aadb</th>\n",
       "      <th>aadhaar</th>\n",
       "      <th>aadinstance</th>\n",
       "      <th>aadsts</th>\n",
       "      <th>aae</th>\n",
       "      <th>aaed</th>\n",
       "      <th>aaf</th>\n",
       "      <th>aah</th>\n",
       "      <th>aal</th>\n",
       "      <th>aamir</th>\n",
       "      <th>aap</th>\n",
       "      <th>aapl</th>\n",
       "      <th>aapt</th>\n",
       "      <th>aaptoptions</th>\n",
       "      <th>aaptprocess</th>\n",
       "      <th>aaptv</th>\n",
       "      <th>aar</th>\n",
       "      <th>aarch</th>\n",
       "      <th>aaron</th>\n",
       "      <th>aars</th>\n",
       "      <th>aat</th>\n",
       "      <th>aatrox</th>\n",
       "      <th>aau</th>\n",
       "      <th>aazgjwfdmvna</th>\n",
       "      <th>ab</th>\n",
       "      <th>aba</th>\n",
       "      <th>abab</th>\n",
       "      <th>abacd</th>\n",
       "      <th>abandon</th>\n",
       "      <th>abandoned</th>\n",
       "      <th>abandoning</th>\n",
       "      <th>abarnert</th>\n",
       "      <th>abb</th>\n",
       "      <th>abbr</th>\n",
       "      <th>abbrev</th>\n",
       "      <th>abbreviate</th>\n",
       "      <th>abbreviated</th>\n",
       "      <th>...</th>\n",
       "      <th>zqu</th>\n",
       "      <th>zr</th>\n",
       "      <th>zrh</th>\n",
       "      <th>zs</th>\n",
       "      <th>zsh</th>\n",
       "      <th>zshrc</th>\n",
       "      <th>zst</th>\n",
       "      <th>zstack</th>\n",
       "      <th>zstart</th>\n",
       "      <th>zstd</th>\n",
       "      <th>zstl</th>\n",
       "      <th>zt</th>\n",
       "      <th>zts</th>\n",
       "      <th>zu</th>\n",
       "      <th>zug</th>\n",
       "      <th>zulu</th>\n",
       "      <th>zulufx</th>\n",
       "      <th>zusammenf</th>\n",
       "      <th>zuul</th>\n",
       "      <th>zv</th>\n",
       "      <th>zval</th>\n",
       "      <th>zw</th>\n",
       "      <th>zwei</th>\n",
       "      <th>zwh</th>\n",
       "      <th>zx</th>\n",
       "      <th>zxc</th>\n",
       "      <th>zxf</th>\n",
       "      <th>zxing</th>\n",
       "      <th>zxvf</th>\n",
       "      <th>zxy</th>\n",
       "      <th>zy</th>\n",
       "      <th>zygote</th>\n",
       "      <th>zygoteinit</th>\n",
       "      <th>zz</th>\n",
       "      <th>zza</th>\n",
       "      <th>zzb</th>\n",
       "      <th>zzd</th>\n",
       "      <th>zze</th>\n",
       "      <th>zzf</th>\n",
       "      <th>zzh</th>\n",
       "      <th>zzi</th>\n",
       "      <th>zzr</th>\n",
       "      <th>zzs</th>\n",
       "      <th>zzt</th>\n",
       "      <th>zzu</th>\n",
       "      <th>zzx</th>\n",
       "      <th>zzz</th>\n",
       "      <th>zzzz</th>\n",
       "      <th>zzzzzz</th>\n",
       "      <th>zzzzzzzz</th>\n",
       "    </tr>\n",
       "  </thead>\n",
       "  <tbody>\n",
       "    <tr>\n",
       "      <th>Topic1</th>\n",
       "      <td>58.346030</td>\n",
       "      <td>89.258224</td>\n",
       "      <td>9.862696</td>\n",
       "      <td>0.166778</td>\n",
       "      <td>0.166858</td>\n",
       "      <td>0.167643</td>\n",
       "      <td>0.168304</td>\n",
       "      <td>0.167056</td>\n",
       "      <td>0.167390</td>\n",
       "      <td>0.166883</td>\n",
       "      <td>0.166926</td>\n",
       "      <td>0.169316</td>\n",
       "      <td>0.166744</td>\n",
       "      <td>0.187149</td>\n",
       "      <td>1.431517</td>\n",
       "      <td>0.166689</td>\n",
       "      <td>0.166808</td>\n",
       "      <td>0.166895</td>\n",
       "      <td>0.167369</td>\n",
       "      <td>0.166985</td>\n",
       "      <td>0.167617</td>\n",
       "      <td>4.488961</td>\n",
       "      <td>0.166667</td>\n",
       "      <td>0.168982</td>\n",
       "      <td>16.617599</td>\n",
       "      <td>0.166671</td>\n",
       "      <td>0.166671</td>\n",
       "      <td>0.166674</td>\n",
       "      <td>0.166667</td>\n",
       "      <td>0.166681</td>\n",
       "      <td>0.166785</td>\n",
       "      <td>0.169242</td>\n",
       "      <td>0.166667</td>\n",
       "      <td>0.167786</td>\n",
       "      <td>6.015475</td>\n",
       "      <td>4.888785</td>\n",
       "      <td>0.166884</td>\n",
       "      <td>68.371248</td>\n",
       "      <td>0.167035</td>\n",
       "      <td>0.166878</td>\n",
       "      <td>0.167725</td>\n",
       "      <td>13.969769</td>\n",
       "      <td>0.166824</td>\n",
       "      <td>0.167097</td>\n",
       "      <td>0.167086</td>\n",
       "      <td>3.270737</td>\n",
       "      <td>11.520182</td>\n",
       "      <td>9.543963</td>\n",
       "      <td>0.166959</td>\n",
       "      <td>1.471308</td>\n",
       "      <td>...</td>\n",
       "      <td>0.167920</td>\n",
       "      <td>0.170194</td>\n",
       "      <td>0.166961</td>\n",
       "      <td>42.697260</td>\n",
       "      <td>0.166739</td>\n",
       "      <td>0.166690</td>\n",
       "      <td>0.166806</td>\n",
       "      <td>0.167654</td>\n",
       "      <td>0.171047</td>\n",
       "      <td>0.167321</td>\n",
       "      <td>0.166747</td>\n",
       "      <td>8.186171</td>\n",
       "      <td>0.167647</td>\n",
       "      <td>0.170029</td>\n",
       "      <td>0.166893</td>\n",
       "      <td>0.166690</td>\n",
       "      <td>0.166880</td>\n",
       "      <td>2.755233</td>\n",
       "      <td>0.166671</td>\n",
       "      <td>0.178049</td>\n",
       "      <td>2.607334</td>\n",
       "      <td>0.167566</td>\n",
       "      <td>0.167903</td>\n",
       "      <td>0.166876</td>\n",
       "      <td>22.611067</td>\n",
       "      <td>0.167865</td>\n",
       "      <td>0.167223</td>\n",
       "      <td>0.166720</td>\n",
       "      <td>0.166740</td>\n",
       "      <td>3.442119</td>\n",
       "      <td>30.246744</td>\n",
       "      <td>0.166747</td>\n",
       "      <td>0.166679</td>\n",
       "      <td>20.388113</td>\n",
       "      <td>0.166756</td>\n",
       "      <td>0.166727</td>\n",
       "      <td>0.168861</td>\n",
       "      <td>0.166762</td>\n",
       "      <td>0.166741</td>\n",
       "      <td>0.167259</td>\n",
       "      <td>0.167072</td>\n",
       "      <td>0.167001</td>\n",
       "      <td>0.166667</td>\n",
       "      <td>0.166667</td>\n",
       "      <td>0.166670</td>\n",
       "      <td>0.166667</td>\n",
       "      <td>0.169056</td>\n",
       "      <td>0.168759</td>\n",
       "      <td>0.167013</td>\n",
       "      <td>0.169929</td>\n",
       "    </tr>\n",
       "    <tr>\n",
       "      <th>Topic2</th>\n",
       "      <td>31.596736</td>\n",
       "      <td>9.883314</td>\n",
       "      <td>0.168985</td>\n",
       "      <td>0.168203</td>\n",
       "      <td>0.167786</td>\n",
       "      <td>0.166667</td>\n",
       "      <td>0.167077</td>\n",
       "      <td>0.166745</td>\n",
       "      <td>3.420603</td>\n",
       "      <td>0.175774</td>\n",
       "      <td>0.166667</td>\n",
       "      <td>8.278658</td>\n",
       "      <td>0.168354</td>\n",
       "      <td>0.169626</td>\n",
       "      <td>0.167035</td>\n",
       "      <td>0.167040</td>\n",
       "      <td>0.169818</td>\n",
       "      <td>0.168668</td>\n",
       "      <td>1.476933</td>\n",
       "      <td>6.782137</td>\n",
       "      <td>0.166779</td>\n",
       "      <td>0.166865</td>\n",
       "      <td>0.166667</td>\n",
       "      <td>0.167993</td>\n",
       "      <td>0.166827</td>\n",
       "      <td>0.166729</td>\n",
       "      <td>0.166692</td>\n",
       "      <td>0.166793</td>\n",
       "      <td>0.166667</td>\n",
       "      <td>0.166776</td>\n",
       "      <td>0.167477</td>\n",
       "      <td>0.167285</td>\n",
       "      <td>0.167732</td>\n",
       "      <td>0.166667</td>\n",
       "      <td>0.166668</td>\n",
       "      <td>0.166668</td>\n",
       "      <td>0.166701</td>\n",
       "      <td>75.869996</td>\n",
       "      <td>4.098555</td>\n",
       "      <td>0.166984</td>\n",
       "      <td>0.166696</td>\n",
       "      <td>0.170944</td>\n",
       "      <td>0.179094</td>\n",
       "      <td>1.459760</td>\n",
       "      <td>0.167058</td>\n",
       "      <td>0.167717</td>\n",
       "      <td>0.170297</td>\n",
       "      <td>0.169770</td>\n",
       "      <td>0.170019</td>\n",
       "      <td>0.167240</td>\n",
       "      <td>...</td>\n",
       "      <td>2.960389</td>\n",
       "      <td>0.174618</td>\n",
       "      <td>2.414862</td>\n",
       "      <td>0.168396</td>\n",
       "      <td>30.654944</td>\n",
       "      <td>3.928181</td>\n",
       "      <td>0.166884</td>\n",
       "      <td>0.166723</td>\n",
       "      <td>0.166667</td>\n",
       "      <td>0.169309</td>\n",
       "      <td>0.166667</td>\n",
       "      <td>0.167094</td>\n",
       "      <td>5.800711</td>\n",
       "      <td>0.167942</td>\n",
       "      <td>0.166667</td>\n",
       "      <td>0.166888</td>\n",
       "      <td>0.166777</td>\n",
       "      <td>0.166667</td>\n",
       "      <td>13.019477</td>\n",
       "      <td>0.166997</td>\n",
       "      <td>0.166708</td>\n",
       "      <td>0.173808</td>\n",
       "      <td>0.170822</td>\n",
       "      <td>0.167077</td>\n",
       "      <td>0.169833</td>\n",
       "      <td>0.173809</td>\n",
       "      <td>0.171762</td>\n",
       "      <td>0.166699</td>\n",
       "      <td>2.857077</td>\n",
       "      <td>0.167158</td>\n",
       "      <td>0.167007</td>\n",
       "      <td>0.168177</td>\n",
       "      <td>0.166700</td>\n",
       "      <td>0.168905</td>\n",
       "      <td>0.166809</td>\n",
       "      <td>0.167236</td>\n",
       "      <td>0.167051</td>\n",
       "      <td>0.174097</td>\n",
       "      <td>0.166755</td>\n",
       "      <td>0.166891</td>\n",
       "      <td>0.167120</td>\n",
       "      <td>0.166891</td>\n",
       "      <td>0.167050</td>\n",
       "      <td>0.166801</td>\n",
       "      <td>0.166727</td>\n",
       "      <td>0.166919</td>\n",
       "      <td>0.168249</td>\n",
       "      <td>0.167098</td>\n",
       "      <td>3.649329</td>\n",
       "      <td>1.387362</td>\n",
       "    </tr>\n",
       "    <tr>\n",
       "      <th>Topic3</th>\n",
       "      <td>544.146978</td>\n",
       "      <td>0.168015</td>\n",
       "      <td>0.167498</td>\n",
       "      <td>0.167434</td>\n",
       "      <td>0.166749</td>\n",
       "      <td>7.705323</td>\n",
       "      <td>0.168127</td>\n",
       "      <td>9.831342</td>\n",
       "      <td>4.639824</td>\n",
       "      <td>0.167161</td>\n",
       "      <td>0.167583</td>\n",
       "      <td>21.683598</td>\n",
       "      <td>60.088136</td>\n",
       "      <td>8.078278</td>\n",
       "      <td>0.169240</td>\n",
       "      <td>10.681147</td>\n",
       "      <td>17.931291</td>\n",
       "      <td>10.957659</td>\n",
       "      <td>0.167281</td>\n",
       "      <td>0.168712</td>\n",
       "      <td>2.227588</td>\n",
       "      <td>0.171957</td>\n",
       "      <td>0.166667</td>\n",
       "      <td>0.170480</td>\n",
       "      <td>0.169720</td>\n",
       "      <td>0.166825</td>\n",
       "      <td>0.166789</td>\n",
       "      <td>0.166721</td>\n",
       "      <td>0.166670</td>\n",
       "      <td>0.166985</td>\n",
       "      <td>27.232146</td>\n",
       "      <td>0.166734</td>\n",
       "      <td>0.304476</td>\n",
       "      <td>0.167035</td>\n",
       "      <td>0.166669</td>\n",
       "      <td>0.181630</td>\n",
       "      <td>0.166785</td>\n",
       "      <td>248.053944</td>\n",
       "      <td>12.685961</td>\n",
       "      <td>0.166676</td>\n",
       "      <td>0.166799</td>\n",
       "      <td>0.287111</td>\n",
       "      <td>0.167133</td>\n",
       "      <td>0.168209</td>\n",
       "      <td>0.166667</td>\n",
       "      <td>27.891372</td>\n",
       "      <td>0.166999</td>\n",
       "      <td>0.167972</td>\n",
       "      <td>0.166878</td>\n",
       "      <td>0.169802</td>\n",
       "      <td>...</td>\n",
       "      <td>0.168242</td>\n",
       "      <td>4.307013</td>\n",
       "      <td>0.168023</td>\n",
       "      <td>3.381888</td>\n",
       "      <td>0.168645</td>\n",
       "      <td>0.167457</td>\n",
       "      <td>65.284687</td>\n",
       "      <td>0.166667</td>\n",
       "      <td>0.166681</td>\n",
       "      <td>1.651107</td>\n",
       "      <td>11.209645</td>\n",
       "      <td>0.184704</td>\n",
       "      <td>0.200636</td>\n",
       "      <td>0.177348</td>\n",
       "      <td>0.166892</td>\n",
       "      <td>25.599547</td>\n",
       "      <td>12.390680</td>\n",
       "      <td>0.167531</td>\n",
       "      <td>0.166800</td>\n",
       "      <td>5.584136</td>\n",
       "      <td>0.166908</td>\n",
       "      <td>9.104356</td>\n",
       "      <td>0.166667</td>\n",
       "      <td>0.923655</td>\n",
       "      <td>0.167137</td>\n",
       "      <td>0.169348</td>\n",
       "      <td>2.999467</td>\n",
       "      <td>0.167629</td>\n",
       "      <td>0.166667</td>\n",
       "      <td>0.166917</td>\n",
       "      <td>0.171557</td>\n",
       "      <td>6.691715</td>\n",
       "      <td>0.166748</td>\n",
       "      <td>0.168447</td>\n",
       "      <td>0.166696</td>\n",
       "      <td>0.166690</td>\n",
       "      <td>3.235994</td>\n",
       "      <td>0.166706</td>\n",
       "      <td>0.166696</td>\n",
       "      <td>0.166898</td>\n",
       "      <td>0.166825</td>\n",
       "      <td>0.166797</td>\n",
       "      <td>0.166667</td>\n",
       "      <td>0.166753</td>\n",
       "      <td>0.166667</td>\n",
       "      <td>0.166821</td>\n",
       "      <td>0.168288</td>\n",
       "      <td>0.167408</td>\n",
       "      <td>0.167030</td>\n",
       "      <td>0.172333</td>\n",
       "    </tr>\n",
       "    <tr>\n",
       "      <th>Topic4</th>\n",
       "      <td>0.167980</td>\n",
       "      <td>0.171067</td>\n",
       "      <td>8.337961</td>\n",
       "      <td>0.178158</td>\n",
       "      <td>0.168742</td>\n",
       "      <td>0.166734</td>\n",
       "      <td>0.166694</td>\n",
       "      <td>0.166667</td>\n",
       "      <td>0.167342</td>\n",
       "      <td>0.167829</td>\n",
       "      <td>0.166667</td>\n",
       "      <td>0.169003</td>\n",
       "      <td>0.166974</td>\n",
       "      <td>0.175658</td>\n",
       "      <td>0.166932</td>\n",
       "      <td>0.166667</td>\n",
       "      <td>0.166708</td>\n",
       "      <td>1.395107</td>\n",
       "      <td>0.170608</td>\n",
       "      <td>0.166720</td>\n",
       "      <td>0.203257</td>\n",
       "      <td>0.204397</td>\n",
       "      <td>2.568958</td>\n",
       "      <td>2.998267</td>\n",
       "      <td>0.169939</td>\n",
       "      <td>0.166730</td>\n",
       "      <td>0.166692</td>\n",
       "      <td>0.166742</td>\n",
       "      <td>0.166667</td>\n",
       "      <td>0.166756</td>\n",
       "      <td>0.166668</td>\n",
       "      <td>0.167441</td>\n",
       "      <td>0.168357</td>\n",
       "      <td>0.166694</td>\n",
       "      <td>0.168406</td>\n",
       "      <td>0.166695</td>\n",
       "      <td>16.142594</td>\n",
       "      <td>0.171649</td>\n",
       "      <td>0.169093</td>\n",
       "      <td>0.166672</td>\n",
       "      <td>0.166667</td>\n",
       "      <td>0.168307</td>\n",
       "      <td>0.167109</td>\n",
       "      <td>0.166743</td>\n",
       "      <td>0.166751</td>\n",
       "      <td>0.167902</td>\n",
       "      <td>0.171962</td>\n",
       "      <td>0.173613</td>\n",
       "      <td>0.166667</td>\n",
       "      <td>0.167699</td>\n",
       "      <td>...</td>\n",
       "      <td>0.168219</td>\n",
       "      <td>0.167136</td>\n",
       "      <td>0.167468</td>\n",
       "      <td>0.166927</td>\n",
       "      <td>0.166938</td>\n",
       "      <td>0.167449</td>\n",
       "      <td>0.166772</td>\n",
       "      <td>23.267009</td>\n",
       "      <td>4.733212</td>\n",
       "      <td>0.166689</td>\n",
       "      <td>0.166679</td>\n",
       "      <td>0.170864</td>\n",
       "      <td>0.167638</td>\n",
       "      <td>0.176104</td>\n",
       "      <td>5.745786</td>\n",
       "      <td>0.166671</td>\n",
       "      <td>0.166671</td>\n",
       "      <td>0.166881</td>\n",
       "      <td>0.166690</td>\n",
       "      <td>0.166684</td>\n",
       "      <td>0.166670</td>\n",
       "      <td>0.166753</td>\n",
       "      <td>0.167194</td>\n",
       "      <td>0.166727</td>\n",
       "      <td>0.166735</td>\n",
       "      <td>0.166868</td>\n",
       "      <td>0.166820</td>\n",
       "      <td>0.167104</td>\n",
       "      <td>0.166744</td>\n",
       "      <td>0.167699</td>\n",
       "      <td>0.166726</td>\n",
       "      <td>0.166988</td>\n",
       "      <td>0.166699</td>\n",
       "      <td>0.167233</td>\n",
       "      <td>0.166706</td>\n",
       "      <td>0.166667</td>\n",
       "      <td>0.167318</td>\n",
       "      <td>0.166669</td>\n",
       "      <td>0.166667</td>\n",
       "      <td>0.166927</td>\n",
       "      <td>0.167185</td>\n",
       "      <td>0.166670</td>\n",
       "      <td>0.166668</td>\n",
       "      <td>0.166672</td>\n",
       "      <td>0.166739</td>\n",
       "      <td>0.166683</td>\n",
       "      <td>0.166827</td>\n",
       "      <td>0.166954</td>\n",
       "      <td>0.166667</td>\n",
       "      <td>0.166817</td>\n",
       "    </tr>\n",
       "    <tr>\n",
       "      <th>Topic5</th>\n",
       "      <td>0.170230</td>\n",
       "      <td>118.392584</td>\n",
       "      <td>13.241233</td>\n",
       "      <td>12.468627</td>\n",
       "      <td>3.724464</td>\n",
       "      <td>0.171985</td>\n",
       "      <td>1.413018</td>\n",
       "      <td>0.172329</td>\n",
       "      <td>5.722418</td>\n",
       "      <td>3.955981</td>\n",
       "      <td>3.540414</td>\n",
       "      <td>0.167991</td>\n",
       "      <td>0.167156</td>\n",
       "      <td>0.173180</td>\n",
       "      <td>0.167713</td>\n",
       "      <td>0.166741</td>\n",
       "      <td>0.167069</td>\n",
       "      <td>0.167257</td>\n",
       "      <td>0.167776</td>\n",
       "      <td>0.166861</td>\n",
       "      <td>0.170176</td>\n",
       "      <td>0.170329</td>\n",
       "      <td>0.167128</td>\n",
       "      <td>0.168233</td>\n",
       "      <td>0.168364</td>\n",
       "      <td>0.166693</td>\n",
       "      <td>0.166686</td>\n",
       "      <td>0.166667</td>\n",
       "      <td>0.166667</td>\n",
       "      <td>0.166830</td>\n",
       "      <td>0.166869</td>\n",
       "      <td>27.720298</td>\n",
       "      <td>0.174412</td>\n",
       "      <td>3.715856</td>\n",
       "      <td>0.175437</td>\n",
       "      <td>0.218789</td>\n",
       "      <td>0.166702</td>\n",
       "      <td>225.971425</td>\n",
       "      <td>4.604949</td>\n",
       "      <td>4.560724</td>\n",
       "      <td>0.734243</td>\n",
       "      <td>0.193068</td>\n",
       "      <td>3.267013</td>\n",
       "      <td>3.869491</td>\n",
       "      <td>2.203968</td>\n",
       "      <td>0.168794</td>\n",
       "      <td>0.171883</td>\n",
       "      <td>10.411631</td>\n",
       "      <td>1.878435</td>\n",
       "      <td>11.703933</td>\n",
       "      <td>...</td>\n",
       "      <td>0.169564</td>\n",
       "      <td>2.927358</td>\n",
       "      <td>0.167202</td>\n",
       "      <td>0.167310</td>\n",
       "      <td>0.167054</td>\n",
       "      <td>0.166745</td>\n",
       "      <td>0.166815</td>\n",
       "      <td>0.166861</td>\n",
       "      <td>0.173768</td>\n",
       "      <td>0.166703</td>\n",
       "      <td>0.166775</td>\n",
       "      <td>0.167117</td>\n",
       "      <td>0.199630</td>\n",
       "      <td>33.061702</td>\n",
       "      <td>0.166674</td>\n",
       "      <td>0.167174</td>\n",
       "      <td>0.169441</td>\n",
       "      <td>0.167148</td>\n",
       "      <td>0.167651</td>\n",
       "      <td>0.171634</td>\n",
       "      <td>0.166808</td>\n",
       "      <td>0.167990</td>\n",
       "      <td>7.092825</td>\n",
       "      <td>0.166755</td>\n",
       "      <td>1.226637</td>\n",
       "      <td>17.085431</td>\n",
       "      <td>0.166788</td>\n",
       "      <td>0.166823</td>\n",
       "      <td>0.166677</td>\n",
       "      <td>0.167826</td>\n",
       "      <td>0.166812</td>\n",
       "      <td>0.167193</td>\n",
       "      <td>0.166706</td>\n",
       "      <td>35.904714</td>\n",
       "      <td>0.166690</td>\n",
       "      <td>0.166668</td>\n",
       "      <td>0.167327</td>\n",
       "      <td>0.168178</td>\n",
       "      <td>0.166677</td>\n",
       "      <td>0.166680</td>\n",
       "      <td>0.166676</td>\n",
       "      <td>0.166697</td>\n",
       "      <td>0.166674</td>\n",
       "      <td>0.166699</td>\n",
       "      <td>0.166687</td>\n",
       "      <td>0.166749</td>\n",
       "      <td>29.002575</td>\n",
       "      <td>13.965810</td>\n",
       "      <td>0.167176</td>\n",
       "      <td>0.229892</td>\n",
       "    </tr>\n",
       "  </tbody>\n",
       "</table>\n",
       "<p>5 rows × 54303 columns</p>\n",
       "</div>"
      ],
      "text/plain": [
       "                aa         aaa       aaaa      aaaaa    aaaaaa  aaaaaaaa  \\\n",
       "Topic1   58.346030   89.258224   9.862696   0.166778  0.166858  0.167643   \n",
       "Topic2   31.596736    9.883314   0.168985   0.168203  0.167786  0.166667   \n",
       "Topic3  544.146978    0.168015   0.167498   0.167434  0.166749  7.705323   \n",
       "Topic4    0.167980    0.171067   8.337961   0.178158  0.168742  0.166734   \n",
       "Topic5    0.170230  118.392584  13.241233  12.468627  3.724464  0.171985   \n",
       "\n",
       "        aaaaaaaaaa     aaaab       aab      aaba     aabaa        aac  \\\n",
       "Topic1    0.168304  0.167056  0.167390  0.166883  0.166926   0.169316   \n",
       "Topic2    0.167077  0.166745  3.420603  0.175774  0.166667   8.278658   \n",
       "Topic3    0.168127  9.831342  4.639824  0.167161  0.167583  21.683598   \n",
       "Topic4    0.166694  0.166667  0.167342  0.167829  0.166667   0.169003   \n",
       "Topic5    1.413018  0.172329  5.722418  3.955981  3.540414   0.167991   \n",
       "\n",
       "              aad      aadb   aadhaar  aadinstance     aadsts        aae  \\\n",
       "Topic1   0.166744  0.187149  1.431517     0.166689   0.166808   0.166895   \n",
       "Topic2   0.168354  0.169626  0.167035     0.167040   0.169818   0.168668   \n",
       "Topic3  60.088136  8.078278  0.169240    10.681147  17.931291  10.957659   \n",
       "Topic4   0.166974  0.175658  0.166932     0.166667   0.166708   1.395107   \n",
       "Topic5   0.167156  0.173180  0.167713     0.166741   0.167069   0.167257   \n",
       "\n",
       "            aaed       aaf       aah       aal     aamir       aap       aapl  \\\n",
       "Topic1  0.167369  0.166985  0.167617  4.488961  0.166667  0.168982  16.617599   \n",
       "Topic2  1.476933  6.782137  0.166779  0.166865  0.166667  0.167993   0.166827   \n",
       "Topic3  0.167281  0.168712  2.227588  0.171957  0.166667  0.170480   0.169720   \n",
       "Topic4  0.170608  0.166720  0.203257  0.204397  2.568958  2.998267   0.169939   \n",
       "Topic5  0.167776  0.166861  0.170176  0.170329  0.167128  0.168233   0.168364   \n",
       "\n",
       "            aapt  aaptoptions  aaptprocess     aaptv       aar      aarch  \\\n",
       "Topic1  0.166671     0.166671     0.166674  0.166667  0.166681   0.166785   \n",
       "Topic2  0.166729     0.166692     0.166793  0.166667  0.166776   0.167477   \n",
       "Topic3  0.166825     0.166789     0.166721  0.166670  0.166985  27.232146   \n",
       "Topic4  0.166730     0.166692     0.166742  0.166667  0.166756   0.166668   \n",
       "Topic5  0.166693     0.166686     0.166667  0.166667  0.166830   0.166869   \n",
       "\n",
       "            aaron      aars       aat    aatrox       aau  aazgjwfdmvna  \\\n",
       "Topic1   0.169242  0.166667  0.167786  6.015475  4.888785      0.166884   \n",
       "Topic2   0.167285  0.167732  0.166667  0.166668  0.166668      0.166701   \n",
       "Topic3   0.166734  0.304476  0.167035  0.166669  0.181630      0.166785   \n",
       "Topic4   0.167441  0.168357  0.166694  0.168406  0.166695     16.142594   \n",
       "Topic5  27.720298  0.174412  3.715856  0.175437  0.218789      0.166702   \n",
       "\n",
       "                ab        aba      abab     abacd    abandon  abandoned  \\\n",
       "Topic1   68.371248   0.167035  0.166878  0.167725  13.969769   0.166824   \n",
       "Topic2   75.869996   4.098555  0.166984  0.166696   0.170944   0.179094   \n",
       "Topic3  248.053944  12.685961  0.166676  0.166799   0.287111   0.167133   \n",
       "Topic4    0.171649   0.169093  0.166672  0.166667   0.168307   0.167109   \n",
       "Topic5  225.971425   4.604949  4.560724  0.734243   0.193068   3.267013   \n",
       "\n",
       "        abandoning  abarnert        abb       abbr     abbrev  abbreviate  \\\n",
       "Topic1    0.167097  0.167086   3.270737  11.520182   9.543963    0.166959   \n",
       "Topic2    1.459760  0.167058   0.167717   0.170297   0.169770    0.170019   \n",
       "Topic3    0.168209  0.166667  27.891372   0.166999   0.167972    0.166878   \n",
       "Topic4    0.166743  0.166751   0.167902   0.171962   0.173613    0.166667   \n",
       "Topic5    3.869491  2.203968   0.168794   0.171883  10.411631    1.878435   \n",
       "\n",
       "        abbreviated  ...       zqu        zr       zrh         zs        zsh  \\\n",
       "Topic1     1.471308  ...  0.167920  0.170194  0.166961  42.697260   0.166739   \n",
       "Topic2     0.167240  ...  2.960389  0.174618  2.414862   0.168396  30.654944   \n",
       "Topic3     0.169802  ...  0.168242  4.307013  0.168023   3.381888   0.168645   \n",
       "Topic4     0.167699  ...  0.168219  0.167136  0.167468   0.166927   0.166938   \n",
       "Topic5    11.703933  ...  0.169564  2.927358  0.167202   0.167310   0.167054   \n",
       "\n",
       "           zshrc        zst     zstack    zstart      zstd       zstl  \\\n",
       "Topic1  0.166690   0.166806   0.167654  0.171047  0.167321   0.166747   \n",
       "Topic2  3.928181   0.166884   0.166723  0.166667  0.169309   0.166667   \n",
       "Topic3  0.167457  65.284687   0.166667  0.166681  1.651107  11.209645   \n",
       "Topic4  0.167449   0.166772  23.267009  4.733212  0.166689   0.166679   \n",
       "Topic5  0.166745   0.166815   0.166861  0.173768  0.166703   0.166775   \n",
       "\n",
       "              zt       zts         zu       zug       zulu     zulufx  \\\n",
       "Topic1  8.186171  0.167647   0.170029  0.166893   0.166690   0.166880   \n",
       "Topic2  0.167094  5.800711   0.167942  0.166667   0.166888   0.166777   \n",
       "Topic3  0.184704  0.200636   0.177348  0.166892  25.599547  12.390680   \n",
       "Topic4  0.170864  0.167638   0.176104  5.745786   0.166671   0.166671   \n",
       "Topic5  0.167117  0.199630  33.061702  0.166674   0.167174   0.169441   \n",
       "\n",
       "        zusammenf       zuul        zv      zval        zw      zwei  \\\n",
       "Topic1   2.755233   0.166671  0.178049  2.607334  0.167566  0.167903   \n",
       "Topic2   0.166667  13.019477  0.166997  0.166708  0.173808  0.170822   \n",
       "Topic3   0.167531   0.166800  5.584136  0.166908  9.104356  0.166667   \n",
       "Topic4   0.166881   0.166690  0.166684  0.166670  0.166753  0.167194   \n",
       "Topic5   0.167148   0.167651  0.171634  0.166808  0.167990  7.092825   \n",
       "\n",
       "             zwh         zx        zxc       zxf     zxing      zxvf  \\\n",
       "Topic1  0.166876  22.611067   0.167865  0.167223  0.166720  0.166740   \n",
       "Topic2  0.167077   0.169833   0.173809  0.171762  0.166699  2.857077   \n",
       "Topic3  0.923655   0.167137   0.169348  2.999467  0.167629  0.166667   \n",
       "Topic4  0.166727   0.166735   0.166868  0.166820  0.167104  0.166744   \n",
       "Topic5  0.166755   1.226637  17.085431  0.166788  0.166823  0.166677   \n",
       "\n",
       "             zxy         zy    zygote  zygoteinit         zz       zza  \\\n",
       "Topic1  3.442119  30.246744  0.166747    0.166679  20.388113  0.166756   \n",
       "Topic2  0.167158   0.167007  0.168177    0.166700   0.168905  0.166809   \n",
       "Topic3  0.166917   0.171557  6.691715    0.166748   0.168447  0.166696   \n",
       "Topic4  0.167699   0.166726  0.166988    0.166699   0.167233  0.166706   \n",
       "Topic5  0.167826   0.166812  0.167193    0.166706  35.904714  0.166690   \n",
       "\n",
       "             zzb       zzd       zze       zzf       zzh       zzi       zzr  \\\n",
       "Topic1  0.166727  0.168861  0.166762  0.166741  0.167259  0.167072  0.167001   \n",
       "Topic2  0.167236  0.167051  0.174097  0.166755  0.166891  0.167120  0.166891   \n",
       "Topic3  0.166690  3.235994  0.166706  0.166696  0.166898  0.166825  0.166797   \n",
       "Topic4  0.166667  0.167318  0.166669  0.166667  0.166927  0.167185  0.166670   \n",
       "Topic5  0.166668  0.167327  0.168178  0.166677  0.166680  0.166676  0.166697   \n",
       "\n",
       "             zzs       zzt       zzu       zzx        zzz       zzzz  \\\n",
       "Topic1  0.166667  0.166667  0.166670  0.166667   0.169056   0.168759   \n",
       "Topic2  0.167050  0.166801  0.166727  0.166919   0.168249   0.167098   \n",
       "Topic3  0.166667  0.166753  0.166667  0.166821   0.168288   0.167408   \n",
       "Topic4  0.166668  0.166672  0.166739  0.166683   0.166827   0.166954   \n",
       "Topic5  0.166674  0.166699  0.166687  0.166749  29.002575  13.965810   \n",
       "\n",
       "          zzzzzz  zzzzzzzz  \n",
       "Topic1  0.167013  0.169929  \n",
       "Topic2  3.649329  1.387362  \n",
       "Topic3  0.167030  0.172333  \n",
       "Topic4  0.166667  0.166817  \n",
       "Topic5  0.167176  0.229892  \n",
       "\n",
       "[5 rows x 54303 columns]"
      ]
     },
     "execution_count": 202,
     "metadata": {},
     "output_type": "execute_result"
    }
   ],
   "source": [
    "# Topic-Keyword Matrix\n",
    "df_topic_keywords = pd.DataFrame(lda_sk.components_)\n",
    "\n",
    "# Assign Column and Index\n",
    "df_topic_keywords.columns = tf_vectorizer.get_feature_names()\n",
    "df_topic_keywords.index = topicnames\n",
    "\n",
    "# View\n",
    "df_topic_keywords.head()"
   ]
  },
  {
   "cell_type": "code",
   "execution_count": 203,
   "metadata": {},
   "outputs": [
    {
     "data": {
      "text/html": [
       "<div>\n",
       "<style scoped>\n",
       "    .dataframe tbody tr th:only-of-type {\n",
       "        vertical-align: middle;\n",
       "    }\n",
       "\n",
       "    .dataframe tbody tr th {\n",
       "        vertical-align: top;\n",
       "    }\n",
       "\n",
       "    .dataframe thead th {\n",
       "        text-align: right;\n",
       "    }\n",
       "</style>\n",
       "<table border=\"1\" class=\"dataframe\">\n",
       "  <thead>\n",
       "    <tr style=\"text-align: right;\">\n",
       "      <th></th>\n",
       "      <th>Word 1</th>\n",
       "      <th>Word 2</th>\n",
       "      <th>Word 3</th>\n",
       "      <th>Word 4</th>\n",
       "      <th>Word 5</th>\n",
       "      <th>Word 6</th>\n",
       "      <th>Word 7</th>\n",
       "      <th>Word 8</th>\n",
       "      <th>Word 9</th>\n",
       "      <th>Word 10</th>\n",
       "      <th>Word 11</th>\n",
       "      <th>Word 12</th>\n",
       "      <th>Word 13</th>\n",
       "      <th>Word 14</th>\n",
       "      <th>Word 15</th>\n",
       "    </tr>\n",
       "  </thead>\n",
       "  <tbody>\n",
       "    <tr>\n",
       "      <th>Topic 1</th>\n",
       "      <td>dataframe</td>\n",
       "      <td>pandas</td>\n",
       "      <td>python</td>\n",
       "      <td>numpy</td>\n",
       "      <td>keras</td>\n",
       "      <td>csv</td>\n",
       "      <td>random</td>\n",
       "      <td>datetime</td>\n",
       "      <td>excel</td>\n",
       "      <td>matplotlib</td>\n",
       "      <td>opencv</td>\n",
       "      <td>math</td>\n",
       "      <td>image</td>\n",
       "      <td>shiny</td>\n",
       "      <td>lstm</td>\n",
       "    </tr>\n",
       "    <tr>\n",
       "      <th>Topic 2</th>\n",
       "      <td>python</td>\n",
       "      <td>docker</td>\n",
       "      <td>php</td>\n",
       "      <td>json</td>\n",
       "      <td>apache</td>\n",
       "      <td>database</td>\n",
       "      <td>npm</td>\n",
       "      <td>git</td>\n",
       "      <td>django</td>\n",
       "      <td>logging</td>\n",
       "      <td>kubernetes</td>\n",
       "      <td>mysql</td>\n",
       "      <td>firebase</td>\n",
       "      <td>sql</td>\n",
       "      <td>ssl</td>\n",
       "    </tr>\n",
       "    <tr>\n",
       "      <th>Topic 3</th>\n",
       "      <td>windows</td>\n",
       "      <td>linux</td>\n",
       "      <td>azure</td>\n",
       "      <td>ruby</td>\n",
       "      <td>json</td>\n",
       "      <td>powershell</td>\n",
       "      <td>debugging</td>\n",
       "      <td>assembly</td>\n",
       "      <td>encryption</td>\n",
       "      <td>qt</td>\n",
       "      <td>xml</td>\n",
       "      <td>xamarin</td>\n",
       "      <td>macos</td>\n",
       "      <td>datetime</td>\n",
       "      <td>database</td>\n",
       "    </tr>\n",
       "    <tr>\n",
       "      <th>Topic 4</th>\n",
       "      <td>angular</td>\n",
       "      <td>html</td>\n",
       "      <td>flutter</td>\n",
       "      <td>css</td>\n",
       "      <td>reactjs</td>\n",
       "      <td>javascript</td>\n",
       "      <td>json</td>\n",
       "      <td>webpack</td>\n",
       "      <td>dart</td>\n",
       "      <td>bootstrap</td>\n",
       "      <td>jquery</td>\n",
       "      <td>typescript</td>\n",
       "      <td>svg</td>\n",
       "      <td>ios</td>\n",
       "      <td>rxjs</td>\n",
       "    </tr>\n",
       "    <tr>\n",
       "      <th>Topic 5</th>\n",
       "      <td>multithreading</td>\n",
       "      <td>python</td>\n",
       "      <td>templates</td>\n",
       "      <td>tensorflow</td>\n",
       "      <td>json</td>\n",
       "      <td>database</td>\n",
       "      <td>sql</td>\n",
       "      <td>sorting</td>\n",
       "      <td>javascript</td>\n",
       "      <td>pdf</td>\n",
       "      <td>regex</td>\n",
       "      <td>generics</td>\n",
       "      <td>woocommerce</td>\n",
       "      <td>csv</td>\n",
       "      <td>algorithm</td>\n",
       "    </tr>\n",
       "    <tr>\n",
       "      <th>Topic 6</th>\n",
       "      <td>java</td>\n",
       "      <td>android</td>\n",
       "      <td>gradle</td>\n",
       "      <td>spring</td>\n",
       "      <td>apache</td>\n",
       "      <td>maven</td>\n",
       "      <td>xml</td>\n",
       "      <td>kotlin</td>\n",
       "      <td>class</td>\n",
       "      <td>firebase</td>\n",
       "      <td>junit</td>\n",
       "      <td>api</td>\n",
       "      <td>hibernate</td>\n",
       "      <td>androidx</td>\n",
       "      <td>javafx</td>\n",
       "    </tr>\n",
       "  </tbody>\n",
       "</table>\n",
       "</div>"
      ],
      "text/plain": [
       "                 Word 1   Word 2     Word 3      Word 4   Word 5      Word 6  \\\n",
       "Topic 1       dataframe   pandas     python       numpy    keras         csv   \n",
       "Topic 2          python   docker        php        json   apache    database   \n",
       "Topic 3         windows    linux      azure        ruby     json  powershell   \n",
       "Topic 4         angular     html    flutter         css  reactjs  javascript   \n",
       "Topic 5  multithreading   python  templates  tensorflow     json    database   \n",
       "Topic 6            java  android     gradle      spring   apache       maven   \n",
       "\n",
       "            Word 7    Word 8      Word 9     Word 10     Word 11     Word 12  \\\n",
       "Topic 1     random  datetime       excel  matplotlib      opencv        math   \n",
       "Topic 2        npm       git      django     logging  kubernetes       mysql   \n",
       "Topic 3  debugging  assembly  encryption          qt         xml     xamarin   \n",
       "Topic 4       json   webpack        dart   bootstrap      jquery  typescript   \n",
       "Topic 5        sql   sorting  javascript         pdf       regex    generics   \n",
       "Topic 6        xml    kotlin       class    firebase       junit         api   \n",
       "\n",
       "             Word 13   Word 14    Word 15  \n",
       "Topic 1        image     shiny       lstm  \n",
       "Topic 2     firebase       sql        ssl  \n",
       "Topic 3        macos  datetime   database  \n",
       "Topic 4          svg       ios       rxjs  \n",
       "Topic 5  woocommerce       csv  algorithm  \n",
       "Topic 6    hibernate  androidx     javafx  "
      ]
     },
     "execution_count": 203,
     "metadata": {},
     "output_type": "execute_result"
    }
   ],
   "source": [
    "# Show top n keywords for each topic\n",
    "def show_topics(vectorizer, lda_model, n_words=20):\n",
    "    keywords = np.array(vectorizer.get_feature_names())\n",
    "    topic_keywords = []\n",
    "    for topic_weights in lda_model.components_:\n",
    "        topic_words_in_it = []\n",
    "        for ind in (-topic_weights).argsort():\n",
    "            if len(topic_words_in_it) >= n_words:\n",
    "                break\n",
    "            else:\n",
    "                if keywords[ind] in it_tags_dict:\n",
    "                    topic_words_in_it.append(ind)\n",
    "        top_keyword_locs = topic_words_in_it\n",
    "        # top_keyword_locs = (-topic_weights).argsort()[:n_words]\n",
    "        topic_keywords.append(keywords.take(top_keyword_locs))\n",
    "    return topic_keywords\n",
    "\n",
    "\n",
    "topic_keywords = show_topics(vectorizer=tf_vectorizer,\n",
    "                             lda_model=lda_sk,\n",
    "                             n_words=15)\n",
    "\n",
    "# Topic - Keywords Dataframe\n",
    "df_topic_keywords = pd.DataFrame(topic_keywords)\n",
    "df_topic_keywords.columns = ['Word '+str(i+1)\n",
    "                             for i in range(df_topic_keywords.shape[1])]\n",
    "df_topic_keywords.index = ['Topic '+str(i+1)\n",
    "                           for i in range(df_topic_keywords.shape[0])]\n",
    "df_topic_keywords"
   ]
  },
  {
   "cell_type": "code",
   "execution_count": 77,
   "metadata": {},
   "outputs": [
    {
     "data": {
      "text/html": [
       "<style  type=\"text/css\" >\n",
       "    #T_b7fdef28_b67a_11ea_8f41_448a5b9c78a6row0_col0 {\n",
       "            color:  black;\n",
       "            font-weight:  400;\n",
       "        }    #T_b7fdef28_b67a_11ea_8f41_448a5b9c78a6row0_col1 {\n",
       "            color:  black;\n",
       "            font-weight:  400;\n",
       "        }    #T_b7fdef28_b67a_11ea_8f41_448a5b9c78a6row0_col2 {\n",
       "            color:  black;\n",
       "            font-weight:  400;\n",
       "        }    #T_b7fdef28_b67a_11ea_8f41_448a5b9c78a6row0_col3 {\n",
       "            color:  green;\n",
       "            font-weight:  700;\n",
       "        }    #T_b7fdef28_b67a_11ea_8f41_448a5b9c78a6row0_col4 {\n",
       "            color:  green;\n",
       "            font-weight:  700;\n",
       "        }    #T_b7fdef28_b67a_11ea_8f41_448a5b9c78a6row0_col5 {\n",
       "            color:  black;\n",
       "            font-weight:  400;\n",
       "        }    #T_b7fdef28_b67a_11ea_8f41_448a5b9c78a6row0_col6 {\n",
       "            color:  green;\n",
       "            font-weight:  700;\n",
       "        }    #T_b7fdef28_b67a_11ea_8f41_448a5b9c78a6row1_col0 {\n",
       "            color:  black;\n",
       "            font-weight:  400;\n",
       "        }    #T_b7fdef28_b67a_11ea_8f41_448a5b9c78a6row1_col1 {\n",
       "            color:  green;\n",
       "            font-weight:  700;\n",
       "        }    #T_b7fdef28_b67a_11ea_8f41_448a5b9c78a6row1_col2 {\n",
       "            color:  black;\n",
       "            font-weight:  400;\n",
       "        }    #T_b7fdef28_b67a_11ea_8f41_448a5b9c78a6row1_col3 {\n",
       "            color:  green;\n",
       "            font-weight:  700;\n",
       "        }    #T_b7fdef28_b67a_11ea_8f41_448a5b9c78a6row1_col4 {\n",
       "            color:  black;\n",
       "            font-weight:  400;\n",
       "        }    #T_b7fdef28_b67a_11ea_8f41_448a5b9c78a6row1_col5 {\n",
       "            color:  black;\n",
       "            font-weight:  400;\n",
       "        }    #T_b7fdef28_b67a_11ea_8f41_448a5b9c78a6row1_col6 {\n",
       "            color:  green;\n",
       "            font-weight:  700;\n",
       "        }    #T_b7fdef28_b67a_11ea_8f41_448a5b9c78a6row2_col0 {\n",
       "            color:  black;\n",
       "            font-weight:  400;\n",
       "        }    #T_b7fdef28_b67a_11ea_8f41_448a5b9c78a6row2_col1 {\n",
       "            color:  green;\n",
       "            font-weight:  700;\n",
       "        }    #T_b7fdef28_b67a_11ea_8f41_448a5b9c78a6row2_col2 {\n",
       "            color:  black;\n",
       "            font-weight:  400;\n",
       "        }    #T_b7fdef28_b67a_11ea_8f41_448a5b9c78a6row2_col3 {\n",
       "            color:  green;\n",
       "            font-weight:  700;\n",
       "        }    #T_b7fdef28_b67a_11ea_8f41_448a5b9c78a6row2_col4 {\n",
       "            color:  black;\n",
       "            font-weight:  400;\n",
       "        }    #T_b7fdef28_b67a_11ea_8f41_448a5b9c78a6row2_col5 {\n",
       "            color:  black;\n",
       "            font-weight:  400;\n",
       "        }    #T_b7fdef28_b67a_11ea_8f41_448a5b9c78a6row2_col6 {\n",
       "            color:  green;\n",
       "            font-weight:  700;\n",
       "        }    #T_b7fdef28_b67a_11ea_8f41_448a5b9c78a6row3_col0 {\n",
       "            color:  black;\n",
       "            font-weight:  400;\n",
       "        }    #T_b7fdef28_b67a_11ea_8f41_448a5b9c78a6row3_col1 {\n",
       "            color:  green;\n",
       "            font-weight:  700;\n",
       "        }    #T_b7fdef28_b67a_11ea_8f41_448a5b9c78a6row3_col2 {\n",
       "            color:  black;\n",
       "            font-weight:  400;\n",
       "        }    #T_b7fdef28_b67a_11ea_8f41_448a5b9c78a6row3_col3 {\n",
       "            color:  black;\n",
       "            font-weight:  400;\n",
       "        }    #T_b7fdef28_b67a_11ea_8f41_448a5b9c78a6row3_col4 {\n",
       "            color:  black;\n",
       "            font-weight:  400;\n",
       "        }    #T_b7fdef28_b67a_11ea_8f41_448a5b9c78a6row3_col5 {\n",
       "            color:  black;\n",
       "            font-weight:  400;\n",
       "        }    #T_b7fdef28_b67a_11ea_8f41_448a5b9c78a6row3_col6 {\n",
       "            color:  green;\n",
       "            font-weight:  700;\n",
       "        }    #T_b7fdef28_b67a_11ea_8f41_448a5b9c78a6row4_col0 {\n",
       "            color:  green;\n",
       "            font-weight:  700;\n",
       "        }    #T_b7fdef28_b67a_11ea_8f41_448a5b9c78a6row4_col1 {\n",
       "            color:  green;\n",
       "            font-weight:  700;\n",
       "        }    #T_b7fdef28_b67a_11ea_8f41_448a5b9c78a6row4_col2 {\n",
       "            color:  black;\n",
       "            font-weight:  400;\n",
       "        }    #T_b7fdef28_b67a_11ea_8f41_448a5b9c78a6row4_col3 {\n",
       "            color:  black;\n",
       "            font-weight:  400;\n",
       "        }    #T_b7fdef28_b67a_11ea_8f41_448a5b9c78a6row4_col4 {\n",
       "            color:  black;\n",
       "            font-weight:  400;\n",
       "        }    #T_b7fdef28_b67a_11ea_8f41_448a5b9c78a6row4_col5 {\n",
       "            color:  green;\n",
       "            font-weight:  700;\n",
       "        }    #T_b7fdef28_b67a_11ea_8f41_448a5b9c78a6row4_col6 {\n",
       "            color:  green;\n",
       "            font-weight:  700;\n",
       "        }    #T_b7fdef28_b67a_11ea_8f41_448a5b9c78a6row5_col0 {\n",
       "            color:  black;\n",
       "            font-weight:  400;\n",
       "        }    #T_b7fdef28_b67a_11ea_8f41_448a5b9c78a6row5_col1 {\n",
       "            color:  black;\n",
       "            font-weight:  400;\n",
       "        }    #T_b7fdef28_b67a_11ea_8f41_448a5b9c78a6row5_col2 {\n",
       "            color:  black;\n",
       "            font-weight:  400;\n",
       "        }    #T_b7fdef28_b67a_11ea_8f41_448a5b9c78a6row5_col3 {\n",
       "            color:  black;\n",
       "            font-weight:  400;\n",
       "        }    #T_b7fdef28_b67a_11ea_8f41_448a5b9c78a6row5_col4 {\n",
       "            color:  green;\n",
       "            font-weight:  700;\n",
       "        }    #T_b7fdef28_b67a_11ea_8f41_448a5b9c78a6row5_col5 {\n",
       "            color:  black;\n",
       "            font-weight:  400;\n",
       "        }    #T_b7fdef28_b67a_11ea_8f41_448a5b9c78a6row5_col6 {\n",
       "            color:  green;\n",
       "            font-weight:  700;\n",
       "        }    #T_b7fdef28_b67a_11ea_8f41_448a5b9c78a6row6_col0 {\n",
       "            color:  green;\n",
       "            font-weight:  700;\n",
       "        }    #T_b7fdef28_b67a_11ea_8f41_448a5b9c78a6row6_col1 {\n",
       "            color:  black;\n",
       "            font-weight:  400;\n",
       "        }    #T_b7fdef28_b67a_11ea_8f41_448a5b9c78a6row6_col2 {\n",
       "            color:  black;\n",
       "            font-weight:  400;\n",
       "        }    #T_b7fdef28_b67a_11ea_8f41_448a5b9c78a6row6_col3 {\n",
       "            color:  black;\n",
       "            font-weight:  400;\n",
       "        }    #T_b7fdef28_b67a_11ea_8f41_448a5b9c78a6row6_col4 {\n",
       "            color:  green;\n",
       "            font-weight:  700;\n",
       "        }    #T_b7fdef28_b67a_11ea_8f41_448a5b9c78a6row6_col5 {\n",
       "            color:  black;\n",
       "            font-weight:  400;\n",
       "        }    #T_b7fdef28_b67a_11ea_8f41_448a5b9c78a6row6_col6 {\n",
       "            color:  green;\n",
       "            font-weight:  700;\n",
       "        }    #T_b7fdef28_b67a_11ea_8f41_448a5b9c78a6row7_col0 {\n",
       "            color:  black;\n",
       "            font-weight:  400;\n",
       "        }    #T_b7fdef28_b67a_11ea_8f41_448a5b9c78a6row7_col1 {\n",
       "            color:  green;\n",
       "            font-weight:  700;\n",
       "        }    #T_b7fdef28_b67a_11ea_8f41_448a5b9c78a6row7_col2 {\n",
       "            color:  black;\n",
       "            font-weight:  400;\n",
       "        }    #T_b7fdef28_b67a_11ea_8f41_448a5b9c78a6row7_col3 {\n",
       "            color:  black;\n",
       "            font-weight:  400;\n",
       "        }    #T_b7fdef28_b67a_11ea_8f41_448a5b9c78a6row7_col4 {\n",
       "            color:  green;\n",
       "            font-weight:  700;\n",
       "        }    #T_b7fdef28_b67a_11ea_8f41_448a5b9c78a6row7_col5 {\n",
       "            color:  green;\n",
       "            font-weight:  700;\n",
       "        }    #T_b7fdef28_b67a_11ea_8f41_448a5b9c78a6row7_col6 {\n",
       "            color:  green;\n",
       "            font-weight:  700;\n",
       "        }    #T_b7fdef28_b67a_11ea_8f41_448a5b9c78a6row8_col0 {\n",
       "            color:  black;\n",
       "            font-weight:  400;\n",
       "        }    #T_b7fdef28_b67a_11ea_8f41_448a5b9c78a6row8_col1 {\n",
       "            color:  green;\n",
       "            font-weight:  700;\n",
       "        }    #T_b7fdef28_b67a_11ea_8f41_448a5b9c78a6row8_col2 {\n",
       "            color:  black;\n",
       "            font-weight:  400;\n",
       "        }    #T_b7fdef28_b67a_11ea_8f41_448a5b9c78a6row8_col3 {\n",
       "            color:  black;\n",
       "            font-weight:  400;\n",
       "        }    #T_b7fdef28_b67a_11ea_8f41_448a5b9c78a6row8_col4 {\n",
       "            color:  green;\n",
       "            font-weight:  700;\n",
       "        }    #T_b7fdef28_b67a_11ea_8f41_448a5b9c78a6row8_col5 {\n",
       "            color:  black;\n",
       "            font-weight:  400;\n",
       "        }    #T_b7fdef28_b67a_11ea_8f41_448a5b9c78a6row8_col6 {\n",
       "            color:  green;\n",
       "            font-weight:  700;\n",
       "        }    #T_b7fdef28_b67a_11ea_8f41_448a5b9c78a6row9_col0 {\n",
       "            color:  black;\n",
       "            font-weight:  400;\n",
       "        }    #T_b7fdef28_b67a_11ea_8f41_448a5b9c78a6row9_col1 {\n",
       "            color:  green;\n",
       "            font-weight:  700;\n",
       "        }    #T_b7fdef28_b67a_11ea_8f41_448a5b9c78a6row9_col2 {\n",
       "            color:  black;\n",
       "            font-weight:  400;\n",
       "        }    #T_b7fdef28_b67a_11ea_8f41_448a5b9c78a6row9_col3 {\n",
       "            color:  black;\n",
       "            font-weight:  400;\n",
       "        }    #T_b7fdef28_b67a_11ea_8f41_448a5b9c78a6row9_col4 {\n",
       "            color:  black;\n",
       "            font-weight:  400;\n",
       "        }    #T_b7fdef28_b67a_11ea_8f41_448a5b9c78a6row9_col5 {\n",
       "            color:  black;\n",
       "            font-weight:  400;\n",
       "        }    #T_b7fdef28_b67a_11ea_8f41_448a5b9c78a6row9_col6 {\n",
       "            color:  green;\n",
       "            font-weight:  700;\n",
       "        }    #T_b7fdef28_b67a_11ea_8f41_448a5b9c78a6row10_col0 {\n",
       "            color:  green;\n",
       "            font-weight:  700;\n",
       "        }    #T_b7fdef28_b67a_11ea_8f41_448a5b9c78a6row10_col1 {\n",
       "            color:  green;\n",
       "            font-weight:  700;\n",
       "        }    #T_b7fdef28_b67a_11ea_8f41_448a5b9c78a6row10_col2 {\n",
       "            color:  black;\n",
       "            font-weight:  400;\n",
       "        }    #T_b7fdef28_b67a_11ea_8f41_448a5b9c78a6row10_col3 {\n",
       "            color:  black;\n",
       "            font-weight:  400;\n",
       "        }    #T_b7fdef28_b67a_11ea_8f41_448a5b9c78a6row10_col4 {\n",
       "            color:  green;\n",
       "            font-weight:  700;\n",
       "        }    #T_b7fdef28_b67a_11ea_8f41_448a5b9c78a6row10_col5 {\n",
       "            color:  black;\n",
       "            font-weight:  400;\n",
       "        }    #T_b7fdef28_b67a_11ea_8f41_448a5b9c78a6row10_col6 {\n",
       "            color:  green;\n",
       "            font-weight:  700;\n",
       "        }    #T_b7fdef28_b67a_11ea_8f41_448a5b9c78a6row11_col0 {\n",
       "            color:  black;\n",
       "            font-weight:  400;\n",
       "        }    #T_b7fdef28_b67a_11ea_8f41_448a5b9c78a6row11_col1 {\n",
       "            color:  black;\n",
       "            font-weight:  400;\n",
       "        }    #T_b7fdef28_b67a_11ea_8f41_448a5b9c78a6row11_col2 {\n",
       "            color:  green;\n",
       "            font-weight:  700;\n",
       "        }    #T_b7fdef28_b67a_11ea_8f41_448a5b9c78a6row11_col3 {\n",
       "            color:  black;\n",
       "            font-weight:  400;\n",
       "        }    #T_b7fdef28_b67a_11ea_8f41_448a5b9c78a6row11_col4 {\n",
       "            color:  black;\n",
       "            font-weight:  400;\n",
       "        }    #T_b7fdef28_b67a_11ea_8f41_448a5b9c78a6row11_col5 {\n",
       "            color:  green;\n",
       "            font-weight:  700;\n",
       "        }    #T_b7fdef28_b67a_11ea_8f41_448a5b9c78a6row11_col6 {\n",
       "            color:  green;\n",
       "            font-weight:  700;\n",
       "        }    #T_b7fdef28_b67a_11ea_8f41_448a5b9c78a6row12_col0 {\n",
       "            color:  green;\n",
       "            font-weight:  700;\n",
       "        }    #T_b7fdef28_b67a_11ea_8f41_448a5b9c78a6row12_col1 {\n",
       "            color:  black;\n",
       "            font-weight:  400;\n",
       "        }    #T_b7fdef28_b67a_11ea_8f41_448a5b9c78a6row12_col2 {\n",
       "            color:  black;\n",
       "            font-weight:  400;\n",
       "        }    #T_b7fdef28_b67a_11ea_8f41_448a5b9c78a6row12_col3 {\n",
       "            color:  black;\n",
       "            font-weight:  400;\n",
       "        }    #T_b7fdef28_b67a_11ea_8f41_448a5b9c78a6row12_col4 {\n",
       "            color:  green;\n",
       "            font-weight:  700;\n",
       "        }    #T_b7fdef28_b67a_11ea_8f41_448a5b9c78a6row12_col5 {\n",
       "            color:  black;\n",
       "            font-weight:  400;\n",
       "        }    #T_b7fdef28_b67a_11ea_8f41_448a5b9c78a6row12_col6 {\n",
       "            color:  green;\n",
       "            font-weight:  700;\n",
       "        }    #T_b7fdef28_b67a_11ea_8f41_448a5b9c78a6row13_col0 {\n",
       "            color:  black;\n",
       "            font-weight:  400;\n",
       "        }    #T_b7fdef28_b67a_11ea_8f41_448a5b9c78a6row13_col1 {\n",
       "            color:  black;\n",
       "            font-weight:  400;\n",
       "        }    #T_b7fdef28_b67a_11ea_8f41_448a5b9c78a6row13_col2 {\n",
       "            color:  black;\n",
       "            font-weight:  400;\n",
       "        }    #T_b7fdef28_b67a_11ea_8f41_448a5b9c78a6row13_col3 {\n",
       "            color:  black;\n",
       "            font-weight:  400;\n",
       "        }    #T_b7fdef28_b67a_11ea_8f41_448a5b9c78a6row13_col4 {\n",
       "            color:  green;\n",
       "            font-weight:  700;\n",
       "        }    #T_b7fdef28_b67a_11ea_8f41_448a5b9c78a6row13_col5 {\n",
       "            color:  black;\n",
       "            font-weight:  400;\n",
       "        }    #T_b7fdef28_b67a_11ea_8f41_448a5b9c78a6row13_col6 {\n",
       "            color:  green;\n",
       "            font-weight:  700;\n",
       "        }    #T_b7fdef28_b67a_11ea_8f41_448a5b9c78a6row14_col0 {\n",
       "            color:  black;\n",
       "            font-weight:  400;\n",
       "        }    #T_b7fdef28_b67a_11ea_8f41_448a5b9c78a6row14_col1 {\n",
       "            color:  green;\n",
       "            font-weight:  700;\n",
       "        }    #T_b7fdef28_b67a_11ea_8f41_448a5b9c78a6row14_col2 {\n",
       "            color:  black;\n",
       "            font-weight:  400;\n",
       "        }    #T_b7fdef28_b67a_11ea_8f41_448a5b9c78a6row14_col3 {\n",
       "            color:  black;\n",
       "            font-weight:  400;\n",
       "        }    #T_b7fdef28_b67a_11ea_8f41_448a5b9c78a6row14_col4 {\n",
       "            color:  green;\n",
       "            font-weight:  700;\n",
       "        }    #T_b7fdef28_b67a_11ea_8f41_448a5b9c78a6row14_col5 {\n",
       "            color:  black;\n",
       "            font-weight:  400;\n",
       "        }    #T_b7fdef28_b67a_11ea_8f41_448a5b9c78a6row14_col6 {\n",
       "            color:  green;\n",
       "            font-weight:  700;\n",
       "        }</style><table id=\"T_b7fdef28_b67a_11ea_8f41_448a5b9c78a6\" ><thead>    <tr>        <th class=\"blank level0\" ></th>        <th class=\"col_heading level0 col0\" >Topic1</th>        <th class=\"col_heading level0 col1\" >Topic2</th>        <th class=\"col_heading level0 col2\" >Topic3</th>        <th class=\"col_heading level0 col3\" >Topic4</th>        <th class=\"col_heading level0 col4\" >Topic5</th>        <th class=\"col_heading level0 col5\" >Topic6</th>        <th class=\"col_heading level0 col6\" >dominant_topic</th>    </tr></thead><tbody>\n",
       "                <tr>\n",
       "                        <th id=\"T_b7fdef28_b67a_11ea_8f41_448a5b9c78a6level0_row0\" class=\"row_heading level0 row0\" >Doc1</th>\n",
       "                        <td id=\"T_b7fdef28_b67a_11ea_8f41_448a5b9c78a6row0_col0\" class=\"data row0 col0\" >0.010000</td>\n",
       "                        <td id=\"T_b7fdef28_b67a_11ea_8f41_448a5b9c78a6row0_col1\" class=\"data row0 col1\" >0.010000</td>\n",
       "                        <td id=\"T_b7fdef28_b67a_11ea_8f41_448a5b9c78a6row0_col2\" class=\"data row0 col2\" >0.010000</td>\n",
       "                        <td id=\"T_b7fdef28_b67a_11ea_8f41_448a5b9c78a6row0_col3\" class=\"data row0 col3\" >0.550000</td>\n",
       "                        <td id=\"T_b7fdef28_b67a_11ea_8f41_448a5b9c78a6row0_col4\" class=\"data row0 col4\" >0.390000</td>\n",
       "                        <td id=\"T_b7fdef28_b67a_11ea_8f41_448a5b9c78a6row0_col5\" class=\"data row0 col5\" >0.010000</td>\n",
       "                        <td id=\"T_b7fdef28_b67a_11ea_8f41_448a5b9c78a6row0_col6\" class=\"data row0 col6\" >4</td>\n",
       "            </tr>\n",
       "            <tr>\n",
       "                        <th id=\"T_b7fdef28_b67a_11ea_8f41_448a5b9c78a6level0_row1\" class=\"row_heading level0 row1\" >Doc2</th>\n",
       "                        <td id=\"T_b7fdef28_b67a_11ea_8f41_448a5b9c78a6row1_col0\" class=\"data row1 col0\" >0.000000</td>\n",
       "                        <td id=\"T_b7fdef28_b67a_11ea_8f41_448a5b9c78a6row1_col1\" class=\"data row1 col1\" >0.130000</td>\n",
       "                        <td id=\"T_b7fdef28_b67a_11ea_8f41_448a5b9c78a6row1_col2\" class=\"data row1 col2\" >0.000000</td>\n",
       "                        <td id=\"T_b7fdef28_b67a_11ea_8f41_448a5b9c78a6row1_col3\" class=\"data row1 col3\" >0.770000</td>\n",
       "                        <td id=\"T_b7fdef28_b67a_11ea_8f41_448a5b9c78a6row1_col4\" class=\"data row1 col4\" >0.090000</td>\n",
       "                        <td id=\"T_b7fdef28_b67a_11ea_8f41_448a5b9c78a6row1_col5\" class=\"data row1 col5\" >0.000000</td>\n",
       "                        <td id=\"T_b7fdef28_b67a_11ea_8f41_448a5b9c78a6row1_col6\" class=\"data row1 col6\" >4</td>\n",
       "            </tr>\n",
       "            <tr>\n",
       "                        <th id=\"T_b7fdef28_b67a_11ea_8f41_448a5b9c78a6level0_row2\" class=\"row_heading level0 row2\" >Doc3</th>\n",
       "                        <td id=\"T_b7fdef28_b67a_11ea_8f41_448a5b9c78a6row2_col0\" class=\"data row2 col0\" >0.000000</td>\n",
       "                        <td id=\"T_b7fdef28_b67a_11ea_8f41_448a5b9c78a6row2_col1\" class=\"data row2 col1\" >0.190000</td>\n",
       "                        <td id=\"T_b7fdef28_b67a_11ea_8f41_448a5b9c78a6row2_col2\" class=\"data row2 col2\" >0.000000</td>\n",
       "                        <td id=\"T_b7fdef28_b67a_11ea_8f41_448a5b9c78a6row2_col3\" class=\"data row2 col3\" >0.750000</td>\n",
       "                        <td id=\"T_b7fdef28_b67a_11ea_8f41_448a5b9c78a6row2_col4\" class=\"data row2 col4\" >0.050000</td>\n",
       "                        <td id=\"T_b7fdef28_b67a_11ea_8f41_448a5b9c78a6row2_col5\" class=\"data row2 col5\" >0.000000</td>\n",
       "                        <td id=\"T_b7fdef28_b67a_11ea_8f41_448a5b9c78a6row2_col6\" class=\"data row2 col6\" >4</td>\n",
       "            </tr>\n",
       "            <tr>\n",
       "                        <th id=\"T_b7fdef28_b67a_11ea_8f41_448a5b9c78a6level0_row3\" class=\"row_heading level0 row3\" >Doc4</th>\n",
       "                        <td id=\"T_b7fdef28_b67a_11ea_8f41_448a5b9c78a6row3_col0\" class=\"data row3 col0\" >0.030000</td>\n",
       "                        <td id=\"T_b7fdef28_b67a_11ea_8f41_448a5b9c78a6row3_col1\" class=\"data row3 col1\" >0.960000</td>\n",
       "                        <td id=\"T_b7fdef28_b67a_11ea_8f41_448a5b9c78a6row3_col2\" class=\"data row3 col2\" >0.000000</td>\n",
       "                        <td id=\"T_b7fdef28_b67a_11ea_8f41_448a5b9c78a6row3_col3\" class=\"data row3 col3\" >0.000000</td>\n",
       "                        <td id=\"T_b7fdef28_b67a_11ea_8f41_448a5b9c78a6row3_col4\" class=\"data row3 col4\" >0.010000</td>\n",
       "                        <td id=\"T_b7fdef28_b67a_11ea_8f41_448a5b9c78a6row3_col5\" class=\"data row3 col5\" >0.000000</td>\n",
       "                        <td id=\"T_b7fdef28_b67a_11ea_8f41_448a5b9c78a6row3_col6\" class=\"data row3 col6\" >2</td>\n",
       "            </tr>\n",
       "            <tr>\n",
       "                        <th id=\"T_b7fdef28_b67a_11ea_8f41_448a5b9c78a6level0_row4\" class=\"row_heading level0 row4\" >Doc5</th>\n",
       "                        <td id=\"T_b7fdef28_b67a_11ea_8f41_448a5b9c78a6row4_col0\" class=\"data row4 col0\" >0.110000</td>\n",
       "                        <td id=\"T_b7fdef28_b67a_11ea_8f41_448a5b9c78a6row4_col1\" class=\"data row4 col1\" >0.370000</td>\n",
       "                        <td id=\"T_b7fdef28_b67a_11ea_8f41_448a5b9c78a6row4_col2\" class=\"data row4 col2\" >0.000000</td>\n",
       "                        <td id=\"T_b7fdef28_b67a_11ea_8f41_448a5b9c78a6row4_col3\" class=\"data row4 col3\" >0.050000</td>\n",
       "                        <td id=\"T_b7fdef28_b67a_11ea_8f41_448a5b9c78a6row4_col4\" class=\"data row4 col4\" >0.000000</td>\n",
       "                        <td id=\"T_b7fdef28_b67a_11ea_8f41_448a5b9c78a6row4_col5\" class=\"data row4 col5\" >0.460000</td>\n",
       "                        <td id=\"T_b7fdef28_b67a_11ea_8f41_448a5b9c78a6row4_col6\" class=\"data row4 col6\" >6</td>\n",
       "            </tr>\n",
       "            <tr>\n",
       "                        <th id=\"T_b7fdef28_b67a_11ea_8f41_448a5b9c78a6level0_row5\" class=\"row_heading level0 row5\" >Doc6</th>\n",
       "                        <td id=\"T_b7fdef28_b67a_11ea_8f41_448a5b9c78a6row5_col0\" class=\"data row5 col0\" >0.010000</td>\n",
       "                        <td id=\"T_b7fdef28_b67a_11ea_8f41_448a5b9c78a6row5_col1\" class=\"data row5 col1\" >0.010000</td>\n",
       "                        <td id=\"T_b7fdef28_b67a_11ea_8f41_448a5b9c78a6row5_col2\" class=\"data row5 col2\" >0.010000</td>\n",
       "                        <td id=\"T_b7fdef28_b67a_11ea_8f41_448a5b9c78a6row5_col3\" class=\"data row5 col3\" >0.010000</td>\n",
       "                        <td id=\"T_b7fdef28_b67a_11ea_8f41_448a5b9c78a6row5_col4\" class=\"data row5 col4\" >0.940000</td>\n",
       "                        <td id=\"T_b7fdef28_b67a_11ea_8f41_448a5b9c78a6row5_col5\" class=\"data row5 col5\" >0.010000</td>\n",
       "                        <td id=\"T_b7fdef28_b67a_11ea_8f41_448a5b9c78a6row5_col6\" class=\"data row5 col6\" >5</td>\n",
       "            </tr>\n",
       "            <tr>\n",
       "                        <th id=\"T_b7fdef28_b67a_11ea_8f41_448a5b9c78a6level0_row6\" class=\"row_heading level0 row6\" >Doc7</th>\n",
       "                        <td id=\"T_b7fdef28_b67a_11ea_8f41_448a5b9c78a6row6_col0\" class=\"data row6 col0\" >0.230000</td>\n",
       "                        <td id=\"T_b7fdef28_b67a_11ea_8f41_448a5b9c78a6row6_col1\" class=\"data row6 col1\" >0.000000</td>\n",
       "                        <td id=\"T_b7fdef28_b67a_11ea_8f41_448a5b9c78a6row6_col2\" class=\"data row6 col2\" >0.080000</td>\n",
       "                        <td id=\"T_b7fdef28_b67a_11ea_8f41_448a5b9c78a6row6_col3\" class=\"data row6 col3\" >0.040000</td>\n",
       "                        <td id=\"T_b7fdef28_b67a_11ea_8f41_448a5b9c78a6row6_col4\" class=\"data row6 col4\" >0.640000</td>\n",
       "                        <td id=\"T_b7fdef28_b67a_11ea_8f41_448a5b9c78a6row6_col5\" class=\"data row6 col5\" >0.000000</td>\n",
       "                        <td id=\"T_b7fdef28_b67a_11ea_8f41_448a5b9c78a6row6_col6\" class=\"data row6 col6\" >5</td>\n",
       "            </tr>\n",
       "            <tr>\n",
       "                        <th id=\"T_b7fdef28_b67a_11ea_8f41_448a5b9c78a6level0_row7\" class=\"row_heading level0 row7\" >Doc8</th>\n",
       "                        <td id=\"T_b7fdef28_b67a_11ea_8f41_448a5b9c78a6row7_col0\" class=\"data row7 col0\" >0.000000</td>\n",
       "                        <td id=\"T_b7fdef28_b67a_11ea_8f41_448a5b9c78a6row7_col1\" class=\"data row7 col1\" >0.630000</td>\n",
       "                        <td id=\"T_b7fdef28_b67a_11ea_8f41_448a5b9c78a6row7_col2\" class=\"data row7 col2\" >0.000000</td>\n",
       "                        <td id=\"T_b7fdef28_b67a_11ea_8f41_448a5b9c78a6row7_col3\" class=\"data row7 col3\" >0.000000</td>\n",
       "                        <td id=\"T_b7fdef28_b67a_11ea_8f41_448a5b9c78a6row7_col4\" class=\"data row7 col4\" >0.130000</td>\n",
       "                        <td id=\"T_b7fdef28_b67a_11ea_8f41_448a5b9c78a6row7_col5\" class=\"data row7 col5\" >0.240000</td>\n",
       "                        <td id=\"T_b7fdef28_b67a_11ea_8f41_448a5b9c78a6row7_col6\" class=\"data row7 col6\" >2</td>\n",
       "            </tr>\n",
       "            <tr>\n",
       "                        <th id=\"T_b7fdef28_b67a_11ea_8f41_448a5b9c78a6level0_row8\" class=\"row_heading level0 row8\" >Doc9</th>\n",
       "                        <td id=\"T_b7fdef28_b67a_11ea_8f41_448a5b9c78a6row8_col0\" class=\"data row8 col0\" >0.000000</td>\n",
       "                        <td id=\"T_b7fdef28_b67a_11ea_8f41_448a5b9c78a6row8_col1\" class=\"data row8 col1\" >0.800000</td>\n",
       "                        <td id=\"T_b7fdef28_b67a_11ea_8f41_448a5b9c78a6row8_col2\" class=\"data row8 col2\" >0.000000</td>\n",
       "                        <td id=\"T_b7fdef28_b67a_11ea_8f41_448a5b9c78a6row8_col3\" class=\"data row8 col3\" >0.000000</td>\n",
       "                        <td id=\"T_b7fdef28_b67a_11ea_8f41_448a5b9c78a6row8_col4\" class=\"data row8 col4\" >0.190000</td>\n",
       "                        <td id=\"T_b7fdef28_b67a_11ea_8f41_448a5b9c78a6row8_col5\" class=\"data row8 col5\" >0.000000</td>\n",
       "                        <td id=\"T_b7fdef28_b67a_11ea_8f41_448a5b9c78a6row8_col6\" class=\"data row8 col6\" >2</td>\n",
       "            </tr>\n",
       "            <tr>\n",
       "                        <th id=\"T_b7fdef28_b67a_11ea_8f41_448a5b9c78a6level0_row9\" class=\"row_heading level0 row9\" >Doc10</th>\n",
       "                        <td id=\"T_b7fdef28_b67a_11ea_8f41_448a5b9c78a6row9_col0\" class=\"data row9 col0\" >0.000000</td>\n",
       "                        <td id=\"T_b7fdef28_b67a_11ea_8f41_448a5b9c78a6row9_col1\" class=\"data row9 col1\" >0.980000</td>\n",
       "                        <td id=\"T_b7fdef28_b67a_11ea_8f41_448a5b9c78a6row9_col2\" class=\"data row9 col2\" >0.000000</td>\n",
       "                        <td id=\"T_b7fdef28_b67a_11ea_8f41_448a5b9c78a6row9_col3\" class=\"data row9 col3\" >0.000000</td>\n",
       "                        <td id=\"T_b7fdef28_b67a_11ea_8f41_448a5b9c78a6row9_col4\" class=\"data row9 col4\" >0.000000</td>\n",
       "                        <td id=\"T_b7fdef28_b67a_11ea_8f41_448a5b9c78a6row9_col5\" class=\"data row9 col5\" >0.000000</td>\n",
       "                        <td id=\"T_b7fdef28_b67a_11ea_8f41_448a5b9c78a6row9_col6\" class=\"data row9 col6\" >2</td>\n",
       "            </tr>\n",
       "            <tr>\n",
       "                        <th id=\"T_b7fdef28_b67a_11ea_8f41_448a5b9c78a6level0_row10\" class=\"row_heading level0 row10\" >Doc11</th>\n",
       "                        <td id=\"T_b7fdef28_b67a_11ea_8f41_448a5b9c78a6row10_col0\" class=\"data row10 col0\" >0.250000</td>\n",
       "                        <td id=\"T_b7fdef28_b67a_11ea_8f41_448a5b9c78a6row10_col1\" class=\"data row10 col1\" >0.490000</td>\n",
       "                        <td id=\"T_b7fdef28_b67a_11ea_8f41_448a5b9c78a6row10_col2\" class=\"data row10 col2\" >0.070000</td>\n",
       "                        <td id=\"T_b7fdef28_b67a_11ea_8f41_448a5b9c78a6row10_col3\" class=\"data row10 col3\" >0.030000</td>\n",
       "                        <td id=\"T_b7fdef28_b67a_11ea_8f41_448a5b9c78a6row10_col4\" class=\"data row10 col4\" >0.150000</td>\n",
       "                        <td id=\"T_b7fdef28_b67a_11ea_8f41_448a5b9c78a6row10_col5\" class=\"data row10 col5\" >0.000000</td>\n",
       "                        <td id=\"T_b7fdef28_b67a_11ea_8f41_448a5b9c78a6row10_col6\" class=\"data row10 col6\" >2</td>\n",
       "            </tr>\n",
       "            <tr>\n",
       "                        <th id=\"T_b7fdef28_b67a_11ea_8f41_448a5b9c78a6level0_row11\" class=\"row_heading level0 row11\" >Doc12</th>\n",
       "                        <td id=\"T_b7fdef28_b67a_11ea_8f41_448a5b9c78a6row11_col0\" class=\"data row11 col0\" >0.010000</td>\n",
       "                        <td id=\"T_b7fdef28_b67a_11ea_8f41_448a5b9c78a6row11_col1\" class=\"data row11 col1\" >0.020000</td>\n",
       "                        <td id=\"T_b7fdef28_b67a_11ea_8f41_448a5b9c78a6row11_col2\" class=\"data row11 col2\" >0.110000</td>\n",
       "                        <td id=\"T_b7fdef28_b67a_11ea_8f41_448a5b9c78a6row11_col3\" class=\"data row11 col3\" >0.000000</td>\n",
       "                        <td id=\"T_b7fdef28_b67a_11ea_8f41_448a5b9c78a6row11_col4\" class=\"data row11 col4\" >0.070000</td>\n",
       "                        <td id=\"T_b7fdef28_b67a_11ea_8f41_448a5b9c78a6row11_col5\" class=\"data row11 col5\" >0.790000</td>\n",
       "                        <td id=\"T_b7fdef28_b67a_11ea_8f41_448a5b9c78a6row11_col6\" class=\"data row11 col6\" >6</td>\n",
       "            </tr>\n",
       "            <tr>\n",
       "                        <th id=\"T_b7fdef28_b67a_11ea_8f41_448a5b9c78a6level0_row12\" class=\"row_heading level0 row12\" >Doc13</th>\n",
       "                        <td id=\"T_b7fdef28_b67a_11ea_8f41_448a5b9c78a6row12_col0\" class=\"data row12 col0\" >0.730000</td>\n",
       "                        <td id=\"T_b7fdef28_b67a_11ea_8f41_448a5b9c78a6row12_col1\" class=\"data row12 col1\" >0.000000</td>\n",
       "                        <td id=\"T_b7fdef28_b67a_11ea_8f41_448a5b9c78a6row12_col2\" class=\"data row12 col2\" >0.000000</td>\n",
       "                        <td id=\"T_b7fdef28_b67a_11ea_8f41_448a5b9c78a6row12_col3\" class=\"data row12 col3\" >0.070000</td>\n",
       "                        <td id=\"T_b7fdef28_b67a_11ea_8f41_448a5b9c78a6row12_col4\" class=\"data row12 col4\" >0.190000</td>\n",
       "                        <td id=\"T_b7fdef28_b67a_11ea_8f41_448a5b9c78a6row12_col5\" class=\"data row12 col5\" >0.000000</td>\n",
       "                        <td id=\"T_b7fdef28_b67a_11ea_8f41_448a5b9c78a6row12_col6\" class=\"data row12 col6\" >1</td>\n",
       "            </tr>\n",
       "            <tr>\n",
       "                        <th id=\"T_b7fdef28_b67a_11ea_8f41_448a5b9c78a6level0_row13\" class=\"row_heading level0 row13\" >Doc14</th>\n",
       "                        <td id=\"T_b7fdef28_b67a_11ea_8f41_448a5b9c78a6row13_col0\" class=\"data row13 col0\" >0.000000</td>\n",
       "                        <td id=\"T_b7fdef28_b67a_11ea_8f41_448a5b9c78a6row13_col1\" class=\"data row13 col1\" >0.000000</td>\n",
       "                        <td id=\"T_b7fdef28_b67a_11ea_8f41_448a5b9c78a6row13_col2\" class=\"data row13 col2\" >0.070000</td>\n",
       "                        <td id=\"T_b7fdef28_b67a_11ea_8f41_448a5b9c78a6row13_col3\" class=\"data row13 col3\" >0.050000</td>\n",
       "                        <td id=\"T_b7fdef28_b67a_11ea_8f41_448a5b9c78a6row13_col4\" class=\"data row13 col4\" >0.870000</td>\n",
       "                        <td id=\"T_b7fdef28_b67a_11ea_8f41_448a5b9c78a6row13_col5\" class=\"data row13 col5\" >0.000000</td>\n",
       "                        <td id=\"T_b7fdef28_b67a_11ea_8f41_448a5b9c78a6row13_col6\" class=\"data row13 col6\" >5</td>\n",
       "            </tr>\n",
       "            <tr>\n",
       "                        <th id=\"T_b7fdef28_b67a_11ea_8f41_448a5b9c78a6level0_row14\" class=\"row_heading level0 row14\" >Doc15</th>\n",
       "                        <td id=\"T_b7fdef28_b67a_11ea_8f41_448a5b9c78a6row14_col0\" class=\"data row14 col0\" >0.000000</td>\n",
       "                        <td id=\"T_b7fdef28_b67a_11ea_8f41_448a5b9c78a6row14_col1\" class=\"data row14 col1\" >0.850000</td>\n",
       "                        <td id=\"T_b7fdef28_b67a_11ea_8f41_448a5b9c78a6row14_col2\" class=\"data row14 col2\" >0.000000</td>\n",
       "                        <td id=\"T_b7fdef28_b67a_11ea_8f41_448a5b9c78a6row14_col3\" class=\"data row14 col3\" >0.000000</td>\n",
       "                        <td id=\"T_b7fdef28_b67a_11ea_8f41_448a5b9c78a6row14_col4\" class=\"data row14 col4\" >0.150000</td>\n",
       "                        <td id=\"T_b7fdef28_b67a_11ea_8f41_448a5b9c78a6row14_col5\" class=\"data row14 col5\" >0.000000</td>\n",
       "                        <td id=\"T_b7fdef28_b67a_11ea_8f41_448a5b9c78a6row14_col6\" class=\"data row14 col6\" >2</td>\n",
       "            </tr>\n",
       "    </tbody></table>"
      ],
      "text/plain": [
       "<pandas.io.formats.style.Styler at 0x1fb81928108>"
      ]
     },
     "execution_count": 77,
     "metadata": {},
     "output_type": "execute_result"
    }
   ],
   "source": [
    "lda_output_test = lda_sk.transform(X_test_tf)\n",
    "\n",
    "# column names\n",
    "topicnames_test = [\"Topic\" + str(i+1)\n",
    "                   for i in range(lda_sk.n_components)]\n",
    "\n",
    "# index names\n",
    "docnames_test = [\"Doc\" + str(i+1)\n",
    "                 for i in range(X_test_tfv.shape[0])]\n",
    "\n",
    "# Make the pandas dataframe\n",
    "df_document_topic_test = pd.DataFrame(np.round(lda_output_test, 2),\n",
    "                                      columns=topicnames_test,\n",
    "                                      index=docnames_test)\n",
    "\n",
    "# Get dominant topic for each document\n",
    "dominant_topic_test = np.argmax(df_document_topic_test.values, axis=1)+1\n",
    "df_document_topic_test['dominant_topic'] = dominant_topic_test\n",
    "\n",
    "# Apply Style\n",
    "df_document_topic_test.head(15).style.applymap(color_green).applymap(make_bold)"
   ]
  },
  {
   "cell_type": "code",
   "execution_count": 78,
   "metadata": {},
   "outputs": [
    {
     "data": {
      "text/html": [
       "<div>\n",
       "<style scoped>\n",
       "    .dataframe tbody tr th:only-of-type {\n",
       "        vertical-align: middle;\n",
       "    }\n",
       "\n",
       "    .dataframe tbody tr th {\n",
       "        vertical-align: top;\n",
       "    }\n",
       "\n",
       "    .dataframe thead th {\n",
       "        text-align: right;\n",
       "    }\n",
       "</style>\n",
       "<table border=\"1\" class=\"dataframe\">\n",
       "  <thead>\n",
       "    <tr style=\"text-align: right;\">\n",
       "      <th></th>\n",
       "      <th>Topic Num</th>\n",
       "      <th>Num Documents</th>\n",
       "    </tr>\n",
       "  </thead>\n",
       "  <tbody>\n",
       "    <tr>\n",
       "      <th>0</th>\n",
       "      <td>5</td>\n",
       "      <td>3865</td>\n",
       "    </tr>\n",
       "    <tr>\n",
       "      <th>1</th>\n",
       "      <td>2</td>\n",
       "      <td>2058</td>\n",
       "    </tr>\n",
       "    <tr>\n",
       "      <th>2</th>\n",
       "      <td>4</td>\n",
       "      <td>1969</td>\n",
       "    </tr>\n",
       "    <tr>\n",
       "      <th>3</th>\n",
       "      <td>1</td>\n",
       "      <td>1275</td>\n",
       "    </tr>\n",
       "    <tr>\n",
       "      <th>4</th>\n",
       "      <td>6</td>\n",
       "      <td>765</td>\n",
       "    </tr>\n",
       "    <tr>\n",
       "      <th>5</th>\n",
       "      <td>3</td>\n",
       "      <td>596</td>\n",
       "    </tr>\n",
       "  </tbody>\n",
       "</table>\n",
       "</div>"
      ],
      "text/plain": [
       "   Topic Num  Num Documents\n",
       "0          5           3865\n",
       "1          2           2058\n",
       "2          4           1969\n",
       "3          1           1275\n",
       "4          6            765\n",
       "5          3            596"
      ]
     },
     "execution_count": 78,
     "metadata": {},
     "output_type": "execute_result"
    }
   ],
   "source": [
    "df_topic_distribution_test = df_document_topic_test['dominant_topic']\\\n",
    "    .value_counts().reset_index(name=\"Num Documents\")\n",
    "df_topic_distribution_test.columns = ['Topic Num', 'Num Documents']\n",
    "df_topic_distribution_test"
   ]
  },
  {
   "cell_type": "code",
   "execution_count": 128,
   "metadata": {},
   "outputs": [],
   "source": [
    "def tagz_from_lda(text, num_tag):\n",
    "    tagz_from_topics = \\\n",
    "        df_topic_keywords.iloc[np.argmax(lda_sk.transform(text))].values\n",
    "    temp = []\n",
    "    for w in it_tags_dict:\n",
    "        if (len(temp) < num_tag) & (w in tagz_from_topics):\n",
    "            temp.append(w)\n",
    "    return (temp)"
   ]
  },
  {
   "cell_type": "code",
   "execution_count": 194,
   "metadata": {},
   "outputs": [
    {
     "data": {
      "text/plain": [
       "0.078086062125998"
      ]
     },
     "execution_count": 194,
     "metadata": {},
     "output_type": "execute_result"
    }
   ],
   "source": [
    "tag_topic_1_tr = [tagz_from_lda(text, 1) for text in X_train_tf]\n",
    "jaccard_score(mlb.transform(tag_topic_1_tr), y_train, average='micro')"
   ]
  },
  {
   "cell_type": "code",
   "execution_count": 195,
   "metadata": {},
   "outputs": [
    {
     "data": {
      "text/plain": [
       "0.09757481558236498"
      ]
     },
     "execution_count": 195,
     "metadata": {},
     "output_type": "execute_result"
    }
   ],
   "source": [
    "tag_topic_2_tr = [tagz_from_lda(text, 2) for text in X_train_tf]\n",
    "jaccard_score(mlb.transform(tag_topic_2_tr), y_train, average='micro')"
   ]
  },
  {
   "cell_type": "code",
   "execution_count": 196,
   "metadata": {},
   "outputs": [
    {
     "data": {
      "text/plain": [
       "0.09243309521800211"
      ]
     },
     "execution_count": 196,
     "metadata": {},
     "output_type": "execute_result"
    }
   ],
   "source": [
    "tag_topic_3_tr = [tagz_from_lda(text, 3) for text in X_train_tf]\n",
    "jaccard_score(mlb.transform(tag_topic_3_tr), y_train, average='micro')"
   ]
  },
  {
   "cell_type": "code",
   "execution_count": 197,
   "metadata": {},
   "outputs": [
    {
     "data": {
      "text/plain": [
       "0.0880349932146696"
      ]
     },
     "execution_count": 197,
     "metadata": {},
     "output_type": "execute_result"
    }
   ],
   "source": [
    "tag_topic_4_tr = [tagz_from_lda(text, 4) for text in X_train_tf]\n",
    "jaccard_score(mlb.transform(tag_topic_4_tr), y_train, average='micro')"
   ]
  },
  {
   "cell_type": "code",
   "execution_count": 198,
   "metadata": {},
   "outputs": [
    {
     "data": {
      "text/plain": [
       "0.08252960827074891"
      ]
     },
     "execution_count": 198,
     "metadata": {},
     "output_type": "execute_result"
    }
   ],
   "source": [
    "tag_topic_5_tr = [tagz_from_lda(text, 5) for text in X_train_tf]\n",
    "jaccard_score(mlb.transform(tag_topic_5_tr), y_train, average='micro')"
   ]
  },
  {
   "cell_type": "code",
   "execution_count": 129,
   "metadata": {},
   "outputs": [
    {
     "data": {
      "text/plain": [
       "0.0774312980753886"
      ]
     },
     "execution_count": 129,
     "metadata": {},
     "output_type": "execute_result"
    }
   ],
   "source": [
    "tag_topic_1 = [tagz_from_lda(text, 1) for text in X_test_tf]\n",
    "jaccard_score(mlb.transform(tag_topic_1), y_test, average='micro')"
   ]
  },
  {
   "cell_type": "code",
   "execution_count": 130,
   "metadata": {},
   "outputs": [
    {
     "data": {
      "text/plain": [
       "0.09624477065128599"
      ]
     },
     "execution_count": 130,
     "metadata": {},
     "output_type": "execute_result"
    }
   ],
   "source": [
    "tag_topic_2 = [tagz_from_lda(text, 2) for text in X_test_tf]\n",
    "jaccard_score(mlb.transform(tag_topic_2), y_test, average='micro')"
   ]
  },
  {
   "cell_type": "code",
   "execution_count": 131,
   "metadata": {},
   "outputs": [
    {
     "data": {
      "text/plain": [
       "0.09058893752487067"
      ]
     },
     "execution_count": 131,
     "metadata": {},
     "output_type": "execute_result"
    }
   ],
   "source": [
    "tag_topic_3 = [tagz_from_lda(text, 3) for text in X_test_tf]\n",
    "jaccard_score(mlb.transform(tag_topic_3), y_test, average='micro')"
   ]
  },
  {
   "cell_type": "code",
   "execution_count": 132,
   "metadata": {},
   "outputs": [
    {
     "data": {
      "text/plain": [
       "0.08621062255839082"
      ]
     },
     "execution_count": 132,
     "metadata": {},
     "output_type": "execute_result"
    }
   ],
   "source": [
    "tag_topic_4 = [tagz_from_lda(text, 4) for text in X_test_tf]\n",
    "jaccard_score(mlb.transform(tag_topic_4), y_test, average='micro')"
   ]
  },
  {
   "cell_type": "code",
   "execution_count": 133,
   "metadata": {},
   "outputs": [
    {
     "data": {
      "text/plain": [
       "0.0804933278265947"
      ]
     },
     "execution_count": 133,
     "metadata": {},
     "output_type": "execute_result"
    }
   ],
   "source": [
    "tag_topic_5 = [tagz_from_lda(text, 5) for text in X_test_tf]\n",
    "jaccard_score(mlb.transform(tag_topic_5), y_test, average='micro')"
   ]
  },
  {
   "cell_type": "code",
   "execution_count": 42,
   "metadata": {},
   "outputs": [],
   "source": [
    "tags_lda_train_1 = 0.078086062125998\n",
    "tags_lda_train_2 = 0.09757481558236498\n",
    "tags_lda_train_3 = 0.09243309521800211\n",
    "tags_lda_train_4 = 0.0880349932146696\n",
    "tags_lda_train_5 = 0.08252960827074891\n",
    "tags_lda_test_1 = 0.0774312980753886\n",
    "tags_lda_test_2 = 0.09624477065128599\n",
    "tags_lda_test_3 = 0.09058893752487067\n",
    "tags_lda_test_4 = 0.08621062255839082\n",
    "tags_lda_test_5 = 0.0804933278265947"
   ]
  },
  {
   "cell_type": "code",
   "execution_count": 43,
   "metadata": {},
   "outputs": [],
   "source": [
    "tags_lda_train = [tags_lda_train_1*100,\n",
    "                 tags_lda_train_2*100,\n",
    "                 tags_lda_train_3*100,\n",
    "                 tags_lda_train_4*100,\n",
    "                 tags_lda_train_5*100]\n",
    "tags_lda_test = [tags_lda_test_1*100,\n",
    "                tags_lda_test_2*100,\n",
    "                tags_lda_test_3*100,\n",
    "                tags_lda_test_4*100,\n",
    "                tags_lda_test_5*100]"
   ]
  },
  {
   "cell_type": "code",
   "execution_count": 44,
   "metadata": {},
   "outputs": [
    {
     "data": {
      "image/png": "[encoded data removed]",
      "text/plain": [
       "<Figure size 864x432 with 1 Axes>"
      ]
     },
     "metadata": {
      "needs_background": "light"
     },
     "output_type": "display_data"
    }
   ],
   "source": [
    "fig, ax = plt.subplots(figsize=(12, 6))\n",
    "leg = [\"Tag_LDA_Train\", \"Tag_LDA_Test\"]\n",
    "plt.plot(np.arange(5)+1, tags_lda_train)\n",
    "plt.plot(np.arange(5)+1, tags_lda_test)\n",
    "plt.ylabel(\"Jaccard Score (%)\", fontsize=18)\n",
    "plt.xlabel(\"Number of tags at output\", fontsize=18)\n",
    "plt.title(\"LDA Tags - Jaccard Score evolution\\\n",
    "    \\naccording to number of recommended tags\", fontsize=20)\n",
    "ax.tick_params(labelsize=16)\n",
    "plt.xticks(np.arange(5)+1)\n",
    "fig.patch.set_alpha(0)\n",
    "ax.spines['top'].set_visible(False)\n",
    "ax.spines['right'].set_visible(False)\n",
    "plt.legend(leg, fontsize=16)\n",
    "plt.show()"
   ]
  },
  {
   "cell_type": "markdown",
   "metadata": {},
   "source": [
    "### Word2Vec implementation"
   ]
  },
  {
   "cell_type": "code",
   "execution_count": 62,
   "metadata": {},
   "outputs": [],
   "source": [
    "import gensim"
   ]
  },
  {
   "cell_type": "code",
   "execution_count": 63,
   "metadata": {},
   "outputs": [],
   "source": [
    "def wstokenize(text):\n",
    "    return nltk.WhitespaceTokenizer().tokenize(text)"
   ]
  },
  {
   "cell_type": "code",
   "execution_count": 64,
   "metadata": {},
   "outputs": [],
   "source": [
    "X_train, X_test, y_train, y_test = train_test_split(df[\"Text_lemmatized\"],\n",
    "                                                    ytags,\n",
    "                                                    test_size=0.2,\n",
    "                                                    random_state=42)"
   ]
  },
  {
   "cell_type": "code",
   "execution_count": 65,
   "metadata": {},
   "outputs": [],
   "source": [
    "X_train_tokenized = X_train.apply(wstokenize)"
   ]
  },
  {
   "cell_type": "code",
   "execution_count": 66,
   "metadata": {},
   "outputs": [],
   "source": [
    "model_w2v = gensim.models.Word2Vec(sentences=X_train_tokenized,\n",
    "                                   workers=6,\n",
    "                                   seed=42)"
   ]
  },
  {
   "cell_type": "code",
   "execution_count": 80,
   "metadata": {},
   "outputs": [
    {
     "data": {
      "text/plain": [
       "['jquery',\n",
       " 'vue.js',\n",
       " 'css',\n",
       " 'ajax',\n",
       " 'reactjs',\n",
       " 'node.js',\n",
       " 'html',\n",
       " 'puppeteer',\n",
       " 'svg',\n",
       " 'axios',\n",
       " 'typescript',\n",
       " 'webpack']"
      ]
     },
     "execution_count": 80,
     "metadata": {},
     "output_type": "execute_result"
    }
   ],
   "source": [
    "reco = []\n",
    "for i, j in model_w2v.wv.most_similar(\"javascript\", topn=len(it_tags_dict)):\n",
    "    if i in it_tags_dict:\n",
    "        reco.append(i)\n",
    "reco"
   ]
  },
  {
   "cell_type": "code",
   "execution_count": 54,
   "metadata": {},
   "outputs": [],
   "source": [
    "xtext = df[\"Text_lemmatized\"]\n",
    "X_train, X_test, y_train, y_test = train_test_split(xtext,\n",
    "                                                    ytags,\n",
    "                                                    test_size=0.2,\n",
    "                                                    random_state=42)\n",
    "tfv = TfidfVectorizer(min_df=1,\n",
    "                      max_features=tfidf_max_feat,\n",
    "                      ngram_range=(1, 1))\n",
    "tfv.fit(X_train)\n",
    "X_train_tfv = tfv.transform(X_train)\n",
    "X_test_tfv = tfv.transform(X_test)"
   ]
  },
  {
   "cell_type": "markdown",
   "metadata": {},
   "source": [
    "### Fine-tuning predict_proba threshold"
   ]
  },
  {
   "cell_type": "code",
   "execution_count": 55,
   "metadata": {},
   "outputs": [
    {
     "data": {
      "text/plain": [
       "OneVsRestClassifier(estimator=LogisticRegression(C=10, class_weight=None,\n",
       "                                                 dual=False, fit_intercept=True,\n",
       "                                                 intercept_scaling=1,\n",
       "                                                 l1_ratio=1, max_iter=100,\n",
       "                                                 multi_class='auto',\n",
       "                                                 n_jobs=None,\n",
       "                                                 penalty='elasticnet',\n",
       "                                                 random_state=42, solver='saga',\n",
       "                                                 tol=0.0001, verbose=0,\n",
       "                                                 warm_start=False),\n",
       "                    n_jobs=6)"
      ]
     },
     "execution_count": 55,
     "metadata": {},
     "output_type": "execute_result"
    }
   ],
   "source": [
    "supervised = clf_lr\n",
    "supervised.fit(X_train_tfv, y_train)"
   ]
  },
  {
   "cell_type": "code",
   "execution_count": 139,
   "metadata": {},
   "outputs": [
    {
     "name": "stdout",
     "output_type": "stream",
     "text": [
      "Threshold 0.01 : jaccard = 0.1239117024788022\n",
      "Threshold 0.05 : jaccard = 0.3149252615844544\n",
      "Threshold 0.1 : jaccard = 0.4364612013260662\n",
      "Threshold 0.15 : jaccard = 0.49649109594199525\n",
      "Threshold 0.2 : jaccard = 0.5237179684375672\n",
      "Threshold 0.25 : jaccard = 0.5313939233292468\n",
      "Threshold 0.3 : jaccard = 0.5293279858799269\n",
      "Threshold 0.35 : jaccard = 0.5207687764096506\n",
      "Threshold 0.4 : jaccard = 0.5072737825541556\n",
      "Threshold 0.45 : jaccard = 0.49054090316644944\n",
      "Threshold 0.5 : jaccard = 0.4714655214484408\n",
      "Threshold 0.55 : jaccard = 0.45173408399329956\n",
      "Threshold 0.6 : jaccard = 0.43108051145145426\n",
      "Threshold 0.65 : jaccard = 0.40817237008871987\n",
      "Threshold 0.7 : jaccard = 0.3847310288402536\n"
     ]
    }
   ],
   "source": [
    "threshold = [.01,\n",
    "             .05,\n",
    "             .1,\n",
    "             .15,\n",
    "             .2,\n",
    "             .25,\n",
    "             .3,\n",
    "             .35,\n",
    "             .4,\n",
    "             .45,\n",
    "             .5,\n",
    "             .55,\n",
    "             .6,\n",
    "             .65,\n",
    "             .7]\n",
    "xtst_p = supervised.predict_proba(X_train_tfv)\n",
    "for thrsh in threshold:\n",
    "    xtst_p_bits = (xtst_p > thrsh).astype('int')\n",
    "    print('Threshold {} : jaccard = {}'.format(\n",
    "        thrsh,\n",
    "        jaccard_score(xtst_p_bits,\n",
    "                      y_train,\n",
    "                      average='micro')))"
   ]
  },
  {
   "cell_type": "code",
   "execution_count": 140,
   "metadata": {},
   "outputs": [
    {
     "name": "stdout",
     "output_type": "stream",
     "text": [
      "Threshold 0.01 : jaccard = 0.10422246522660158\n",
      "Threshold 0.05 : jaccard = 0.24026422163068126\n",
      "Threshold 0.1 : jaccard = 0.32439415723781545\n",
      "Threshold 0.15 : jaccard = 0.36886971964987947\n",
      "Threshold 0.2 : jaccard = 0.3922549299799943\n",
      "Threshold 0.25 : jaccard = 0.40264925257652195\n",
      "Threshold 0.3 : jaccard = 0.4069553805774278\n",
      "Threshold 0.35 : jaccard = 0.4063732720474737\n",
      "Threshold 0.4 : jaccard = 0.4038365896980462\n",
      "Threshold 0.45 : jaccard = 0.3965189410560187\n",
      "Threshold 0.5 : jaccard = 0.38989846003971673\n",
      "Threshold 0.55 : jaccard = 0.3805407886181971\n",
      "Threshold 0.6 : jaccard = 0.3692385549672999\n",
      "Threshold 0.65 : jaccard = 0.3568041725936463\n",
      "Threshold 0.7 : jaccard = 0.3427976452685115\n"
     ]
    }
   ],
   "source": [
    "threshold = [.01,\n",
    "             .05,\n",
    "             .1,\n",
    "             .15,\n",
    "             .2,\n",
    "             .25,\n",
    "             .3,\n",
    "             .35,\n",
    "             .4,\n",
    "             .45,\n",
    "             .5,\n",
    "             .55,\n",
    "             .6,\n",
    "             .65,\n",
    "             .7]\n",
    "xtst_p = supervised.predict_proba(X_test_tfv)\n",
    "for thrsh in threshold:\n",
    "    xtst_p_bits = (xtst_p > thrsh).astype('int')\n",
    "    print('Threshold {} : jaccard = {}'.format(\n",
    "        thrsh,\n",
    "        jaccard_score(xtst_p_bits,\n",
    "                      y_test,\n",
    "                      average='micro')))"
   ]
  },
  {
   "cell_type": "code",
   "execution_count": 141,
   "metadata": {},
   "outputs": [
    {
     "name": "stdout",
     "output_type": "stream",
     "text": [
      "Threshold 0.25 : jaccard = 0.5313939233292468\n",
      "Threshold 0.26 : jaccard = 0.5315078832606508\n",
      "Threshold 0.27 : jaccard = 0.5314750566220194\n",
      "Threshold 0.28 : jaccard = 0.5311787202661682\n",
      "Threshold 0.29000000000000004 : jaccard = 0.5303174630665581\n",
      "Threshold 0.30000000000000004 : jaccard = 0.5293279858799269\n",
      "Threshold 0.31000000000000005 : jaccard = 0.5283700758944705\n",
      "Threshold 0.32000000000000006 : jaccard = 0.5269100154685916\n",
      "Threshold 0.33000000000000007 : jaccard = 0.5246776982413388\n",
      "Threshold 0.3400000000000001 : jaccard = 0.5228993511474492\n",
      "Threshold 0.3500000000000001 : jaccard = 0.5207687764096506\n"
     ]
    }
   ],
   "source": [
    "threshold = np.arange(.25,.36,.01)\n",
    "xtst_p = supervised.predict_proba(X_train_tfv)\n",
    "for thrsh in threshold:\n",
    "    xtst_p_bits = (xtst_p > thrsh).astype('int')\n",
    "    print('Threshold {} : jaccard = {}'.format(\n",
    "        thrsh,\n",
    "        jaccard_score(xtst_p_bits,\n",
    "                      y_train,\n",
    "                      average='micro')))"
   ]
  },
  {
   "cell_type": "code",
   "execution_count": 142,
   "metadata": {},
   "outputs": [
    {
     "name": "stdout",
     "output_type": "stream",
     "text": [
      "Threshold 0.25 : jaccard = 0.40264925257652195\n",
      "Threshold 0.26 : jaccard = 0.4037393732157982\n",
      "Threshold 0.27 : jaccard = 0.4042897483897579\n",
      "Threshold 0.28 : jaccard = 0.40567430515437447\n",
      "Threshold 0.29000000000000004 : jaccard = 0.4056964899759943\n",
      "Threshold 0.30000000000000004 : jaccard = 0.4069553805774278\n",
      "Threshold 0.31000000000000005 : jaccard = 0.4067684360409285\n",
      "Threshold 0.32000000000000006 : jaccard = 0.40646821021683205\n",
      "Threshold 0.33000000000000007 : jaccard = 0.4067424830425539\n",
      "Threshold 0.3400000000000001 : jaccard = 0.4064434918690889\n",
      "Threshold 0.3500000000000001 : jaccard = 0.4063732720474737\n"
     ]
    }
   ],
   "source": [
    "threshold = np.arange(.25,.36,.01)\n",
    "xtst_p = supervised.predict_proba(X_test_tfv)\n",
    "for thrsh in threshold:\n",
    "    xtst_p_bits = (xtst_p > thrsh).astype('int')\n",
    "    print('Threshold {} : jaccard = {}'.format(\n",
    "        thrsh,\n",
    "        jaccard_score(xtst_p_bits,\n",
    "                      y_train,\n",
    "                      average='micro')))"
   ]
  },
  {
   "cell_type": "code",
   "execution_count": 71,
   "metadata": {},
   "outputs": [
    {
     "name": "stdout",
     "output_type": "stream",
     "text": [
      "Threshold 0.26 : jaccard = 0.5315078832606508\n",
      "Threshold 0.261 : jaccard = 0.5314803310891355\n",
      "Threshold 0.262 : jaccard = 0.5316298226443641\n",
      "Threshold 0.263 : jaccard = 0.5316302317362549\n",
      "Threshold 0.264 : jaccard = 0.5317705744065926\n",
      "Threshold 0.265 : jaccard = 0.5318569138614697\n",
      "Threshold 0.266 : jaccard = 0.5317253202935637\n",
      "Threshold 0.267 : jaccard = 0.5316447134813412\n",
      "Threshold 0.268 : jaccard = 0.5317171443565999\n",
      "Threshold 0.269 : jaccard = 0.5316172545563925\n",
      "Threshold 0.27 : jaccard = 0.5314750566220194\n"
     ]
    }
   ],
   "source": [
    "threshold = np.arange(.260,.270,.001)\n",
    "xtst_p = supervised.predict_proba(X_train_tfv)\n",
    "for thrsh in threshold:\n",
    "    xtst_p_bits = (xtst_p > thrsh).astype('int')\n",
    "    print('Threshold {} : jaccard = {}'.format(\n",
    "        thrsh,\n",
    "        jaccard_score(xtst_p_bits,\n",
    "                      y_train,\n",
    "                      average='micro')))"
   ]
  },
  {
   "cell_type": "code",
   "execution_count": 72,
   "metadata": {},
   "outputs": [
    {
     "name": "stdout",
     "output_type": "stream",
     "text": [
      "Threshold 0.295 : jaccard = 0.4067243349110495\n",
      "Threshold 0.296 : jaccard = 0.4069535666437931\n",
      "Threshold 0.297 : jaccard = 0.4069215923587714\n",
      "Threshold 0.298 : jaccard = 0.4069938770832651\n",
      "Threshold 0.299 : jaccard = 0.40683687850283506\n",
      "Threshold 0.3 : jaccard = 0.4069553805774278\n",
      "Threshold 0.301 : jaccard = 0.4069099149397353\n",
      "Threshold 0.302 : jaccard = 0.40690833798928583\n",
      "Threshold 0.303 : jaccard = 0.40716612377850164\n",
      "Threshold 0.304 : jaccard = 0.40700240440038205\n",
      "Threshold 0.305 : jaccard = 0.4069495269178782\n"
     ]
    }
   ],
   "source": [
    "threshold = np.arange(.295,.305,.001)\n",
    "xtst_p = supervised.predict_proba(X_test_tfv)\n",
    "for thrsh in threshold:\n",
    "    xtst_p_bits = (xtst_p > thrsh).astype('int')\n",
    "    print('Threshold {} : jaccard = {}'.format(\n",
    "        thrsh,\n",
    "        jaccard_score(xtst_p_bits,\n",
    "                      y_train,\n",
    "                      average='micro')))"
   ]
  },
  {
   "cell_type": "code",
   "execution_count": 56,
   "metadata": {},
   "outputs": [
    {
     "name": "stdout",
     "output_type": "stream",
     "text": [
      "Threshold 0.265 : jaccard = 0.5318569138614697\n"
     ]
    }
   ],
   "source": [
    "xtst_p_bits = (supervised.predict_proba(X_train_tfv) > 0.265).astype('int')\n",
    "print('Threshold {} : jaccard = {}'.format(0.265,\n",
    "                                           jaccard_score(xtst_p_bits,\n",
    "                                                         y_train,\n",
    "                                                         average='micro')))"
   ]
  },
  {
   "cell_type": "code",
   "execution_count": 57,
   "metadata": {},
   "outputs": [
    {
     "name": "stdout",
     "output_type": "stream",
     "text": [
      "Threshold 0.265 : jaccard = 0.4037539432176656\n"
     ]
    }
   ],
   "source": [
    "xtst_p_bits = (supervised.predict_proba(X_test_tfv) > 0.265).astype('int')\n",
    "print('Threshold {} : jaccard = {}'.format(0.265,\n",
    "                                           jaccard_score(xtst_p_bits,\n",
    "                                                         y_train,\n",
    "                                                         average='micro')))"
   ]
  },
  {
   "cell_type": "markdown",
   "metadata": {},
   "source": [
    "Num Words 1 : jaccard = 0.5316093858747887"
   ]
  },
  {
   "cell_type": "code",
   "execution_count": 167,
   "metadata": {},
   "outputs": [
    {
     "name": "stdout",
     "output_type": "stream",
     "text": [
      "Num Words 2 : jaccard = 0.5275037551252385\n",
      "Num Words 3 : jaccard = 0.5208482306017702\n",
      "Num Words 4 : jaccard = 0.5126129415694897\n",
      "Num Words 5 : jaccard = 0.5039806135006609\n"
     ]
    }
   ],
   "source": [
    "threshold = 0.265\n",
    "num_w = [2, 3, 4, 5]\n",
    "for num in num_w:\n",
    "    xtst_p_bits = []\n",
    "    for ind in range(len(X_train)):\n",
    "        threshold = 0.265\n",
    "        xtst_p = clf_lr.predict_proba(X_train_tfv[ind])\n",
    "        xtst_p = (xtst_p > threshold).astype('int')\n",
    "        if np.sum(xtst_p) < 1:\n",
    "            threshold = np.sort(clf_lr.predict_proba(X_train_tfv[ind]))[0][-num]-1e-10\n",
    "            xtst_p = clf_lr.predict_proba(X_train_tfv[ind])\n",
    "            xtst_p = (xtst_p > threshold).astype('int')\n",
    "        xtst_p_bits.append(xtst_p[0])\n",
    "    print('Num Words {} : jaccard = {}'.format(\n",
    "        num,\n",
    "        jaccard_score(np.array(xtst_p_bits),\n",
    "                      y_train,\n",
    "                      average='micro')))"
   ]
  },
  {
   "cell_type": "code",
   "execution_count": 48,
   "metadata": {},
   "outputs": [
    {
     "name": "stdout",
     "output_type": "stream",
     "text": [
      "Num Words 1 : jaccard = 0.4013471534463138\n",
      "Num Words 2 : jaccard = 0.39654346133109686\n",
      "Num Words 3 : jaccard = 0.3895104895104895\n",
      "Num Words 4 : jaccard = 0.38155694731770906\n",
      "Num Words 5 : jaccard = 0.3734215605183347\n"
     ]
    }
   ],
   "source": [
    "threshold = 0.265\n",
    "num_w = [1,\n",
    "         2,\n",
    "         3,\n",
    "         4,\n",
    "         5]\n",
    "for num in num_w:\n",
    "    xtst_p_bits = []\n",
    "    for ind in range(len(X_test)):\n",
    "        threshold = 0.265\n",
    "        xtst_p = clf_lr.predict_proba(X_test_tfv[ind])\n",
    "        xtst_p = (xtst_p > threshold).astype('int')\n",
    "        if np.sum(xtst_p) < 1:\n",
    "            threshold = np.sort(clf_lr.predict_proba(X_test_tfv[ind]))[0][-num]-1e-10\n",
    "            xtst_p = clf_lr.predict_proba(X_test_tfv[ind])\n",
    "            xtst_p = (xtst_p > threshold).astype('int')\n",
    "        xtst_p_bits.append(xtst_p[0])\n",
    "    print('Num Words {} : jaccard = {}'.format(\n",
    "        num,\n",
    "        jaccard_score(np.array(xtst_p_bits),\n",
    "                      y_test,\n",
    "                      average='micro')))"
   ]
  },
  {
   "cell_type": "code",
   "execution_count": 58,
   "metadata": {},
   "outputs": [],
   "source": [
    "tags_lr_train_1 = 0.5316093858747887\n",
    "tags_lr_train_2 = 0.5275037551252385\n",
    "tags_lr_train_3 = 0.5208482306017702\n",
    "tags_lr_train_4 = 0.5126129415694897\n",
    "tags_lr_train_5 = 0.5039806135006609\n",
    "tags_lr_test_1 = 0.4013471534463138\n",
    "tags_lr_test_2 = 0.39654346133109686\n",
    "tags_lr_test_3 = 0.3895104895104895\n",
    "tags_lr_test_4 = 0.38155694731770906\n",
    "tags_lr_test_5 = 0.3734215605183347"
   ]
  },
  {
   "cell_type": "code",
   "execution_count": 59,
   "metadata": {},
   "outputs": [],
   "source": [
    "tags_lr_train = [tags_lr_train_1*100,\n",
    "                 tags_lr_train_2*100,\n",
    "                 tags_lr_train_3*100,\n",
    "                 tags_lr_train_4*100,\n",
    "                 tags_lr_train_5*100]\n",
    "tags_lr_test = [tags_lr_test_1*100,\n",
    "                tags_lr_test_2*100,\n",
    "                tags_lr_test_3*100,\n",
    "                tags_lr_test_4*100,\n",
    "                tags_lr_test_5*100]"
   ]
  },
  {
   "cell_type": "code",
   "execution_count": 61,
   "metadata": {},
   "outputs": [
    {
     "data": {
      "image/png": "[encoded data removed]",
      "text/plain": [
       "<Figure size 864x432 with 1 Axes>"
      ]
     },
     "metadata": {
      "needs_background": "light"
     },
     "output_type": "display_data"
    }
   ],
   "source": [
    "fig, ax = plt.subplots(figsize=(12, 6))\n",
    "leg = [\"Tag_LR_Train\", \"Tag_LR_Test\"]\n",
    "plt.plot(np.arange(5)+1,tags_lr_train)\n",
    "plt.plot(np.arange(5)+1,tags_lr_test)\n",
    "plt.ylabel(\"Jaccard Score (%)\", fontsize=18)\n",
    "plt.xlabel(\"Number of tags at output\", fontsize=18)\n",
    "plt.title(\"LR Tags - Jaccard Score evolution\\\n",
    "    \\naccording to number of recommended tags\", fontsize=20)\n",
    "ax.tick_params(labelsize=16)\n",
    "plt.xticks(np.arange(5)+1)\n",
    "fig.patch.set_alpha(0)\n",
    "ax.spines['top'].set_visible(False)\n",
    "ax.spines['right'].set_visible(False)\n",
    "plt.legend(leg, fontsize=16)\n",
    "plt.show()"
   ]
  },
  {
   "cell_type": "code",
   "execution_count": 103,
   "metadata": {},
   "outputs": [],
   "source": [
    "from scipy import sparse"
   ]
  },
  {
   "cell_type": "code",
   "execution_count": 88,
   "metadata": {},
   "outputs": [
    {
     "data": {
      "text/plain": [
       "OneVsRestClassifier(estimator=LogisticRegression(C=10, class_weight=None,\n",
       "                                                 dual=False, fit_intercept=True,\n",
       "                                                 intercept_scaling=1,\n",
       "                                                 l1_ratio=1, max_iter=100,\n",
       "                                                 multi_class='auto',\n",
       "                                                 n_jobs=None,\n",
       "                                                 penalty='elasticnet',\n",
       "                                                 random_state=42, solver='saga',\n",
       "                                                 tol=0.0001, verbose=0,\n",
       "                                                 warm_start=False),\n",
       "                    n_jobs=6)"
      ]
     },
     "execution_count": 88,
     "metadata": {},
     "output_type": "execute_result"
    }
   ],
   "source": [
    "supervised"
   ]
  },
  {
   "cell_type": "code",
   "execution_count": 113,
   "metadata": {},
   "outputs": [
    {
     "data": {
      "text/plain": [
       "'interface typescript scenario require passwords typescript strong typed send written interface userlogin userlogin scenario'"
      ]
     },
     "execution_count": 113,
     "metadata": {},
     "output_type": "execute_result"
    }
   ],
   "source": [
    "X_train.iloc[1]"
   ]
  },
  {
   "cell_type": "code",
   "execution_count": 112,
   "metadata": {},
   "outputs": [
    {
     "data": {
      "text/plain": [
       "[('typescript', 'class')]"
      ]
     },
     "execution_count": 112,
     "metadata": {},
     "output_type": "execute_result"
    }
   ],
   "source": [
    "mlb.inverse_transform(y_train[1])"
   ]
  },
  {
   "cell_type": "code",
   "execution_count": 114,
   "metadata": {},
   "outputs": [
    {
     "name": "stdout",
     "output_type": "stream",
     "text": [
      "('typescript',)\n"
     ]
    }
   ],
   "source": [
    "#count_vect\n",
    "text_cv = tf_vectorizer.transform([X_train.iloc[1]])\n",
    "#tfv\n",
    "text_tfv = tfv.transform([X_train_l.iloc[1]])\n",
    "#whitespace token\n",
    "wtext = wstokenize(X_train.iloc[1])\n",
    "\n",
    "#tagz_from_model\n",
    "threshold = 0.265\n",
    "tagz_from_model = supervised.predict_proba(text_tfv)\n",
    "tagz_from_model = (tagz_from_model>threshold).astype('int')\n",
    "if np.sum(tagz_from_model) < 1:\n",
    "    threshold = np.sort(supervised.predict_proba(text_tfv))[0][-1]-1e-10\n",
    "    tagz_from_model = supervised.predict_proba(text_tfv)\n",
    "    tagz_from_model = (tagz_from_model>threshold).astype('int')\n",
    "tagz_from_model = mlb.inverse_transform(sparse.csr_matrix(tagz_from_model))[0]\n",
    "print(tagz_from_model)"
   ]
  },
  {
   "cell_type": "markdown",
   "metadata": {},
   "source": [
    "### Hybrid Tagging trials"
   ]
  },
  {
   "cell_type": "code",
   "execution_count": 212,
   "metadata": {},
   "outputs": [],
   "source": [
    "# Using Weighted IT_dict & LDA for the remaining unpredicted\n",
    "def taggingv3(text, text_lem, number_of_tags):\n",
    "    #count_vect\n",
    "    text_cv = tf_vectorizer.transform([text])\n",
    "    #tfv\n",
    "    text_tfv = tfv.transform([text_lem])\n",
    "    #whitespace token\n",
    "    wtext = wstokenize(text_lem)\n",
    "    \n",
    "    #tagz_from_model\n",
    "    threshold = 0.265\n",
    "    tagz_from_model = supervised.predict_proba(text_tfv)\n",
    "    tagz_from_model = (tagz_from_model>threshold).astype('int')\n",
    "    \n",
    "    if np.sum(tagz_from_model) < 1:\n",
    "        rez = pd.DataFrame(index=[\"tag\",\"value\"])\n",
    "        #tagz_from_it\n",
    "        tagz_from_it = list([words for words in wtext if words in it_tags_dict])\n",
    "        if len(tagz_from_it) > 0:\n",
    "            for tag in tagz_from_it:\n",
    "                ind = rez.shape[1]\n",
    "                rez.at[\"tag\",ind] = tag\n",
    "                rez.at[\"value\",ind] = 0.3194\n",
    "                \n",
    "        #tagz_from_topics\n",
    "        tagz_from_topics = df_topic_keywords.iloc[np.argmax(lda_sk.transform(text_cv))].values\n",
    "        temp = []\n",
    "        for w in it_tags_dict:\n",
    "            if w in tagz_from_topics:\n",
    "                temp.append(w)\n",
    "        tagz_from_topics = temp\n",
    "        for n, tag in enumerate(tagz_from_topics):\n",
    "            ind = rez.shape[1]\n",
    "            rez.at[\"tag\",ind] = tag\n",
    "            rez.at[\"value\",ind] = 0.0976 - 1e-5*n\n",
    "            \n",
    "        return(list(rez.T.groupby(\"tag\").sum().sort_values(by=\"value\",ascending=False).index)[:number_of_tags])\n",
    "    else:    \n",
    "        tagz_from_model = mlb.inverse_transform(sparse.csr_matrix(tagz_from_model))[0]\n",
    "        return(tagz_from_model)"
   ]
  },
  {
   "cell_type": "code",
   "execution_count": 213,
   "metadata": {},
   "outputs": [
    {
     "name": "stdout",
     "output_type": "stream",
     "text": [
      "1 0.4104135710747895\n",
      "2 0.40712237814999247\n",
      "3 0.39880323829637454\n",
      "4 0.38931319464234826\n",
      "5 0.3793542670432519\n"
     ]
    }
   ],
   "source": [
    "num_w = [1,\n",
    "         2,\n",
    "         3,\n",
    "         4,\n",
    "         5]\n",
    "temp_v3=[]\n",
    "for num in num_w:\n",
    "    tagz_v3 = [taggingv3(x, y, num) for x, y in zip(X_test, X_test_l)]\n",
    "    print(num, jaccard_score(mlb.transform(tagz_v3),\n",
    "                            y_test,\n",
    "                            average='micro'))\n",
    "    temp_v3.append(jaccard_score(mlb.transform(tagz_v3),\n",
    "                                 y_test,\n",
    "                                 average='micro'))"
   ]
  },
  {
   "cell_type": "code",
   "execution_count": 214,
   "metadata": {},
   "outputs": [
    {
     "name": "stdout",
     "output_type": "stream",
     "text": [
      "1 0.533032011942279\n",
      "2 0.5264503042596349\n",
      "3 0.5157060393225064\n",
      "4 0.5043965384021016\n",
      "5 0.4926978956971493\n"
     ]
    }
   ],
   "source": [
    "num_w = [1,\n",
    "         2,\n",
    "         3,\n",
    "         4,\n",
    "         5]\n",
    "temp_v3_tr=[]\n",
    "for num in num_w:\n",
    "    tagz_v3 = [taggingv3(x, y, num) for x,y in zip(X_train,X_train_l)]\n",
    "    print(num, jaccard_score(mlb.transform(tagz_v3),\n",
    "                             y_train,\n",
    "                             average='micro'))\n",
    "    temp_v3_tr.append(jaccard_score(mlb.transform(tagz_v3),\n",
    "                                    y_train,\n",
    "                                    average='micro'))"
   ]
  },
  {
   "cell_type": "code",
   "execution_count": 224,
   "metadata": {},
   "outputs": [
    {
     "data": {
      "image/png": "[encoded data removed]",
      "text/plain": [
       "<Figure size 864x432 with 1 Axes>"
      ]
     },
     "metadata": {
      "needs_background": "light"
     },
     "output_type": "display_data"
    }
   ],
   "source": [
    "fig, ax = plt.subplots(figsize=(12, 6))\n",
    "leg = [\"Tag_Hybrid_Train\", \"Tag_Hybrid_Test\"]\n",
    "plt.plot(np.arange(5)+1, temp_v3_tr*np.ones(5)*100, marker='o')\n",
    "plt.plot(np.arange(5)+1, temp_v3*np.ones(5)*100, marker='o')\n",
    "plt.ylabel(\"Jaccard Score (%)\", fontsize=18)\n",
    "plt.xlabel(\"Number of tags at output\", fontsize=18)\n",
    "plt.title(\"Hybrid Tags - Jaccard Score evolution\\\n",
    "    \\naccording to number of recommended tags\", fontsize=20)\n",
    "ax.tick_params(labelsize=16)\n",
    "plt.xticks(np.arange(5)+1)\n",
    "fig.patch.set_alpha(0)\n",
    "ax.spines['top'].set_visible(False)\n",
    "ax.spines['right'].set_visible(False)\n",
    "plt.axhline(y=53.16093858747887, color='green', linestyle='--')\n",
    "plt.axhline(y=40.13471534463138, color='red', linestyle='--')\n",
    "plt.legend(leg, fontsize=16)\n",
    "plt.show()"
   ]
  },
  {
   "cell_type": "code",
   "execution_count": 210,
   "metadata": {},
   "outputs": [],
   "source": [
    "# Using Weight on the 3 methods\n",
    "def taggingv2(text, text_lem, number_of_tags):\n",
    "    #count_vect\n",
    "    text_cv = tf_vectorizer.transform([text])\n",
    "    #tfv\n",
    "    text_tfv = tfv.transform([text_lem])\n",
    "    #whitespace token\n",
    "    wtext = wstokenize(text_lem)\n",
    "    \n",
    "    #tagz_from_model\n",
    "    threshold = 0.265\n",
    "    tagz_from_model = supervised.predict_proba(text_tfv)\n",
    "    tagz_from_model = (tagz_from_model>threshold).astype('int')\n",
    "    if np.sum(tagz_from_model) < 1:\n",
    "        threshold = np.sort(supervised.predict_proba(text_tfv))[0][-1]-1e-10\n",
    "        tagz_from_model = supervised.predict_proba(text_tfv)\n",
    "        tagz_from_model = (tagz_from_model>threshold).astype('int')\n",
    "    tagz_from_model = mlb.inverse_transform(sparse.csr_matrix(tagz_from_model))[0]\n",
    "    \n",
    "    df_rez = pd.DataFrame(data=[tagz_from_model,\n",
    "                                0.5316*np.ones(len(tagz_from_model))],\n",
    "                          index=[\"tag\", \"value\"])\n",
    "    \n",
    "    #tagz_from_it\n",
    "    tagz_from_it = list([words for words in wtext if words in it_tags_dict])\n",
    "    if len(tagz_from_it) > 0:\n",
    "        for tag in tagz_from_it:\n",
    "            ind = df_rez.shape[1]\n",
    "            df_rez.at[\"tag\",ind] = tag\n",
    "            df_rez.at[\"value\",ind] = 0.3194\n",
    "    \n",
    "    #tagz_from_topics\n",
    "    tagz_from_topics = df_topic_keywords.iloc[np.argmax(lda_sk.transform(text_cv))].values\n",
    "    temp = []\n",
    "    for w in it_tags_dict:\n",
    "        if w in tagz_from_topics:\n",
    "            temp.append(w)\n",
    "    tagz_from_topics = temp\n",
    "    for tag in tagz_from_topics:\n",
    "        ind = df_rez.shape[1]\n",
    "        df_rez.at[\"tag\",ind] = tag\n",
    "        df_rez.at[\"value\",ind] = 0.0976\n",
    "    \n",
    "    return(list(df_rez.T.groupby(\"tag\").sum().sort_values(by=\"value\",ascending=False).index)[:number_of_tags])"
   ]
  },
  {
   "cell_type": "code",
   "execution_count": 211,
   "metadata": {},
   "outputs": [
    {
     "name": "stdout",
     "output_type": "stream",
     "text": [
      "1 0.25935459802275695\n",
      "2 0.3443324631169935\n",
      "3 0.3368372274523194\n"
     ]
    },
    {
     "ename": "KeyboardInterrupt",
     "evalue": "",
     "output_type": "error",
     "traceback": [
      "\u001b[1;31m---------------------------------------------------------------------------\u001b[0m",
      "\u001b[1;31mKeyboardInterrupt\u001b[0m                         Traceback (most recent call last)",
      "\u001b[1;32m<ipython-input-211-682f5119601b>\u001b[0m in \u001b[0;36m<module>\u001b[1;34m\u001b[0m\n\u001b[0;32m      2\u001b[0m \u001b[0mtemp\u001b[0m\u001b[1;33m=\u001b[0m\u001b[1;33m[\u001b[0m\u001b[1;33m]\u001b[0m\u001b[1;33m\u001b[0m\u001b[1;33m\u001b[0m\u001b[0m\n\u001b[0;32m      3\u001b[0m \u001b[1;32mfor\u001b[0m \u001b[0mnum\u001b[0m \u001b[1;32min\u001b[0m \u001b[0mnum_w\u001b[0m\u001b[1;33m:\u001b[0m\u001b[1;33m\u001b[0m\u001b[1;33m\u001b[0m\u001b[0m\n\u001b[1;32m----> 4\u001b[1;33m     \u001b[0mtagz_v2\u001b[0m \u001b[1;33m=\u001b[0m \u001b[1;33m[\u001b[0m\u001b[0mtaggingv2\u001b[0m\u001b[1;33m(\u001b[0m\u001b[0mx\u001b[0m\u001b[1;33m,\u001b[0m\u001b[0my\u001b[0m\u001b[1;33m,\u001b[0m\u001b[0mnum\u001b[0m\u001b[1;33m)\u001b[0m \u001b[1;32mfor\u001b[0m \u001b[0mx\u001b[0m\u001b[1;33m,\u001b[0m\u001b[0my\u001b[0m \u001b[1;32min\u001b[0m \u001b[0mzip\u001b[0m\u001b[1;33m(\u001b[0m\u001b[0mX_test\u001b[0m\u001b[1;33m,\u001b[0m\u001b[0mX_test_l\u001b[0m\u001b[1;33m)\u001b[0m\u001b[1;33m]\u001b[0m\u001b[1;33m\u001b[0m\u001b[1;33m\u001b[0m\u001b[0m\n\u001b[0m\u001b[0;32m      5\u001b[0m     \u001b[0mprint\u001b[0m\u001b[1;33m(\u001b[0m\u001b[0mnum\u001b[0m\u001b[1;33m,\u001b[0m\u001b[0mjaccard_score\u001b[0m\u001b[1;33m(\u001b[0m\u001b[0mmlb\u001b[0m\u001b[1;33m.\u001b[0m\u001b[0mtransform\u001b[0m\u001b[1;33m(\u001b[0m\u001b[0mtagz_v2\u001b[0m\u001b[1;33m)\u001b[0m\u001b[1;33m,\u001b[0m\u001b[0my_test\u001b[0m\u001b[1;33m,\u001b[0m\u001b[0maverage\u001b[0m\u001b[1;33m=\u001b[0m\u001b[1;34m'micro'\u001b[0m\u001b[1;33m)\u001b[0m\u001b[1;33m)\u001b[0m\u001b[1;33m\u001b[0m\u001b[1;33m\u001b[0m\u001b[0m\n\u001b[0;32m      6\u001b[0m     \u001b[0mtemp\u001b[0m\u001b[1;33m.\u001b[0m\u001b[0mappend\u001b[0m\u001b[1;33m(\u001b[0m\u001b[0mjaccard_score\u001b[0m\u001b[1;33m(\u001b[0m\u001b[0mmlb\u001b[0m\u001b[1;33m.\u001b[0m\u001b[0mtransform\u001b[0m\u001b[1;33m(\u001b[0m\u001b[0mtagz_v2\u001b[0m\u001b[1;33m)\u001b[0m\u001b[1;33m,\u001b[0m\u001b[0my_test\u001b[0m\u001b[1;33m,\u001b[0m\u001b[0maverage\u001b[0m\u001b[1;33m=\u001b[0m\u001b[1;34m'micro'\u001b[0m\u001b[1;33m)\u001b[0m\u001b[1;33m)\u001b[0m\u001b[1;33m\u001b[0m\u001b[1;33m\u001b[0m\u001b[0m\n",
      "\u001b[1;32m<ipython-input-211-682f5119601b>\u001b[0m in \u001b[0;36m<listcomp>\u001b[1;34m(.0)\u001b[0m\n\u001b[0;32m      2\u001b[0m \u001b[0mtemp\u001b[0m\u001b[1;33m=\u001b[0m\u001b[1;33m[\u001b[0m\u001b[1;33m]\u001b[0m\u001b[1;33m\u001b[0m\u001b[1;33m\u001b[0m\u001b[0m\n\u001b[0;32m      3\u001b[0m \u001b[1;32mfor\u001b[0m \u001b[0mnum\u001b[0m \u001b[1;32min\u001b[0m \u001b[0mnum_w\u001b[0m\u001b[1;33m:\u001b[0m\u001b[1;33m\u001b[0m\u001b[1;33m\u001b[0m\u001b[0m\n\u001b[1;32m----> 4\u001b[1;33m     \u001b[0mtagz_v2\u001b[0m \u001b[1;33m=\u001b[0m \u001b[1;33m[\u001b[0m\u001b[0mtaggingv2\u001b[0m\u001b[1;33m(\u001b[0m\u001b[0mx\u001b[0m\u001b[1;33m,\u001b[0m\u001b[0my\u001b[0m\u001b[1;33m,\u001b[0m\u001b[0mnum\u001b[0m\u001b[1;33m)\u001b[0m \u001b[1;32mfor\u001b[0m \u001b[0mx\u001b[0m\u001b[1;33m,\u001b[0m\u001b[0my\u001b[0m \u001b[1;32min\u001b[0m \u001b[0mzip\u001b[0m\u001b[1;33m(\u001b[0m\u001b[0mX_test\u001b[0m\u001b[1;33m,\u001b[0m\u001b[0mX_test_l\u001b[0m\u001b[1;33m)\u001b[0m\u001b[1;33m]\u001b[0m\u001b[1;33m\u001b[0m\u001b[1;33m\u001b[0m\u001b[0m\n\u001b[0m\u001b[0;32m      5\u001b[0m     \u001b[0mprint\u001b[0m\u001b[1;33m(\u001b[0m\u001b[0mnum\u001b[0m\u001b[1;33m,\u001b[0m\u001b[0mjaccard_score\u001b[0m\u001b[1;33m(\u001b[0m\u001b[0mmlb\u001b[0m\u001b[1;33m.\u001b[0m\u001b[0mtransform\u001b[0m\u001b[1;33m(\u001b[0m\u001b[0mtagz_v2\u001b[0m\u001b[1;33m)\u001b[0m\u001b[1;33m,\u001b[0m\u001b[0my_test\u001b[0m\u001b[1;33m,\u001b[0m\u001b[0maverage\u001b[0m\u001b[1;33m=\u001b[0m\u001b[1;34m'micro'\u001b[0m\u001b[1;33m)\u001b[0m\u001b[1;33m)\u001b[0m\u001b[1;33m\u001b[0m\u001b[1;33m\u001b[0m\u001b[0m\n\u001b[0;32m      6\u001b[0m     \u001b[0mtemp\u001b[0m\u001b[1;33m.\u001b[0m\u001b[0mappend\u001b[0m\u001b[1;33m(\u001b[0m\u001b[0mjaccard_score\u001b[0m\u001b[1;33m(\u001b[0m\u001b[0mmlb\u001b[0m\u001b[1;33m.\u001b[0m\u001b[0mtransform\u001b[0m\u001b[1;33m(\u001b[0m\u001b[0mtagz_v2\u001b[0m\u001b[1;33m)\u001b[0m\u001b[1;33m,\u001b[0m\u001b[0my_test\u001b[0m\u001b[1;33m,\u001b[0m\u001b[0maverage\u001b[0m\u001b[1;33m=\u001b[0m\u001b[1;34m'micro'\u001b[0m\u001b[1;33m)\u001b[0m\u001b[1;33m)\u001b[0m\u001b[1;33m\u001b[0m\u001b[1;33m\u001b[0m\u001b[0m\n",
      "\u001b[1;32m<ipython-input-210-cb50872ab782>\u001b[0m in \u001b[0;36mtaggingv2\u001b[1;34m(text, text_lem, number_of_tags)\u001b[0m\n\u001b[0;32m      9\u001b[0m     \u001b[1;31m#tagz_from_model\u001b[0m\u001b[1;33m\u001b[0m\u001b[1;33m\u001b[0m\u001b[1;33m\u001b[0m\u001b[0m\n\u001b[0;32m     10\u001b[0m     \u001b[0mthreshold\u001b[0m \u001b[1;33m=\u001b[0m \u001b[1;36m0.265\u001b[0m\u001b[1;33m\u001b[0m\u001b[1;33m\u001b[0m\u001b[0m\n\u001b[1;32m---> 11\u001b[1;33m     \u001b[0mtagz_from_model\u001b[0m \u001b[1;33m=\u001b[0m \u001b[0msupervised\u001b[0m\u001b[1;33m.\u001b[0m\u001b[0mpredict_proba\u001b[0m\u001b[1;33m(\u001b[0m\u001b[0mtext_tfv\u001b[0m\u001b[1;33m)\u001b[0m\u001b[1;33m\u001b[0m\u001b[1;33m\u001b[0m\u001b[0m\n\u001b[0m\u001b[0;32m     12\u001b[0m     \u001b[0mtagz_from_model\u001b[0m \u001b[1;33m=\u001b[0m \u001b[1;33m(\u001b[0m\u001b[0mtagz_from_model\u001b[0m\u001b[1;33m>\u001b[0m\u001b[0mthreshold\u001b[0m\u001b[1;33m)\u001b[0m\u001b[1;33m.\u001b[0m\u001b[0mastype\u001b[0m\u001b[1;33m(\u001b[0m\u001b[1;34m'int'\u001b[0m\u001b[1;33m)\u001b[0m\u001b[1;33m\u001b[0m\u001b[1;33m\u001b[0m\u001b[0m\n\u001b[0;32m     13\u001b[0m     \u001b[1;32mif\u001b[0m \u001b[0mnp\u001b[0m\u001b[1;33m.\u001b[0m\u001b[0msum\u001b[0m\u001b[1;33m(\u001b[0m\u001b[0mtagz_from_model\u001b[0m\u001b[1;33m)\u001b[0m \u001b[1;33m<\u001b[0m \u001b[1;36m1\u001b[0m\u001b[1;33m:\u001b[0m\u001b[1;33m\u001b[0m\u001b[1;33m\u001b[0m\u001b[0m\n",
      "\u001b[1;32mG:\\Logiciels\\Anaconda\\lib\\site-packages\\sklearn\\utils\\metaestimators.py\u001b[0m in \u001b[0;36m<lambda>\u001b[1;34m(*args, **kwargs)\u001b[0m\n\u001b[0;32m    114\u001b[0m \u001b[1;33m\u001b[0m\u001b[0m\n\u001b[0;32m    115\u001b[0m         \u001b[1;31m# lambda, but not partial, allows help() to work with update_wrapper\u001b[0m\u001b[1;33m\u001b[0m\u001b[1;33m\u001b[0m\u001b[1;33m\u001b[0m\u001b[0m\n\u001b[1;32m--> 116\u001b[1;33m         \u001b[0mout\u001b[0m \u001b[1;33m=\u001b[0m \u001b[1;32mlambda\u001b[0m \u001b[1;33m*\u001b[0m\u001b[0margs\u001b[0m\u001b[1;33m,\u001b[0m \u001b[1;33m**\u001b[0m\u001b[0mkwargs\u001b[0m\u001b[1;33m:\u001b[0m \u001b[0mself\u001b[0m\u001b[1;33m.\u001b[0m\u001b[0mfn\u001b[0m\u001b[1;33m(\u001b[0m\u001b[0mobj\u001b[0m\u001b[1;33m,\u001b[0m \u001b[1;33m*\u001b[0m\u001b[0margs\u001b[0m\u001b[1;33m,\u001b[0m \u001b[1;33m**\u001b[0m\u001b[0mkwargs\u001b[0m\u001b[1;33m)\u001b[0m\u001b[1;33m\u001b[0m\u001b[1;33m\u001b[0m\u001b[0m\n\u001b[0m\u001b[0;32m    117\u001b[0m         \u001b[1;31m# update the docstring of the returned function\u001b[0m\u001b[1;33m\u001b[0m\u001b[1;33m\u001b[0m\u001b[1;33m\u001b[0m\u001b[0m\n\u001b[0;32m    118\u001b[0m         \u001b[0mupdate_wrapper\u001b[0m\u001b[1;33m(\u001b[0m\u001b[0mout\u001b[0m\u001b[1;33m,\u001b[0m \u001b[0mself\u001b[0m\u001b[1;33m.\u001b[0m\u001b[0mfn\u001b[0m\u001b[1;33m)\u001b[0m\u001b[1;33m\u001b[0m\u001b[1;33m\u001b[0m\u001b[0m\n",
      "\u001b[1;32mG:\\Logiciels\\Anaconda\\lib\\site-packages\\sklearn\\multiclass.py\u001b[0m in \u001b[0;36mpredict_proba\u001b[1;34m(self, X)\u001b[0m\n\u001b[0;32m    365\u001b[0m         \u001b[1;31m# Y[i, j] gives the probability that sample i has the label j.\u001b[0m\u001b[1;33m\u001b[0m\u001b[1;33m\u001b[0m\u001b[1;33m\u001b[0m\u001b[0m\n\u001b[0;32m    366\u001b[0m         \u001b[1;31m# In the multi-label case, these are not disjoint.\u001b[0m\u001b[1;33m\u001b[0m\u001b[1;33m\u001b[0m\u001b[1;33m\u001b[0m\u001b[0m\n\u001b[1;32m--> 367\u001b[1;33m         \u001b[0mY\u001b[0m \u001b[1;33m=\u001b[0m \u001b[0mnp\u001b[0m\u001b[1;33m.\u001b[0m\u001b[0marray\u001b[0m\u001b[1;33m(\u001b[0m\u001b[1;33m[\u001b[0m\u001b[0me\u001b[0m\u001b[1;33m.\u001b[0m\u001b[0mpredict_proba\u001b[0m\u001b[1;33m(\u001b[0m\u001b[0mX\u001b[0m\u001b[1;33m)\u001b[0m\u001b[1;33m[\u001b[0m\u001b[1;33m:\u001b[0m\u001b[1;33m,\u001b[0m \u001b[1;36m1\u001b[0m\u001b[1;33m]\u001b[0m \u001b[1;32mfor\u001b[0m \u001b[0me\u001b[0m \u001b[1;32min\u001b[0m \u001b[0mself\u001b[0m\u001b[1;33m.\u001b[0m\u001b[0mestimators_\u001b[0m\u001b[1;33m]\u001b[0m\u001b[1;33m)\u001b[0m\u001b[1;33m.\u001b[0m\u001b[0mT\u001b[0m\u001b[1;33m\u001b[0m\u001b[1;33m\u001b[0m\u001b[0m\n\u001b[0m\u001b[0;32m    368\u001b[0m \u001b[1;33m\u001b[0m\u001b[0m\n\u001b[0;32m    369\u001b[0m         \u001b[1;32mif\u001b[0m \u001b[0mlen\u001b[0m\u001b[1;33m(\u001b[0m\u001b[0mself\u001b[0m\u001b[1;33m.\u001b[0m\u001b[0mestimators_\u001b[0m\u001b[1;33m)\u001b[0m \u001b[1;33m==\u001b[0m \u001b[1;36m1\u001b[0m\u001b[1;33m:\u001b[0m\u001b[1;33m\u001b[0m\u001b[1;33m\u001b[0m\u001b[0m\n",
      "\u001b[1;31mKeyboardInterrupt\u001b[0m: "
     ]
    }
   ],
   "source": [
    "num_w = [1,\n",
    "         2,\n",
    "         3,\n",
    "         4,\n",
    "         5]\n",
    "temp=[]\n",
    "for num in num_w:\n",
    "    tagz_v2 = [taggingv2(x, y, num) for x, y in zip(X_test, X_test_l)]\n",
    "    print(num,jaccard_score(mlb.transform(tagz_v2),\n",
    "                            y_test,\n",
    "                            average='micro'))\n",
    "    temp.append(jaccard_score(mlb.transform(tagz_v2),\n",
    "                              y_test,\n",
    "                              average='micro'))"
   ]
  },
  {
   "cell_type": "code",
   "execution_count": 81,
   "metadata": {},
   "outputs": [],
   "source": [
    "# Using fine-tuned threshold run on the Test set + second fine-tuned threshold for the unpredicted cases\n",
    "# Adding all the recommended tags from the three methods while keeping as first recommendations the tags from supervised\n",
    "# Tags from LDA & Blunt are used if the required number of tags is not achieved\n",
    "def tagging(text, text_lem, number_of_tags):\n",
    "    #count_vect\n",
    "    text_cv = tf_vectorizer.transform([text])\n",
    "    #tfv\n",
    "    text_tfv = tfv.transform([text_lem])\n",
    "    #whitespace token\n",
    "    wtext = wstokenize(text)\n",
    "    \n",
    "    #tagz_from_model\n",
    "    threshold = 0.303\n",
    "    tagz_from_model = supervised.predict_proba(text_tfv)\n",
    "    tagz_from_model = (tagz_from_model>threshold).astype('int')\n",
    "    if np.sum(tagz_from_model) < 1:\n",
    "        threshold = np.max(supervised.predict_proba(text_tfv))*.89\n",
    "        tagz_from_model = supervised.predict_proba(text_tfv)\n",
    "        tagz_from_model = (tagz_from_model>threshold).astype('int')\n",
    "    tagz_from_model = mlb.inverse_transform(sparse.csr_matrix(tagz_from_model))[0]\n",
    "    \n",
    "    #tagz_from_it\n",
    "    tagz_from_it = list([words for words in wtext if words in it_tags_dict])\n",
    "    if len(tagz_from_it) > 0:\n",
    "        tagz_from_it = list(pd.Series(tagz_from_it).value_counts()[:number_of_tags].index)\n",
    "    \n",
    "    #tagz_from_topics\n",
    "    tagz_from_topics = df_topic_keywords.iloc[np.argmax(lda_sk.transform(text_cv))].values\n",
    "    temp = []\n",
    "    for w in it_tags_dict:\n",
    "        if (len(temp)<number_of_tags) & (w in tagz_from_topics):\n",
    "            temp.append(w)\n",
    "    tagz_from_topics = temp\n",
    "\n",
    "    rez_tagz = tagz_from_model\n",
    "    tagz_from_others=[]\n",
    "    if len(tagz_from_it) > 0:\n",
    "        for w in tagz_from_it:\n",
    "            tagz_from_others.append(w)\n",
    "\n",
    "    if len(tagz_from_topics) > 0:\n",
    "        for w in tagz_from_topics:\n",
    "            tagz_from_others.append(w)\n",
    "            \n",
    "    rez_tagz = list(rez_tagz)\n",
    "    if len(tagz_from_others) > 0:\n",
    "        tagz_from_others = list(pd.Series(tagz_from_others).value_counts().index)\n",
    "        for w in tagz_from_others:\n",
    "            if (w not in rez_tagz) & (len(rez_tagz)<number_of_tags):\n",
    "                rez_tagz.append(w)\n",
    "\n",
    "    return(rez_tagz)"
   ]
  },
  {
   "cell_type": "code",
   "execution_count": 73,
   "metadata": {},
   "outputs": [],
   "source": [
    "xtext = df[\"Text\"]\n",
    "X_train, X_test, y_train, y_test = train_test_split(xtext,\n",
    "                                                    ytags,\n",
    "                                                    test_size=0.2,\n",
    "                                                    random_state=42)\n",
    "xtext = df[\"Text_lemmatized\"]\n",
    "X_train_l, X_test_l, y_train_l, y_test_l = train_test_split(xtext,\n",
    "                                                            ytags,\n",
    "                                                            test_size=0.2,\n",
    "                                                            random_state=42)"
   ]
  },
  {
   "cell_type": "code",
   "execution_count": 89,
   "metadata": {},
   "outputs": [
    {
     "data": {
      "text/plain": [
       "0.40327765521588405"
      ]
     },
     "execution_count": 89,
     "metadata": {},
     "output_type": "execute_result"
    }
   ],
   "source": [
    "tagz_1 = [tagging(x,y,1) for x,y in zip(X_test,X_test_l)]\n",
    "jaccard_score(mlb.transform(tagz_1),y_test,average='micro')"
   ]
  },
  {
   "cell_type": "code",
   "execution_count": 91,
   "metadata": {},
   "outputs": [
    {
     "data": {
      "text/plain": [
       "0.38030002830455706"
      ]
     },
     "execution_count": 91,
     "metadata": {},
     "output_type": "execute_result"
    }
   ],
   "source": [
    "tagz_2 = [tagging(x,y,2) for x,y in zip(X_test,X_test_l)]\n",
    "jaccard_score(mlb.transform(tagz_2),y_test,average='micro')"
   ]
  },
  {
   "cell_type": "code",
   "execution_count": 92,
   "metadata": {},
   "outputs": [
    {
     "data": {
      "text/plain": [
       "0.33785479251000167"
      ]
     },
     "execution_count": 92,
     "metadata": {},
     "output_type": "execute_result"
    }
   ],
   "source": [
    "tagz_3 = [tagging(x,y,3) for x,y in zip(X_test,X_test_l)]\n",
    "jaccard_score(mlb.transform(tagz_3),y_test,average='micro')"
   ]
  },
  {
   "cell_type": "code",
   "execution_count": 93,
   "metadata": {},
   "outputs": [
    {
     "data": {
      "text/plain": [
       "0.28896446581447166"
      ]
     },
     "execution_count": 93,
     "metadata": {},
     "output_type": "execute_result"
    }
   ],
   "source": [
    "tagz_4 = [tagging(x,y,4) for x,y in zip(X_test,X_test_l)]\n",
    "jaccard_score(mlb.transform(tagz_4),y_test,average='micro')"
   ]
  },
  {
   "cell_type": "code",
   "execution_count": 94,
   "metadata": {},
   "outputs": [
    {
     "data": {
      "text/plain": [
       "0.25105655226850404"
      ]
     },
     "execution_count": 94,
     "metadata": {},
     "output_type": "execute_result"
    }
   ],
   "source": [
    "tagz_5 = [tagging(x,y,5) for x,y in zip(X_test,X_test_l)]\n",
    "jaccard_score(mlb.transform(tagz_5),y_test,average='micro')"
   ]
  },
  {
   "cell_type": "markdown",
   "metadata": {},
   "source": [
    "### W2V Cross referencing"
   ]
  },
  {
   "cell_type": "code",
   "execution_count": 168,
   "metadata": {},
   "outputs": [],
   "source": [
    "def tag_w2v(tagz, number_reco):\n",
    "    #word2vec\n",
    "    rez_w2v = pd.DataFrame()\n",
    "    for u, w in enumerate(tagz):\n",
    "        reco=[]\n",
    "        if w in model_w2v.wv.vocab:\n",
    "            for i, j in model_w2v.wv.most_similar(w,\n",
    "                                                  topn=len(it_tags_dict)):\n",
    "                if i in it_tags_dict:\n",
    "                    reco.append(i)\n",
    "            for l in range(len(reco[:number_reco])):\n",
    "                rez_w2v.at[w, str(\"Word_\"+str(l+1))]=reco[l]\n",
    "    rez=[]\n",
    "    for col in rez_w2v.columns:\n",
    "        rez.extend(list(rez_w2v[col].value_counts().index))\n",
    "    return(list(pd.Series(rez).value_counts().index))"
   ]
  },
  {
   "cell_type": "code",
   "execution_count": 104,
   "metadata": {},
   "outputs": [
    {
     "data": {
      "text/plain": [
       "['numpy',\n",
       " 'scipy',\n",
       " 'oracle',\n",
       " 'conda',\n",
       " 'jvm',\n",
       " 'anaconda',\n",
       " 'flask',\n",
       " 'eclipse',\n",
       " 'django',\n",
       " 'maven',\n",
       " 'kotlin',\n",
       " 'javafx',\n",
       " 'pip']"
      ]
     },
     "execution_count": 104,
     "metadata": {},
     "output_type": "execute_result"
    }
   ],
   "source": [
    "tag_w2v([\"python\", \"java\"],7)"
   ]
  },
  {
   "cell_type": "markdown",
   "metadata": {},
   "source": [
    "## Outputs for API"
   ]
  },
  {
   "cell_type": "code",
   "execution_count": 105,
   "metadata": {},
   "outputs": [],
   "source": [
    "xtext = df[\"Text\"]"
   ]
  },
  {
   "cell_type": "code",
   "execution_count": 106,
   "metadata": {},
   "outputs": [],
   "source": [
    "xtext_l = df[\"Text_lemmatized\"]"
   ]
  },
  {
   "cell_type": "code",
   "execution_count": 107,
   "metadata": {},
   "outputs": [],
   "source": [
    "ytarget = mlb.transform(df[\"Tags_in_IT_dict\"])"
   ]
  },
  {
   "cell_type": "code",
   "execution_count": 108,
   "metadata": {},
   "outputs": [
    {
     "data": {
      "text/plain": [
       "CountVectorizer(analyzer='word', binary=False, decode_error='strict',\n",
       "                dtype=<class 'numpy.int64'>, encoding='utf-8', input='content',\n",
       "                lowercase=True, max_df=0.95, max_features=None, min_df=2,\n",
       "                ngram_range=(1, 1), preprocessor=None, stop_words=None,\n",
       "                strip_accents=None, token_pattern='(?u)\\\\b\\\\w\\\\w+\\\\b',\n",
       "                tokenizer=None, vocabulary=None)"
      ]
     },
     "execution_count": 108,
     "metadata": {},
     "output_type": "execute_result"
    }
   ],
   "source": [
    "tf_vectorizer = CountVectorizer(max_df=0.95, min_df=2)\n",
    "tf_vectorizer.fit(xtext)"
   ]
  },
  {
   "cell_type": "code",
   "execution_count": 112,
   "metadata": {},
   "outputs": [],
   "source": [
    "xtarget = tf_vectorizer.transform(xtext)"
   ]
  },
  {
   "cell_type": "code",
   "execution_count": 113,
   "metadata": {},
   "outputs": [],
   "source": [
    "tfv = TfidfVectorizer(min_df=1,\n",
    "                      max_features=tfidf_max_feat,\n",
    "                      ngram_range=(1, 1))\n",
    "tfv.fit(xtext_l)\n",
    "xtarget_l = tfv.transform(xtext_l) "
   ]
  },
  {
   "cell_type": "code",
   "execution_count": 114,
   "metadata": {},
   "outputs": [
    {
     "data": {
      "text/plain": [
       "OneVsRestClassifier(estimator=LogisticRegression(C=10, class_weight=None,\n",
       "                                                 dual=False, fit_intercept=True,\n",
       "                                                 intercept_scaling=1,\n",
       "                                                 l1_ratio=1, max_iter=100,\n",
       "                                                 multi_class='auto',\n",
       "                                                 n_jobs=None,\n",
       "                                                 penalty='elasticnet',\n",
       "                                                 random_state=42, solver='saga',\n",
       "                                                 tol=0.0001, verbose=0,\n",
       "                                                 warm_start=False),\n",
       "                    n_jobs=6)"
      ]
     },
     "execution_count": 114,
     "metadata": {},
     "output_type": "execute_result"
    }
   ],
   "source": [
    "final_supervised = clf_lr\n",
    "final_supervised.fit(xtarget_l,ytarget)"
   ]
  },
  {
   "cell_type": "code",
   "execution_count": 115,
   "metadata": {},
   "outputs": [],
   "source": [
    "final_unsupervised = lda_sk\n",
    "final_unsupervised = lda_sk.fit(xtarget)"
   ]
  },
  {
   "cell_type": "code",
   "execution_count": 116,
   "metadata": {},
   "outputs": [],
   "source": [
    "xtarget_tokenized = xtext_l.apply(wstokenize)\n",
    "final_w2v = gensim.models.Word2Vec(sentences=X_train_tokenized,\n",
    "                                   workers=6,\n",
    "                                   seed=42)"
   ]
  },
  {
   "cell_type": "code",
   "execution_count": 117,
   "metadata": {},
   "outputs": [],
   "source": [
    "import pickle"
   ]
  },
  {
   "cell_type": "code",
   "execution_count": 120,
   "metadata": {},
   "outputs": [],
   "source": [
    "filename = \"final_mlb.pkl\"\n",
    "pickle.dump(mlb, open(filename, \"wb\"))"
   ]
  },
  {
   "cell_type": "code",
   "execution_count": 121,
   "metadata": {},
   "outputs": [],
   "source": [
    "filename = \"final_tfvect.pkl\"\n",
    "pickle.dump(tf_vectorizer, open(filename,  \"wb\"))"
   ]
  },
  {
   "cell_type": "code",
   "execution_count": 122,
   "metadata": {},
   "outputs": [],
   "source": [
    "filename = \"final_tfidf.pkl\"\n",
    "pickle.dump(tfv, open(filename,  \"wb\"))"
   ]
  },
  {
   "cell_type": "code",
   "execution_count": 123,
   "metadata": {},
   "outputs": [],
   "source": [
    "filename = \"final_supervised.pkl\"\n",
    "pickle.dump(final_supervised, open(filename,  \"wb\"))"
   ]
  },
  {
   "cell_type": "code",
   "execution_count": 124,
   "metadata": {},
   "outputs": [],
   "source": [
    "filename = \"final_unsupervised.pkl\"\n",
    "pickle.dump(final_unsupervised, open(filename,  \"wb\"))"
   ]
  },
  {
   "cell_type": "code",
   "execution_count": 125,
   "metadata": {},
   "outputs": [],
   "source": [
    "filename = \"final_w2v.pkl\"\n",
    "pickle.dump(final_w2v, open(filename,  \"wb\"))"
   ]
  },
  {
   "cell_type": "code",
   "execution_count": null,
   "metadata": {},
   "outputs": [],
   "source": []
  }
 ],
 "metadata": {
  "kernelspec": {
   "display_name": "Python 3",
   "language": "python",
   "name": "python3"
  },
  "language_info": {
   "codemirror_mode": {
    "name": "ipython",
    "version": 3
   },
   "file_extension": ".py",
   "mimetype": "text/x-python",
   "name": "python",
   "nbconvert_exporter": "python",
   "pygments_lexer": "ipython3",
   "version": "3.7.7"
  }
 },
 "nbformat": 4,
 "nbformat_minor": 4
}
