{
 "cells": [
  {
   "cell_type": "code",
   "execution_count": 2,
   "metadata": {
    "colab": {
     "base_uri": "https://localhost:8080/",
     "height": 54
    },
    "colab_type": "code",
    "executionInfo": {
     "elapsed": 1884,
     "status": "ok",
     "timestamp": 1591201050146,
     "user": {
      "displayName": "Mathieu Jossent",
      "photoUrl": "",
      "userId": "04033255544342171114"
     },
     "user_tz": -120
    },
    "id": "mDZ7RrAMuljf",
    "outputId": "4169f3c4-4c2d-4788-80cd-03628e1910c9"
   },
   "outputs": [
    {
     "name": "stderr",
     "output_type": "stream",
     "text": [
      "G:\\Logiciels\\Anaconda\\lib\\site-packages\\sklearn\\externals\\joblib\\__init__.py:15: FutureWarning: sklearn.externals.joblib is deprecated in 0.21 and will be removed in 0.23. Please import this functionality directly from joblib, which can be installed with: pip install joblib. If this warning is raised when loading pickled models, you may need to re-serialize those models with scikit-learn 0.21+.\n",
      "  warnings.warn(msg, category=FutureWarning)\n"
     ]
    }
   ],
   "source": [
    "#%%flake8  # checking PEP8 compliance\n",
    "# Importation des diverses libraires\n",
    "import re\n",
    "import statsmodels.api as sm\n",
    "import statsmodels.formula.api as smf\n",
    "from scipy import stats\n",
    "import warnings\n",
    "import pandas as pd\n",
    "import numpy as np\n",
    "import matplotlib.pyplot as plt\n",
    "import researchpy as rp\n",
    "from datetime import datetime, timedelta\n",
    "\n",
    "from bs4 import BeautifulSoup\n",
    "from sklearn.feature_extraction.text import CountVectorizer, TfidfVectorizer\n",
    "import word2vec as w2v\n",
    "import nltk\n",
    "from nltk.corpus import stopwords\n",
    "import string\n",
    "from nltk.stem import WordNetLemmatizer, PorterStemmer, LancasterStemmer\n",
    "\n",
    "import seaborn as sns\n",
    "sns.set(style='white', context='notebook', palette='deep')\n",
    "\n",
    "\n",
    "warnings.filterwarnings(\"ignore\", category=DeprecationWarning)\n",
    "warnings.simplefilter(\"ignore\")\n",
    "\n",
    "pd.set_option('display.max_columns', 100)\n",
    "\n",
    "\n",
    "%config InlineBackend.figure_format = 'png'\n",
    "%matplotlib inline"
   ]
  },
  {
   "cell_type": "markdown",
   "metadata": {
    "colab_type": "text",
    "id": "HY9LNpZjvVaR"
   },
   "source": [
    "# Loading"
   ]
  },
  {
   "cell_type": "code",
   "execution_count": 3,
   "metadata": {
    "colab": {},
    "colab_type": "code",
    "id": "3Zd_4rhjuljp"
   },
   "outputs": [],
   "source": [
    "df_2018 = pd.read_csv('StackExchange_2018_FavCount.csv')\n",
    "df_2019 = pd.read_csv('StackExchange_2019_FavCount.csv')\n",
    "df_2020 = pd.read_csv('StackExchange_2020_FavCount.csv')"
   ]
  },
  {
   "cell_type": "code",
   "execution_count": 4,
   "metadata": {
    "colab": {},
    "colab_type": "code",
    "id": "EFM6L9B0uljw"
   },
   "outputs": [],
   "source": [
    "df_full = df_2018.append(df_2019.append(df_2020,\n",
    "                                        ignore_index=True),\n",
    "                         ignore_index=True)"
   ]
  },
  {
   "cell_type": "code",
   "execution_count": 5,
   "metadata": {},
   "outputs": [
    {
     "data": {
      "text/html": [
       "<div>\n",
       "<style scoped>\n",
       "    .dataframe tbody tr th:only-of-type {\n",
       "        vertical-align: middle;\n",
       "    }\n",
       "\n",
       "    .dataframe tbody tr th {\n",
       "        vertical-align: top;\n",
       "    }\n",
       "\n",
       "    .dataframe thead th {\n",
       "        text-align: right;\n",
       "    }\n",
       "</style>\n",
       "<table border=\"1\" class=\"dataframe\">\n",
       "  <thead>\n",
       "    <tr style=\"text-align: right;\">\n",
       "      <th></th>\n",
       "      <th>Id</th>\n",
       "      <th>CreationDate</th>\n",
       "      <th>AcceptedAnswerId</th>\n",
       "      <th>Body</th>\n",
       "      <th>Title</th>\n",
       "      <th>Tags</th>\n",
       "    </tr>\n",
       "  </thead>\n",
       "  <tbody>\n",
       "    <tr>\n",
       "      <th>0</th>\n",
       "      <td>50649795</td>\n",
       "      <td>2018-06-01 19:15:52</td>\n",
       "      <td>51955400</td>\n",
       "      <td>&lt;p&gt;I’m using Roslyn CSharpCompilation to gener...</td>\n",
       "      <td>How to debug dll generated from Roslyn compila...</td>\n",
       "      <td>&lt;c#&gt;&lt;debugging&gt;&lt;visual-studio-2017&gt;&lt;roslyn&gt;</td>\n",
       "    </tr>\n",
       "    <tr>\n",
       "      <th>1</th>\n",
       "      <td>50649831</td>\n",
       "      <td>2018-06-01 19:18:45</td>\n",
       "      <td>50650072</td>\n",
       "      <td>&lt;p&gt;I am trying to understand why regularizatio...</td>\n",
       "      <td>Understanding Regularization in Keras</td>\n",
       "      <td>&lt;python&gt;&lt;keras&gt;</td>\n",
       "    </tr>\n",
       "  </tbody>\n",
       "</table>\n",
       "</div>"
      ],
      "text/plain": [
       "         Id         CreationDate  AcceptedAnswerId  \\\n",
       "0  50649795  2018-06-01 19:15:52          51955400   \n",
       "1  50649831  2018-06-01 19:18:45          50650072   \n",
       "\n",
       "                                                Body  \\\n",
       "0  <p>I’m using Roslyn CSharpCompilation to gener...   \n",
       "1  <p>I am trying to understand why regularizatio...   \n",
       "\n",
       "                                               Title  \\\n",
       "0  How to debug dll generated from Roslyn compila...   \n",
       "1              Understanding Regularization in Keras   \n",
       "\n",
       "                                          Tags  \n",
       "0  <c#><debugging><visual-studio-2017><roslyn>  \n",
       "1                              <python><keras>  "
      ]
     },
     "execution_count": 5,
     "metadata": {},
     "output_type": "execute_result"
    }
   ],
   "source": [
    "df_full.head(2)"
   ]
  },
  {
   "cell_type": "code",
   "execution_count": 6,
   "metadata": {},
   "outputs": [
    {
     "name": "stdout",
     "output_type": "stream",
     "text": [
      "<class 'pandas.core.frame.DataFrame'>\n",
      "RangeIndex: 55000 entries, 0 to 54999\n",
      "Data columns (total 6 columns):\n",
      " #   Column            Non-Null Count  Dtype \n",
      "---  ------            --------------  ----- \n",
      " 0   Id                55000 non-null  int64 \n",
      " 1   CreationDate      55000 non-null  object\n",
      " 2   AcceptedAnswerId  55000 non-null  int64 \n",
      " 3   Body              55000 non-null  object\n",
      " 4   Title             55000 non-null  object\n",
      " 5   Tags              55000 non-null  object\n",
      "dtypes: int64(2), object(4)\n",
      "memory usage: 2.5+ MB\n"
     ]
    }
   ],
   "source": [
    "df_full.info()"
   ]
  },
  {
   "cell_type": "markdown",
   "metadata": {},
   "source": [
    "# Text preparation"
   ]
  },
  {
   "cell_type": "markdown",
   "metadata": {},
   "source": [
    "### Tags"
   ]
  },
  {
   "cell_type": "code",
   "execution_count": 7,
   "metadata": {
    "colab": {},
    "colab_type": "code",
    "id": "Nc6IooU0ulj2"
   },
   "outputs": [],
   "source": [
    "# Splitting tags and removing some of the special characters <, >, .x, etc...\n",
    "df_full[\"Tags_stripped\"] = [re.sub('-',\n",
    "                                   ' ',\n",
    "                                   text) for text in df_full[\"Tags\"]]\n",
    "df_full[\"Tags_stripped\"] = [re.sub(r'' '\\d+',\n",
    "                                   \"\",\n",
    "                                   text) for text in df_full[\"Tags_stripped\"]]\n",
    "df_full[\"Tags_stripped\"] = [re.sub(r'' '\\.x',\n",
    "                                   \"\",\n",
    "                                   text) for text in df_full[\"Tags_stripped\"]]\n",
    "df_full[\"Tags_stripped\"] = [re.sub(r's\\.',\n",
    "                                   \"\",\n",
    "                                   text) for text in df_full[\"Tags_stripped\"]]\n",
    "df_full[\"Tags_stripped\"] = [re.sub(r'' '\\d+',\n",
    "                                   \"\",\n",
    "                                   text) for text in df_full[\"Tags_stripped\"]]\n",
    "df_full[\"Tags_stripped\"] = [re.sub(r'\\d+$',\n",
    "                                   \"\",\n",
    "                                   text) for text in df_full[\"Tags_stripped\"]]\n",
    "df_full[\"Tags_stripped\"] = [re.sub(r'\\.$',\n",
    "                                   \"\",\n",
    "                                   text) for text in df_full[\"Tags_stripped\"]]\n",
    "df_full[\"Tags_stripped\"] = [re.sub(r'\\d+',\n",
    "                                   \"\",\n",
    "                                   text) for text in df_full[\"Tags_stripped\"]]\n",
    "df_full[\"Tags_stripped\"] = [re.sub(r'' '$',\n",
    "                                   \"\",\n",
    "                                   text) for text in df_full[\"Tags_stripped\"]]\n",
    "df_full[\"Tags_stripped\"] = [re.sub(r'\\.x$',\n",
    "                                   \"\",\n",
    "                                   text) for text in df_full[\"Tags_stripped\"]]\n",
    "df_full[\"Tags_stripped\"] = [re.sub(r'' '$',\n",
    "                                   \"\",\n",
    "                                   text) for text in df_full[\"Tags_stripped\"]]\n",
    "df_full[\"Tags_stripped\"] = [re.sub(\" >\",\n",
    "                                   \">\",\n",
    "                                   text) for text in df_full[\"Tags_stripped\"]]\n",
    "df_full[\"Tags_stripped\"] = [re.sub(\"><\",\n",
    "                                   \", \",\n",
    "                                   text) for text in df_full[\"Tags_stripped\"]]\n",
    "df_full[\"Tags_stripped\"] = [re.sub(\"<\",\n",
    "                                   \"\",\n",
    "                                   text) for text in df_full[\"Tags_stripped\"]]\n",
    "df_full[\"Tags_stripped\"] = [re.sub(\">\",\n",
    "                                   \"\",\n",
    "                                   text) for text in df_full[\"Tags_stripped\"]]\n",
    "df_full[\"Tags_stripped\"] = [re.sub(\" \\. \",\n",
    "                                   \"\",\n",
    "                                   text) for text in df_full[\"Tags_stripped\"]]\n",
    "df_full[\"Tags_stripped\"] = df_full[\"Tags_stripped\"].str.split(\", \")\n",
    "df_full[\"Tags_stripped\"] = [list(set(words)) \n",
    "                            for words in df_full[\"Tags_stripped\"]]"
   ]
  },
  {
   "cell_type": "code",
   "execution_count": 8,
   "metadata": {},
   "outputs": [
    {
     "data": {
      "text/html": [
       "<div>\n",
       "<style scoped>\n",
       "    .dataframe tbody tr th:only-of-type {\n",
       "        vertical-align: middle;\n",
       "    }\n",
       "\n",
       "    .dataframe tbody tr th {\n",
       "        vertical-align: top;\n",
       "    }\n",
       "\n",
       "    .dataframe thead th {\n",
       "        text-align: right;\n",
       "    }\n",
       "</style>\n",
       "<table border=\"1\" class=\"dataframe\">\n",
       "  <thead>\n",
       "    <tr style=\"text-align: right;\">\n",
       "      <th></th>\n",
       "      <th>Id</th>\n",
       "      <th>CreationDate</th>\n",
       "      <th>AcceptedAnswerId</th>\n",
       "      <th>Body</th>\n",
       "      <th>Title</th>\n",
       "      <th>Tags</th>\n",
       "      <th>Tags_stripped</th>\n",
       "    </tr>\n",
       "  </thead>\n",
       "  <tbody>\n",
       "    <tr>\n",
       "      <th>0</th>\n",
       "      <td>50649795</td>\n",
       "      <td>2018-06-01 19:15:52</td>\n",
       "      <td>51955400</td>\n",
       "      <td>&lt;p&gt;I’m using Roslyn CSharpCompilation to gener...</td>\n",
       "      <td>How to debug dll generated from Roslyn compila...</td>\n",
       "      <td>&lt;c#&gt;&lt;debugging&gt;&lt;visual-studio-2017&gt;&lt;roslyn&gt;</td>\n",
       "      <td>[roslyn, debugging, c#, visual studio]</td>\n",
       "    </tr>\n",
       "    <tr>\n",
       "      <th>1</th>\n",
       "      <td>50649831</td>\n",
       "      <td>2018-06-01 19:18:45</td>\n",
       "      <td>50650072</td>\n",
       "      <td>&lt;p&gt;I am trying to understand why regularizatio...</td>\n",
       "      <td>Understanding Regularization in Keras</td>\n",
       "      <td>&lt;python&gt;&lt;keras&gt;</td>\n",
       "      <td>[python, keras]</td>\n",
       "    </tr>\n",
       "  </tbody>\n",
       "</table>\n",
       "</div>"
      ],
      "text/plain": [
       "         Id         CreationDate  AcceptedAnswerId  \\\n",
       "0  50649795  2018-06-01 19:15:52          51955400   \n",
       "1  50649831  2018-06-01 19:18:45          50650072   \n",
       "\n",
       "                                                Body  \\\n",
       "0  <p>I’m using Roslyn CSharpCompilation to gener...   \n",
       "1  <p>I am trying to understand why regularizatio...   \n",
       "\n",
       "                                               Title  \\\n",
       "0  How to debug dll generated from Roslyn compila...   \n",
       "1              Understanding Regularization in Keras   \n",
       "\n",
       "                                          Tags  \\\n",
       "0  <c#><debugging><visual-studio-2017><roslyn>   \n",
       "1                              <python><keras>   \n",
       "\n",
       "                            Tags_stripped  \n",
       "0  [roslyn, debugging, c#, visual studio]  \n",
       "1                         [python, keras]  "
      ]
     },
     "execution_count": 8,
     "metadata": {},
     "output_type": "execute_result"
    }
   ],
   "source": [
    "df_full.head(2)"
   ]
  },
  {
   "cell_type": "code",
   "execution_count": 9,
   "metadata": {},
   "outputs": [],
   "source": [
    "tags_synonyms = pd.read_csv(\"StackExchange_Synonyms.csv\")"
   ]
  },
  {
   "cell_type": "code",
   "execution_count": 10,
   "metadata": {},
   "outputs": [
    {
     "data": {
      "text/html": [
       "<div>\n",
       "<style scoped>\n",
       "    .dataframe tbody tr th:only-of-type {\n",
       "        vertical-align: middle;\n",
       "    }\n",
       "\n",
       "    .dataframe tbody tr th {\n",
       "        vertical-align: top;\n",
       "    }\n",
       "\n",
       "    .dataframe thead th {\n",
       "        text-align: right;\n",
       "    }\n",
       "</style>\n",
       "<table border=\"1\" class=\"dataframe\">\n",
       "  <thead>\n",
       "    <tr style=\"text-align: right;\">\n",
       "      <th></th>\n",
       "      <th>Id</th>\n",
       "      <th>SourceTagName</th>\n",
       "      <th>TargetTagName</th>\n",
       "    </tr>\n",
       "  </thead>\n",
       "  <tbody>\n",
       "    <tr>\n",
       "      <th>0</th>\n",
       "      <td>3</td>\n",
       "      <td>windows-forms</td>\n",
       "      <td>winforms</td>\n",
       "    </tr>\n",
       "    <tr>\n",
       "      <th>1</th>\n",
       "      <td>5</td>\n",
       "      <td>c-sharp</td>\n",
       "      <td>c#</td>\n",
       "    </tr>\n",
       "    <tr>\n",
       "      <th>2</th>\n",
       "      <td>7</td>\n",
       "      <td>hg</td>\n",
       "      <td>mercurial</td>\n",
       "    </tr>\n",
       "    <tr>\n",
       "      <th>3</th>\n",
       "      <td>9</td>\n",
       "      <td>dotnet</td>\n",
       "      <td>.net</td>\n",
       "    </tr>\n",
       "  </tbody>\n",
       "</table>\n",
       "</div>"
      ],
      "text/plain": [
       "   Id  SourceTagName TargetTagName\n",
       "0   3  windows-forms      winforms\n",
       "1   5        c-sharp            c#\n",
       "2   7             hg     mercurial\n",
       "3   9         dotnet          .net"
      ]
     },
     "execution_count": 10,
     "metadata": {},
     "output_type": "execute_result"
    }
   ],
   "source": [
    "tags_synonyms.head(4)"
   ]
  },
  {
   "cell_type": "code",
   "execution_count": 11,
   "metadata": {},
   "outputs": [
    {
     "data": {
      "text/plain": [
       "(4856, 3)"
      ]
     },
     "execution_count": 11,
     "metadata": {},
     "output_type": "execute_result"
    }
   ],
   "source": [
    "tags_synonyms.shape"
   ]
  },
  {
   "cell_type": "code",
   "execution_count": 12,
   "metadata": {},
   "outputs": [],
   "source": [
    "#Replacing Synonyms\n",
    "for ind, tags in enumerate(df_full[\"Tags_stripped\"]):\n",
    "    for num, tag in enumerate(tags):\n",
    "        if tag in list(tags_synonyms[\"SourceTagName\"]):\n",
    "            df_full[\"Tags_stripped\"].loc[ind][num] = \\\n",
    "                tags_synonyms[\"TargetTagName\"][np.where(\n",
    "                    tags_synonyms[\"SourceTagName\"] == tag)[0][0]]"
   ]
  },
  {
   "cell_type": "code",
   "execution_count": 13,
   "metadata": {},
   "outputs": [],
   "source": [
    "toptags = pd.Series(np.concatenate(\n",
    "    [tag for tag in df_full[\"Tags_stripped\"]])).value_counts()"
   ]
  },
  {
   "cell_type": "code",
   "execution_count": 14,
   "metadata": {},
   "outputs": [
    {
     "data": {
      "text/plain": [
       "python                8182\n",
       "javascript            5230\n",
       "java                  4654\n",
       "android               3373\n",
       "c#                    2817\n",
       "                      ... \n",
       "countries                1\n",
       "member pointers          1\n",
       "react native image       1\n",
       "sre                      1\n",
       "cascade classifier       1\n",
       "Length: 13144, dtype: int64"
      ]
     },
     "execution_count": 14,
     "metadata": {},
     "output_type": "execute_result"
    }
   ],
   "source": [
    "toptags"
   ]
  },
  {
   "cell_type": "code",
   "execution_count": 15,
   "metadata": {
    "colab": {
     "base_uri": "https://localhost:8080/",
     "height": 286
    },
    "colab_type": "code",
    "executionInfo": {
     "elapsed": 7528,
     "status": "ok",
     "timestamp": 1591201055872,
     "user": {
      "displayName": "Mathieu Jossent",
      "photoUrl": "",
      "userId": "04033255544342171114"
     },
     "user_tz": -120
    },
    "id": "n2OFzB-Dulka",
    "outputId": "f6c362d3-71ad-4949-f2fc-02060a35fac5"
   },
   "outputs": [
    {
     "data": {
      "text/plain": [
       "(0, 100)"
      ]
     },
     "execution_count": 15,
     "metadata": {},
     "output_type": "execute_result"
    },
    {
     "data": {
      "image/png": "[encoded data removed]",
      "text/plain": [
       "<Figure size 432x288 with 1 Axes>"
      ]
     },
     "metadata": {
      "needs_background": "light"
     },
     "output_type": "display_data"
    }
   ],
   "source": [
    "plt.plot(range(len(toptags)),\n",
    "         toptags.values)\n",
    "plt.xlim(0, 100)"
   ]
  },
  {
   "cell_type": "code",
   "execution_count": 16,
   "metadata": {
    "colab": {
     "base_uri": "https://localhost:8080/",
     "height": 35
    },
    "colab_type": "code",
    "executionInfo": {
     "elapsed": 7516,
     "status": "ok",
     "timestamp": 1591201055872,
     "user": {
      "displayName": "Mathieu Jossent",
      "photoUrl": "",
      "userId": "04033255544342171114"
     },
     "user_tz": -120
    },
    "id": "6PvtZQIyulkf",
    "outputId": "99ec2590-504b-4a0e-8401-19a0d126703c"
   },
   "outputs": [
    {
     "data": {
      "text/plain": [
       "275"
      ]
     },
     "execution_count": 16,
     "metadata": {},
     "output_type": "execute_result"
    }
   ],
   "source": [
    "len(toptags[toptags >= toptags.max()/100])"
   ]
  },
  {
   "cell_type": "code",
   "execution_count": 17,
   "metadata": {
    "colab": {},
    "colab_type": "code",
    "id": "60SLsBlSulkm"
   },
   "outputs": [],
   "source": [
    "it_tags_dict = toptags[toptags >= toptags.max()/100].index"
   ]
  },
  {
   "cell_type": "markdown",
   "metadata": {},
   "source": [
    "### Conversion - Removing HTML tags"
   ]
  },
  {
   "cell_type": "code",
   "execution_count": 18,
   "metadata": {},
   "outputs": [],
   "source": [
    "df_full[\"Title_Body\"] = [re.sub(\"\\\\n\",\n",
    "                                \" \",\n",
    "                                title +\n",
    "                                \" \" +\n",
    "                                BeautifulSoup(\n",
    "                                    body,\n",
    "                                    \"html.parser\").get_text().lower())\n",
    "                         for title, body in zip(df_full[\"Title\"],\n",
    "                                                df_full[\"Body\"])]"
   ]
  },
  {
   "cell_type": "markdown",
   "metadata": {},
   "source": [
    "### Stop words"
   ]
  },
  {
   "cell_type": "code",
   "execution_count": 19,
   "metadata": {},
   "outputs": [],
   "source": [
    "words_to_remove = list(pd.Series(\n",
    "    pd.read_csv(\"my_stop_words.csv\",\n",
    "                header=None)[0]).values)"
   ]
  },
  {
   "cell_type": "code",
   "execution_count": 20,
   "metadata": {},
   "outputs": [],
   "source": [
    "sw = set()\n",
    "sw.update(words_to_remove)\n",
    "sw.update(tuple(stopwords.words('english')))"
   ]
  },
  {
   "cell_type": "code",
   "execution_count": 21,
   "metadata": {},
   "outputs": [],
   "source": [
    "to_space = re.compile('[/(){}\\[\\]\\|\\@,;:\\-_\\*]')\n",
    "to_keep_ = re.compile('[^a-z #+.]')\n",
    "to_remove = list(sw)"
   ]
  },
  {
   "cell_type": "code",
   "execution_count": 22,
   "metadata": {},
   "outputs": [],
   "source": [
    "class WordReplacer(object):\n",
    "    def __init__(self, word_map):\n",
    "        self.word_map = word_map\n",
    "\n",
    "    def replace(self, word):\n",
    "        return self.word_map.get(word, word)"
   ]
  },
  {
   "cell_type": "code",
   "execution_count": 23,
   "metadata": {},
   "outputs": [],
   "source": [
    "replacer = WordReplacer(\n",
    "    pd.DataFrame(tags_synonyms.drop(columns=[\"Id\"])\n",
    "                 .to_dict('split')[\"data\"])\n",
    "    .set_index(0).to_dict()[1])"
   ]
  },
  {
   "cell_type": "code",
   "execution_count": 24,
   "metadata": {},
   "outputs": [],
   "source": [
    "#Text processing, removing stopwords, numerics, some special characters, web links\n",
    "#Generic web link cannot be flake8\n",
    "for ind in df_full.index:\n",
    "    text = df_full[\"Title_Body\"].loc[ind]\n",
    "    text = text.lower()\n",
    "    text = re.sub(\"\\\\n\",\n",
    "                  \" \",\n",
    "                  text)\n",
    "    text = re.sub(r'https?:\\/\\/(www\\.)?[-a-zA-Z0-9@:%._\\+~#=]{1,256}\\.[a-zA-Z0-9()]{1,6}\\b([-a-zA-Z0-9()@:%_\\+.~#?&//=]*)',\n",
    "                  '',\n",
    "                  text,\n",
    "                  flags=re.MULTILINE)\n",
    "    text = re.sub(r'http?:\\/\\/(www\\.)?[-a-zA-Z0-9@:%._\\+~#=]{1,256}\\.[a-zA-Z0-9()]{1,6}\\b([-a-zA-Z0-9()@:%_\\+.~#?&//=]*)',\n",
    "                  '',\n",
    "                  text,\n",
    "                  flags=re.MULTILINE)\n",
    "    text = \" \".join([str(replacer.replace(words)) for words in text.split()])\n",
    "    text = re.sub(to_space,\n",
    "                  \" \",\n",
    "                  text)\n",
    "    text = re.sub(to_keep_,\n",
    "                  \" \",\n",
    "                  text)\n",
    "    text = re.sub(\"\\.\\n\",\n",
    "                  \" \",\n",
    "                  text)\n",
    "    text = re.sub(\"\\. \",\n",
    "                  \" \",\n",
    "                  text)\n",
    "    text = \" \".join([words for words in text.split()\n",
    "                     if (words not in to_remove)])\n",
    "    df_full.at[ind, \"Text\"] = text"
   ]
  },
  {
   "cell_type": "code",
   "execution_count": 25,
   "metadata": {},
   "outputs": [
    {
     "data": {
      "text/html": [
       "<div>\n",
       "<style scoped>\n",
       "    .dataframe tbody tr th:only-of-type {\n",
       "        vertical-align: middle;\n",
       "    }\n",
       "\n",
       "    .dataframe tbody tr th {\n",
       "        vertical-align: top;\n",
       "    }\n",
       "\n",
       "    .dataframe thead th {\n",
       "        text-align: right;\n",
       "    }\n",
       "</style>\n",
       "<table border=\"1\" class=\"dataframe\">\n",
       "  <thead>\n",
       "    <tr style=\"text-align: right;\">\n",
       "      <th></th>\n",
       "      <th>Id</th>\n",
       "      <th>CreationDate</th>\n",
       "      <th>AcceptedAnswerId</th>\n",
       "      <th>Body</th>\n",
       "      <th>Title</th>\n",
       "      <th>Tags</th>\n",
       "      <th>Tags_stripped</th>\n",
       "      <th>Title_Body</th>\n",
       "      <th>Text</th>\n",
       "    </tr>\n",
       "  </thead>\n",
       "  <tbody>\n",
       "    <tr>\n",
       "      <th>0</th>\n",
       "      <td>50649795</td>\n",
       "      <td>2018-06-01 19:15:52</td>\n",
       "      <td>51955400</td>\n",
       "      <td>&lt;p&gt;I’m using Roslyn CSharpCompilation to gener...</td>\n",
       "      <td>How to debug dll generated from Roslyn compila...</td>\n",
       "      <td>&lt;c#&gt;&lt;debugging&gt;&lt;visual-studio-2017&gt;&lt;roslyn&gt;</td>\n",
       "      <td>[roslyn, debugging, c#, visual studio]</td>\n",
       "      <td>How to debug dll generated from Roslyn compila...</td>\n",
       "      <td>debugging dll roslyn compilation roslyn csharp...</td>\n",
       "    </tr>\n",
       "    <tr>\n",
       "      <th>1</th>\n",
       "      <td>50649831</td>\n",
       "      <td>2018-06-01 19:18:45</td>\n",
       "      <td>50650072</td>\n",
       "      <td>&lt;p&gt;I am trying to understand why regularizatio...</td>\n",
       "      <td>Understanding Regularization in Keras</td>\n",
       "      <td>&lt;python&gt;&lt;keras&gt;</td>\n",
       "      <td>[python, keras]</td>\n",
       "      <td>Understanding Regularization in Keras i am try...</td>\n",
       "      <td>regularization keras regularization keras roug...</td>\n",
       "    </tr>\n",
       "  </tbody>\n",
       "</table>\n",
       "</div>"
      ],
      "text/plain": [
       "         Id         CreationDate  AcceptedAnswerId  \\\n",
       "0  50649795  2018-06-01 19:15:52          51955400   \n",
       "1  50649831  2018-06-01 19:18:45          50650072   \n",
       "\n",
       "                                                Body  \\\n",
       "0  <p>I’m using Roslyn CSharpCompilation to gener...   \n",
       "1  <p>I am trying to understand why regularizatio...   \n",
       "\n",
       "                                               Title  \\\n",
       "0  How to debug dll generated from Roslyn compila...   \n",
       "1              Understanding Regularization in Keras   \n",
       "\n",
       "                                          Tags  \\\n",
       "0  <c#><debugging><visual-studio-2017><roslyn>   \n",
       "1                              <python><keras>   \n",
       "\n",
       "                            Tags_stripped  \\\n",
       "0  [roslyn, debugging, c#, visual studio]   \n",
       "1                         [python, keras]   \n",
       "\n",
       "                                          Title_Body  \\\n",
       "0  How to debug dll generated from Roslyn compila...   \n",
       "1  Understanding Regularization in Keras i am try...   \n",
       "\n",
       "                                                Text  \n",
       "0  debugging dll roslyn compilation roslyn csharp...  \n",
       "1  regularization keras regularization keras roug...  "
      ]
     },
     "execution_count": 25,
     "metadata": {},
     "output_type": "execute_result"
    }
   ],
   "source": [
    "df_full.head(2)"
   ]
  },
  {
   "cell_type": "code",
   "execution_count": 26,
   "metadata": {},
   "outputs": [],
   "source": [
    "df_full[\"Tags_in_IT_dict\"] = \" \"\n",
    "for ind in df_full.index:\n",
    "    tags_in_dict = []\n",
    "    for tags in df_full[\"Tags_stripped\"].loc[ind]:\n",
    "        if tags in it_tags_dict.values:\n",
    "            tags_in_dict.append(tags)\n",
    "    df_full.at[ind, \"Tags_in_IT_dict\"] = tags_in_dict"
   ]
  },
  {
   "cell_type": "code",
   "execution_count": 27,
   "metadata": {},
   "outputs": [],
   "source": [
    "df_full.drop(columns=[\"Id\",\n",
    "                      \"CreationDate\",\n",
    "                      \"AcceptedAnswerId\",\n",
    "                      \"Body\",\n",
    "                      \"Title\",\n",
    "                      \"Tags\"],\n",
    "             inplace=True)"
   ]
  },
  {
   "cell_type": "code",
   "execution_count": 32,
   "metadata": {},
   "outputs": [],
   "source": [
    "for ind in df_full.index:\n",
    "    for tagz in pd.Series(df_full[\"Tags_stripped\"].loc[ind]).str.split():\n",
    "        if len(tagz) > 1:\n",
    "            for tag in tagz:\n",
    "                if ((tag not in df_full[\"Tags_in_IT_dict\"].loc[ind])\n",
    "                    & (tag in it_tags_dict)):\n",
    "                    df_full[\"Tags_in_IT_dict\"].loc[ind].append(tag)"
   ]
  },
  {
   "cell_type": "code",
   "execution_count": null,
   "metadata": {},
   "outputs": [],
   "source": [
    "pd.Series(it_tags_dict).to_hdf('it_dict_syno.h5',\n",
    "                               key='df',\n",
    "                               mode=\"w\")"
   ]
  },
  {
   "cell_type": "code",
   "execution_count": null,
   "metadata": {},
   "outputs": [],
   "source": [
    "pd.Series(it_tags_dict).to_csv('it_dict_syno.csv',\n",
    "                               header=False,\n",
    "                               index=False)"
   ]
  },
  {
   "cell_type": "code",
   "execution_count": null,
   "metadata": {},
   "outputs": [],
   "source": [
    "df_full.to_hdf('dataframe_syno_01.h5',\n",
    "               key='dataframe',\n",
    "               mode='w')"
   ]
  },
  {
   "cell_type": "markdown",
   "metadata": {
    "colab_type": "text",
    "id": "UIPiCDsZvo2a"
   },
   "source": [
    "# Visualisation"
   ]
  },
  {
   "cell_type": "code",
   "execution_count": null,
   "metadata": {
    "colab": {},
    "colab_type": "code",
    "id": "KxQ9_5fgSEJf"
   },
   "outputs": [],
   "source": [
    "df = pd.read_hdf('dataframe_syno_01.h5')\n",
    "it_tags_dict = pd.read_hdf('it_dict_syno.h5').values\n",
    "df.info()"
   ]
  },
  {
   "cell_type": "code",
   "execution_count": 33,
   "metadata": {},
   "outputs": [],
   "source": [
    "df = df_full.copy()"
   ]
  },
  {
   "cell_type": "code",
   "execution_count": 34,
   "metadata": {},
   "outputs": [
    {
     "data": {
      "text/html": [
       "<div>\n",
       "<style scoped>\n",
       "    .dataframe tbody tr th:only-of-type {\n",
       "        vertical-align: middle;\n",
       "    }\n",
       "\n",
       "    .dataframe tbody tr th {\n",
       "        vertical-align: top;\n",
       "    }\n",
       "\n",
       "    .dataframe thead th {\n",
       "        text-align: right;\n",
       "    }\n",
       "</style>\n",
       "<table border=\"1\" class=\"dataframe\">\n",
       "  <thead>\n",
       "    <tr style=\"text-align: right;\">\n",
       "      <th></th>\n",
       "      <th>Tags_stripped</th>\n",
       "      <th>Title_Body</th>\n",
       "      <th>Text</th>\n",
       "      <th>Tags_in_IT_dict</th>\n",
       "    </tr>\n",
       "  </thead>\n",
       "  <tbody>\n",
       "    <tr>\n",
       "      <th>0</th>\n",
       "      <td>[roslyn, debugging, c#, visual studio]</td>\n",
       "      <td>How to debug dll generated from Roslyn compila...</td>\n",
       "      <td>debugging dll roslyn compilation roslyn csharp...</td>\n",
       "      <td>[debugging, c#, visual studio]</td>\n",
       "    </tr>\n",
       "    <tr>\n",
       "      <th>1</th>\n",
       "      <td>[python, keras]</td>\n",
       "      <td>Understanding Regularization in Keras i am try...</td>\n",
       "      <td>regularization keras regularization keras roug...</td>\n",
       "      <td>[python, keras]</td>\n",
       "    </tr>\n",
       "    <tr>\n",
       "      <th>2</th>\n",
       "      <td>[image, python imaging library, imaging, jpeg,...</td>\n",
       "      <td>Spot the difference between these two images p...</td>\n",
       "      <td>spot programmatically detecting always rejecti...</td>\n",
       "      <td>[image, image processing, python]</td>\n",
       "    </tr>\n",
       "    <tr>\n",
       "      <th>3</th>\n",
       "      <td>[reactjs, material ui, html]</td>\n",
       "      <td>Disable the collapse action from a Material-UI...</td>\n",
       "      <td>disable collapse action material ui stepper bu...</td>\n",
       "      <td>[reactjs, material ui, html]</td>\n",
       "    </tr>\n",
       "    <tr>\n",
       "      <th>4</th>\n",
       "      <td>[haskell, haskell stack, cabal]</td>\n",
       "      <td>stack build results in \"output was redirected ...</td>\n",
       "      <td>stack redirected relevant google stack buildin...</td>\n",
       "      <td>[haskell]</td>\n",
       "    </tr>\n",
       "  </tbody>\n",
       "</table>\n",
       "</div>"
      ],
      "text/plain": [
       "                                       Tags_stripped  \\\n",
       "0             [roslyn, debugging, c#, visual studio]   \n",
       "1                                    [python, keras]   \n",
       "2  [image, python imaging library, imaging, jpeg,...   \n",
       "3                       [reactjs, material ui, html]   \n",
       "4                    [haskell, haskell stack, cabal]   \n",
       "\n",
       "                                          Title_Body  \\\n",
       "0  How to debug dll generated from Roslyn compila...   \n",
       "1  Understanding Regularization in Keras i am try...   \n",
       "2  Spot the difference between these two images p...   \n",
       "3  Disable the collapse action from a Material-UI...   \n",
       "4  stack build results in \"output was redirected ...   \n",
       "\n",
       "                                                Text  \\\n",
       "0  debugging dll roslyn compilation roslyn csharp...   \n",
       "1  regularization keras regularization keras roug...   \n",
       "2  spot programmatically detecting always rejecti...   \n",
       "3  disable collapse action material ui stepper bu...   \n",
       "4  stack redirected relevant google stack buildin...   \n",
       "\n",
       "                     Tags_in_IT_dict  \n",
       "0     [debugging, c#, visual studio]  \n",
       "1                    [python, keras]  \n",
       "2  [image, image processing, python]  \n",
       "3       [reactjs, material ui, html]  \n",
       "4                          [haskell]  "
      ]
     },
     "execution_count": 34,
     "metadata": {},
     "output_type": "execute_result"
    }
   ],
   "source": [
    "df.head()"
   ]
  },
  {
   "cell_type": "code",
   "execution_count": 35,
   "metadata": {},
   "outputs": [],
   "source": [
    "df[\"count\"] = df[\"Text\"].str.split().str.len()"
   ]
  },
  {
   "cell_type": "code",
   "execution_count": 36,
   "metadata": {},
   "outputs": [
    {
     "data": {
      "text/plain": [
       "3042"
      ]
     },
     "execution_count": 36,
     "metadata": {},
     "output_type": "execute_result"
    }
   ],
   "source": [
    "max(df[\"count\"])"
   ]
  },
  {
   "cell_type": "code",
   "execution_count": 37,
   "metadata": {},
   "outputs": [
    {
     "data": {
      "image/png": "[encoded data removed]",
      "text/plain": [
       "<Figure size 864x648 with 1 Axes>"
      ]
     },
     "metadata": {
      "needs_background": "light"
     },
     "output_type": "display_data"
    }
   ],
   "source": [
    "df['count'].plot(kind='hist',\n",
    "                 bins=150,\n",
    "                 figsize=(12, 9))\n",
    "plt.xlabel('Number of words')\n",
    "plt.ylabel('Number of texts')\n",
    "plt.title('Number of words distribution over texts - after cleaning',\n",
    "          y=1.02,\n",
    "          fontsize=18)\n",
    "plt.show()"
   ]
  },
  {
   "cell_type": "code",
   "execution_count": 38,
   "metadata": {},
   "outputs": [
    {
     "data": {
      "text/plain": [
       "0.009927272727272727"
      ]
     },
     "execution_count": 38,
     "metadata": {},
     "output_type": "execute_result"
    }
   ],
   "source": [
    "len(df[df[\"count\"] > 546])/len(df)"
   ]
  },
  {
   "cell_type": "code",
   "execution_count": 39,
   "metadata": {},
   "outputs": [],
   "source": [
    "def get_top_n_words(corpus, n=None):\n",
    "    vec = CountVectorizer().fit(corpus)\n",
    "    bow = vec.transform(corpus)\n",
    "    sum_words = bow.sum(axis=0)\n",
    "    words_freq = [(word, sum_words[0, ind])\n",
    "                  for word, ind in vec.vocabulary_.items()]\n",
    "    words_freq = pd.DataFrame(words_freq, columns=[\"word\", \"freq\"])\n",
    "    words_freq.set_index(\"word\", inplace=True)\n",
    "    return words_freq.sort_values(by=\"freq\", ascending=False)[:n]"
   ]
  },
  {
   "cell_type": "code",
   "execution_count": 40,
   "metadata": {},
   "outputs": [],
   "source": [
    "most_common_w = get_top_n_words(df[\"Text\"],\n",
    "                                100)"
   ]
  },
  {
   "cell_type": "code",
   "execution_count": 41,
   "metadata": {},
   "outputs": [
    {
     "data": {
      "image/png": "[encoded data removed]",
      "text/plain": [
       "<Figure size 864x648 with 1 Axes>"
      ]
     },
     "metadata": {
      "needs_background": "light"
     },
     "output_type": "display_data"
    }
   ],
   "source": [
    "most_common_w[0:30].plot(kind='bar',\n",
    "                         figsize=(12, 9))\n",
    "plt.xlabel('Words')\n",
    "plt.ylabel(\"Number of occurrences\")\n",
    "plt.title('Top 30 words - after cleaning',\n",
    "          y=1.02,\n",
    "          fontsize=18)\n",
    "plt.show()"
   ]
  },
  {
   "cell_type": "code",
   "execution_count": 42,
   "metadata": {},
   "outputs": [],
   "source": [
    "def get_top_n_bigram(corpus, n=None):\n",
    "    vec = CountVectorizer(ngram_range=(2, 2),\n",
    "                          stop_words=sw).fit(corpus)\n",
    "    bow = vec.transform(corpus)\n",
    "    sum_words = bow.sum(axis=0)\n",
    "    words_freq = [(word, sum_words[0, ind])\n",
    "                  for word, ind in vec.vocabulary_.items()]\n",
    "    words_freq = pd.DataFrame(words_freq, columns=[\"word\", \"freq\"])\n",
    "    words_freq.set_index(\"word\", inplace=True)\n",
    "    return words_freq.sort_values(by=\"freq\", ascending=False)[:n]"
   ]
  },
  {
   "cell_type": "code",
   "execution_count": 43,
   "metadata": {},
   "outputs": [],
   "source": [
    "most_common_bi = get_top_n_bigram(df[\"Text\"], 100)"
   ]
  },
  {
   "cell_type": "code",
   "execution_count": 44,
   "metadata": {},
   "outputs": [
    {
     "data": {
      "image/png": "[encoded data removed]",
      "text/plain": [
       "<Figure size 864x648 with 1 Axes>"
      ]
     },
     "metadata": {
      "needs_background": "light"
     },
     "output_type": "display_data"
    }
   ],
   "source": [
    "most_common_bi[:30].plot(kind='bar', figsize=(12, 9))\n",
    "plt.xlabel('Words')\n",
    "plt.ylabel(\"Number of occurrences\")\n",
    "plt.title('Top 30 bigrams - after cleaning', y=1.02, fontsize=18)\n",
    "plt.show()"
   ]
  },
  {
   "cell_type": "markdown",
   "metadata": {
    "colab": {},
    "colab_type": "code",
    "id": "LtcZrw9Sull7"
   },
   "source": [
    "# Lemmatisation / Racinisation"
   ]
  },
  {
   "cell_type": "code",
   "execution_count": 45,
   "metadata": {},
   "outputs": [],
   "source": [
    "lemmatizer = nltk.stem.WordNetLemmatizer()\n",
    "stem_porter = nltk.stem.PorterStemmer()\n",
    "stem_lanca = nltk.stem.LancasterStemmer()\n",
    "\n",
    "for ind in df.index:\n",
    "    df.at[ind, 'Text_lemmatized'] = lemmatizer.lemmatize(df[\"Text\"].loc[ind])\n",
    "    df.at[ind, 'Text_stem_porter'] = stem_porter.stem(df[\"Text\"].loc[ind])\n",
    "    df.at[ind, 'Text_stem_lanca'] = stem_lanca.stem(df[\"Text\"].loc[ind])"
   ]
  },
  {
   "cell_type": "code",
   "execution_count": 46,
   "metadata": {},
   "outputs": [
    {
     "data": {
      "text/html": [
       "<div>\n",
       "<style scoped>\n",
       "    .dataframe tbody tr th:only-of-type {\n",
       "        vertical-align: middle;\n",
       "    }\n",
       "\n",
       "    .dataframe tbody tr th {\n",
       "        vertical-align: top;\n",
       "    }\n",
       "\n",
       "    .dataframe thead th {\n",
       "        text-align: right;\n",
       "    }\n",
       "</style>\n",
       "<table border=\"1\" class=\"dataframe\">\n",
       "  <thead>\n",
       "    <tr style=\"text-align: right;\">\n",
       "      <th></th>\n",
       "      <th>Tags_stripped</th>\n",
       "      <th>Title_Body</th>\n",
       "      <th>Text</th>\n",
       "      <th>Tags_in_IT_dict</th>\n",
       "      <th>count</th>\n",
       "      <th>Text_lemmatized</th>\n",
       "      <th>Text_stem_porter</th>\n",
       "      <th>Text_stem_lanca</th>\n",
       "    </tr>\n",
       "  </thead>\n",
       "  <tbody>\n",
       "    <tr>\n",
       "      <th>0</th>\n",
       "      <td>[roslyn, debugging, c#, visual studio]</td>\n",
       "      <td>How to debug dll generated from Roslyn compila...</td>\n",
       "      <td>debugging dll roslyn compilation roslyn csharp...</td>\n",
       "      <td>[debugging, c#, visual studio]</td>\n",
       "      <td>39</td>\n",
       "      <td>debugging dll roslyn compilation roslyn csharp...</td>\n",
       "      <td>debugging dll roslyn compilation roslyn csharp...</td>\n",
       "      <td>debugging dll roslyn compilation roslyn csharp...</td>\n",
       "    </tr>\n",
       "    <tr>\n",
       "      <th>1</th>\n",
       "      <td>[python, keras]</td>\n",
       "      <td>Understanding Regularization in Keras i am try...</td>\n",
       "      <td>regularization keras regularization keras roug...</td>\n",
       "      <td>[python, keras]</td>\n",
       "      <td>96</td>\n",
       "      <td>regularization keras regularization keras roug...</td>\n",
       "      <td>regularization keras regularization keras roug...</td>\n",
       "      <td>regularization keras regularization keras roug...</td>\n",
       "    </tr>\n",
       "    <tr>\n",
       "      <th>2</th>\n",
       "      <td>[image, python imaging library, imaging, jpeg,...</td>\n",
       "      <td>Spot the difference between these two images p...</td>\n",
       "      <td>spot programmatically detecting always rejecti...</td>\n",
       "      <td>[image, image processing, python]</td>\n",
       "      <td>296</td>\n",
       "      <td>spot programmatically detecting always rejecti...</td>\n",
       "      <td>spot programmatically detecting always rejecti...</td>\n",
       "      <td>spot programmatically detecting always rejecti...</td>\n",
       "    </tr>\n",
       "    <tr>\n",
       "      <th>3</th>\n",
       "      <td>[reactjs, material ui, html]</td>\n",
       "      <td>Disable the collapse action from a Material-UI...</td>\n",
       "      <td>disable collapse action material ui stepper bu...</td>\n",
       "      <td>[reactjs, material ui, html]</td>\n",
       "      <td>31</td>\n",
       "      <td>disable collapse action material ui stepper bu...</td>\n",
       "      <td>disable collapse action material ui stepper bu...</td>\n",
       "      <td>disable collapse action material ui stepper bu...</td>\n",
       "    </tr>\n",
       "    <tr>\n",
       "      <th>4</th>\n",
       "      <td>[haskell, haskell stack, cabal]</td>\n",
       "      <td>stack build results in \"output was redirected ...</td>\n",
       "      <td>stack redirected relevant google stack buildin...</td>\n",
       "      <td>[haskell]</td>\n",
       "      <td>198</td>\n",
       "      <td>stack redirected relevant google stack buildin...</td>\n",
       "      <td>stack redirected relevant google stack buildin...</td>\n",
       "      <td>stack redirected relevant google stack buildin...</td>\n",
       "    </tr>\n",
       "  </tbody>\n",
       "</table>\n",
       "</div>"
      ],
      "text/plain": [
       "                                       Tags_stripped  \\\n",
       "0             [roslyn, debugging, c#, visual studio]   \n",
       "1                                    [python, keras]   \n",
       "2  [image, python imaging library, imaging, jpeg,...   \n",
       "3                       [reactjs, material ui, html]   \n",
       "4                    [haskell, haskell stack, cabal]   \n",
       "\n",
       "                                          Title_Body  \\\n",
       "0  How to debug dll generated from Roslyn compila...   \n",
       "1  Understanding Regularization in Keras i am try...   \n",
       "2  Spot the difference between these two images p...   \n",
       "3  Disable the collapse action from a Material-UI...   \n",
       "4  stack build results in \"output was redirected ...   \n",
       "\n",
       "                                                Text  \\\n",
       "0  debugging dll roslyn compilation roslyn csharp...   \n",
       "1  regularization keras regularization keras roug...   \n",
       "2  spot programmatically detecting always rejecti...   \n",
       "3  disable collapse action material ui stepper bu...   \n",
       "4  stack redirected relevant google stack buildin...   \n",
       "\n",
       "                     Tags_in_IT_dict  count  \\\n",
       "0     [debugging, c#, visual studio]     39   \n",
       "1                    [python, keras]     96   \n",
       "2  [image, image processing, python]    296   \n",
       "3       [reactjs, material ui, html]     31   \n",
       "4                          [haskell]    198   \n",
       "\n",
       "                                     Text_lemmatized  \\\n",
       "0  debugging dll roslyn compilation roslyn csharp...   \n",
       "1  regularization keras regularization keras roug...   \n",
       "2  spot programmatically detecting always rejecti...   \n",
       "3  disable collapse action material ui stepper bu...   \n",
       "4  stack redirected relevant google stack buildin...   \n",
       "\n",
       "                                    Text_stem_porter  \\\n",
       "0  debugging dll roslyn compilation roslyn csharp...   \n",
       "1  regularization keras regularization keras roug...   \n",
       "2  spot programmatically detecting always rejecti...   \n",
       "3  disable collapse action material ui stepper bu...   \n",
       "4  stack redirected relevant google stack buildin...   \n",
       "\n",
       "                                     Text_stem_lanca  \n",
       "0  debugging dll roslyn compilation roslyn csharp...  \n",
       "1  regularization keras regularization keras roug...  \n",
       "2  spot programmatically detecting always rejecti...  \n",
       "3  disable collapse action material ui stepper bu...  \n",
       "4  stack redirected relevant google stack buildin...  "
      ]
     },
     "execution_count": 46,
     "metadata": {},
     "output_type": "execute_result"
    }
   ],
   "source": [
    "df.head()"
   ]
  },
  {
   "cell_type": "code",
   "execution_count": 59,
   "metadata": {},
   "outputs": [],
   "source": [
    "df.drop(columns=[\"Title_Body\", \"count\"], inplace=True)\n",
    "df.to_hdf(\"dataframe_clean.h5\", key=\"dataframe\", mode=\"w\")"
   ]
  }
 ],
 "metadata": {
  "colab": {
   "name": "01_Exploration_FavCount.ipynb",
   "provenance": [],
   "toc_visible": true
  },
  "kernelspec": {
   "display_name": "Python 3",
   "language": "python",
   "name": "python3"
  },
  "language_info": {
   "codemirror_mode": {
    "name": "ipython",
    "version": 3
   },
   "file_extension": ".py",
   "mimetype": "text/x-python",
   "name": "python",
   "nbconvert_exporter": "python",
   "pygments_lexer": "ipython3",
   "version": "3.7.7"
  }
 },
 "nbformat": 4,
 "nbformat_minor": 4
}
